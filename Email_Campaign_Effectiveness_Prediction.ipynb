{
  "nbformat": 4,
  "nbformat_minor": 0,
  "metadata": {
    "colab": {
      "name": "Email Campaign Effectiveness Prediction.ipynb",
      "provenance": [],
      "collapsed_sections": [],
      "mount_file_id": "13DC1LyC6zSGWC4epbmMivQ_z-KWIWGY3",
      "authorship_tag": "ABX9TyPErzD5DQZEiu39bCco1XUI",
      "include_colab_link": true
    },
    "kernelspec": {
      "name": "python3",
      "display_name": "Python 3"
    },
    "language_info": {
      "name": "python"
    }
  },
  "cells": [
    {
      "cell_type": "markdown",
      "metadata": {
        "id": "view-in-github",
        "colab_type": "text"
      },
      "source": [
        "<a href=\"https://colab.research.google.com/github/Subhajit53/Email-Campaign-Effectiveness-Prediction/blob/main/Email_Campaign_Effectiveness_Prediction.ipynb\" target=\"_parent\"><img src=\"https://colab.research.google.com/assets/colab-badge.svg\" alt=\"Open In Colab\"/></a>"
      ]
    },
    {
      "cell_type": "markdown",
      "source": [
        "# <b><u> Project Title : Email Campaign Effectiveness Prediction : Characterize the mail and track the mail</u></b>"
      ],
      "metadata": {
        "id": "K5yNIs6ObzqQ"
      }
    },
    {
      "cell_type": "markdown",
      "source": [
        "## <b> Problem Description </b>\n",
        "\n",
        "### Most of the small to medium business owners are making effective use of Gmail-based Email marketing Strategies for offline targeting of converting their prospective customers into leads so that they stay with them in Business. The main objective is to create a machine learning model to characterize the mail and track the mail that is ignored; read; acknowledged by the reader."
      ],
      "metadata": {
        "id": "NDWfk-hscSIF"
      }
    },
    {
      "cell_type": "markdown",
      "source": [
        "## <b> Data Description </b>\n",
        "\n",
        "### Number of observations : 68353\n",
        "\n",
        "### <b> Columns : </b>\n",
        "\n",
        "1.   Email_ID : Unique identifier of emails sent\n",
        "2.   Email_Type : Type of email encoded as 1 and 2   \n",
        "3.   Subject_Hotness_Score : A score between 0 to 5 for hotness of the email topic\n",
        "4.   Email_Source_Type : Source of email encoded as 1 and 2\n",
        "5.   Customer_Location : Location of customer encoded as A,B,C,D,E,F,G\n",
        "6.   Email_Campaign_Type : Type of campaign encoded as 1, 2 and 3\n",
        "7.   Total_Past_Communications : Number of past communications\n",
        "8.   Time_Email_sent_Category\t: Time at which email email was sent encoded as 1, 2 and 3\n",
        "9.   Word_Count : Words in the email\n",
        "10.   Total_Links : Number of links in the email\n",
        "11.   Total_Images : Number of images in the email\n",
        "12.   Email_Status : Email status encoded as 0 : ignored, 1 : read, 2 : acknowledged\n",
        "\n",
        "\n",
        "\n",
        "\n",
        "\n",
        "\n",
        "\n"
      ],
      "metadata": {
        "id": "oNA7MlGQcj8I"
      }
    },
    {
      "cell_type": "markdown",
      "source": [
        "# **Introduction :**\n",
        "##### An email campaign is a sequence of marketing efforts that contacts multiple recipients at once. Email campaigns are designed to reach out to subscribers at the best time and provide valuable content and relevant offers. Using email campaigns allows you to build deep and trusting relationships with your customers.\n",
        "\n",
        "##### There are multiple factors that are working behind success of an email campaign like email contents, time at which email was sent, length of the email etc.\n",
        "\n",
        "##### Here, I want to build a classification model to predict whether any particular campaign email is going blind or hitting the target."
      ],
      "metadata": {
        "id": "WOibGQcp3c00"
      }
    },
    {
      "cell_type": "markdown",
      "source": [
        "# **Approach :**\n",
        "##### To solve the problem, I have devised a 3-step approach below:\n",
        "\n",
        "#### **1. Basic EDA :**\n",
        "##### In this step, I want to do some exploration on the data. First, I shall check for null values and try to replace or remove them. Then, I shall check for outliers using boxplots and try to replace or remove them. Thirdly, I shall get some visualizations to get an idea of the variables in hand.\n",
        "\n",
        "\n",
        "#### **2. Model training and testing :**\n",
        "##### In this step, I shall get a train-test pair from the given dataset and fit 5 classification models to the train set, make predictions on the test set using them and calculate various evaluation metrics. The models are namely : Decision Trees, Random Forests, Gradient Boosting Machine, Support Vector Machines, Naive-Bayes Classifier.\n",
        "\n",
        "**Note:** A point to be noted here. We can't fit a logistic regression here as this is a multi-class (>2) classification problem.\n",
        "\n",
        "#### **3. Model Evaluation :**\n",
        "##### As the last step, I shall compare all the models and try to come up with a conclusion about which model might be the best choice here."
      ],
      "metadata": {
        "id": "etPiIBnH5Bjx"
      }
    },
    {
      "cell_type": "markdown",
      "source": [
        "# **Analysis:**"
      ],
      "metadata": {
        "id": "FmTP1gsM6DlO"
      }
    },
    {
      "cell_type": "markdown",
      "source": [
        "### **Data Exporting and exploration :**"
      ],
      "metadata": {
        "id": "g67KIpuO6GC1"
      }
    },
    {
      "cell_type": "code",
      "source": [
        "# Importing essential libraries\n",
        "import pandas as pd\n",
        "import numpy as np"
      ],
      "metadata": {
        "id": "kGvYGqnBc-eJ"
      },
      "execution_count": null,
      "outputs": []
    },
    {
      "cell_type": "code",
      "source": [
        "# Mounting drive\n",
        "from google.colab import drive\n",
        "drive.mount('/content/drive')"
      ],
      "metadata": {
        "id": "yXvqDqLidGmH"
      },
      "execution_count": null,
      "outputs": []
    },
    {
      "cell_type": "code",
      "source": [
        "# Reading the dataset\n",
        "df = pd.read_csv('/content/drive/MyDrive/Classification Project/Copy of data_email_campaign.csv', index_col='Email_ID')"
      ],
      "metadata": {
        "id": "QzYbEuQhdNnF"
      },
      "execution_count": 62,
      "outputs": []
    },
    {
      "cell_type": "code",
      "source": [
        "# Getting a glimpse of the data\n",
        "df.head()"
      ],
      "metadata": {
        "colab": {
          "base_uri": "https://localhost:8080/",
          "height": 302
        },
        "id": "kWxKRRm4dUDj",
        "outputId": "16c95c20-83d3-41bc-e580-e252f35c3b92"
      },
      "execution_count": null,
      "outputs": [
        {
          "output_type": "execute_result",
          "data": {
            "text/html": [
              "\n",
              "  <div id=\"df-f16a749f-3bde-4d7d-b7b0-393b95e09b61\">\n",
              "    <div class=\"colab-df-container\">\n",
              "      <div>\n",
              "<style scoped>\n",
              "    .dataframe tbody tr th:only-of-type {\n",
              "        vertical-align: middle;\n",
              "    }\n",
              "\n",
              "    .dataframe tbody tr th {\n",
              "        vertical-align: top;\n",
              "    }\n",
              "\n",
              "    .dataframe thead th {\n",
              "        text-align: right;\n",
              "    }\n",
              "</style>\n",
              "<table border=\"1\" class=\"dataframe\">\n",
              "  <thead>\n",
              "    <tr style=\"text-align: right;\">\n",
              "      <th></th>\n",
              "      <th>Email_Type</th>\n",
              "      <th>Subject_Hotness_Score</th>\n",
              "      <th>Email_Source_Type</th>\n",
              "      <th>Customer_Location</th>\n",
              "      <th>Email_Campaign_Type</th>\n",
              "      <th>Total_Past_Communications</th>\n",
              "      <th>Time_Email_sent_Category</th>\n",
              "      <th>Word_Count</th>\n",
              "      <th>Total_Links</th>\n",
              "      <th>Total_Images</th>\n",
              "      <th>Email_Status</th>\n",
              "    </tr>\n",
              "    <tr>\n",
              "      <th>Email_ID</th>\n",
              "      <th></th>\n",
              "      <th></th>\n",
              "      <th></th>\n",
              "      <th></th>\n",
              "      <th></th>\n",
              "      <th></th>\n",
              "      <th></th>\n",
              "      <th></th>\n",
              "      <th></th>\n",
              "      <th></th>\n",
              "      <th></th>\n",
              "    </tr>\n",
              "  </thead>\n",
              "  <tbody>\n",
              "    <tr>\n",
              "      <th>EMA00081000034500</th>\n",
              "      <td>1</td>\n",
              "      <td>2.2</td>\n",
              "      <td>2</td>\n",
              "      <td>E</td>\n",
              "      <td>2</td>\n",
              "      <td>33.0</td>\n",
              "      <td>1</td>\n",
              "      <td>440</td>\n",
              "      <td>8.0</td>\n",
              "      <td>0.0</td>\n",
              "      <td>0</td>\n",
              "    </tr>\n",
              "    <tr>\n",
              "      <th>EMA00081000045360</th>\n",
              "      <td>2</td>\n",
              "      <td>2.1</td>\n",
              "      <td>1</td>\n",
              "      <td>NaN</td>\n",
              "      <td>2</td>\n",
              "      <td>15.0</td>\n",
              "      <td>2</td>\n",
              "      <td>504</td>\n",
              "      <td>5.0</td>\n",
              "      <td>0.0</td>\n",
              "      <td>0</td>\n",
              "    </tr>\n",
              "    <tr>\n",
              "      <th>EMA00081000066290</th>\n",
              "      <td>2</td>\n",
              "      <td>0.1</td>\n",
              "      <td>1</td>\n",
              "      <td>B</td>\n",
              "      <td>3</td>\n",
              "      <td>36.0</td>\n",
              "      <td>2</td>\n",
              "      <td>962</td>\n",
              "      <td>5.0</td>\n",
              "      <td>0.0</td>\n",
              "      <td>1</td>\n",
              "    </tr>\n",
              "    <tr>\n",
              "      <th>EMA00081000076560</th>\n",
              "      <td>1</td>\n",
              "      <td>3.0</td>\n",
              "      <td>2</td>\n",
              "      <td>E</td>\n",
              "      <td>2</td>\n",
              "      <td>25.0</td>\n",
              "      <td>2</td>\n",
              "      <td>610</td>\n",
              "      <td>16.0</td>\n",
              "      <td>0.0</td>\n",
              "      <td>0</td>\n",
              "    </tr>\n",
              "    <tr>\n",
              "      <th>EMA00081000109720</th>\n",
              "      <td>1</td>\n",
              "      <td>0.0</td>\n",
              "      <td>2</td>\n",
              "      <td>C</td>\n",
              "      <td>3</td>\n",
              "      <td>18.0</td>\n",
              "      <td>2</td>\n",
              "      <td>947</td>\n",
              "      <td>4.0</td>\n",
              "      <td>0.0</td>\n",
              "      <td>0</td>\n",
              "    </tr>\n",
              "  </tbody>\n",
              "</table>\n",
              "</div>\n",
              "      <button class=\"colab-df-convert\" onclick=\"convertToInteractive('df-f16a749f-3bde-4d7d-b7b0-393b95e09b61')\"\n",
              "              title=\"Convert this dataframe to an interactive table.\"\n",
              "              style=\"display:none;\">\n",
              "        \n",
              "  <svg xmlns=\"http://www.w3.org/2000/svg\" height=\"24px\"viewBox=\"0 0 24 24\"\n",
              "       width=\"24px\">\n",
              "    <path d=\"M0 0h24v24H0V0z\" fill=\"none\"/>\n",
              "    <path d=\"M18.56 5.44l.94 2.06.94-2.06 2.06-.94-2.06-.94-.94-2.06-.94 2.06-2.06.94zm-11 1L8.5 8.5l.94-2.06 2.06-.94-2.06-.94L8.5 2.5l-.94 2.06-2.06.94zm10 10l.94 2.06.94-2.06 2.06-.94-2.06-.94-.94-2.06-.94 2.06-2.06.94z\"/><path d=\"M17.41 7.96l-1.37-1.37c-.4-.4-.92-.59-1.43-.59-.52 0-1.04.2-1.43.59L10.3 9.45l-7.72 7.72c-.78.78-.78 2.05 0 2.83L4 21.41c.39.39.9.59 1.41.59.51 0 1.02-.2 1.41-.59l7.78-7.78 2.81-2.81c.8-.78.8-2.07 0-2.86zM5.41 20L4 18.59l7.72-7.72 1.47 1.35L5.41 20z\"/>\n",
              "  </svg>\n",
              "      </button>\n",
              "      \n",
              "  <style>\n",
              "    .colab-df-container {\n",
              "      display:flex;\n",
              "      flex-wrap:wrap;\n",
              "      gap: 12px;\n",
              "    }\n",
              "\n",
              "    .colab-df-convert {\n",
              "      background-color: #E8F0FE;\n",
              "      border: none;\n",
              "      border-radius: 50%;\n",
              "      cursor: pointer;\n",
              "      display: none;\n",
              "      fill: #1967D2;\n",
              "      height: 32px;\n",
              "      padding: 0 0 0 0;\n",
              "      width: 32px;\n",
              "    }\n",
              "\n",
              "    .colab-df-convert:hover {\n",
              "      background-color: #E2EBFA;\n",
              "      box-shadow: 0px 1px 2px rgba(60, 64, 67, 0.3), 0px 1px 3px 1px rgba(60, 64, 67, 0.15);\n",
              "      fill: #174EA6;\n",
              "    }\n",
              "\n",
              "    [theme=dark] .colab-df-convert {\n",
              "      background-color: #3B4455;\n",
              "      fill: #D2E3FC;\n",
              "    }\n",
              "\n",
              "    [theme=dark] .colab-df-convert:hover {\n",
              "      background-color: #434B5C;\n",
              "      box-shadow: 0px 1px 3px 1px rgba(0, 0, 0, 0.15);\n",
              "      filter: drop-shadow(0px 1px 2px rgba(0, 0, 0, 0.3));\n",
              "      fill: #FFFFFF;\n",
              "    }\n",
              "  </style>\n",
              "\n",
              "      <script>\n",
              "        const buttonEl =\n",
              "          document.querySelector('#df-f16a749f-3bde-4d7d-b7b0-393b95e09b61 button.colab-df-convert');\n",
              "        buttonEl.style.display =\n",
              "          google.colab.kernel.accessAllowed ? 'block' : 'none';\n",
              "\n",
              "        async function convertToInteractive(key) {\n",
              "          const element = document.querySelector('#df-f16a749f-3bde-4d7d-b7b0-393b95e09b61');\n",
              "          const dataTable =\n",
              "            await google.colab.kernel.invokeFunction('convertToInteractive',\n",
              "                                                     [key], {});\n",
              "          if (!dataTable) return;\n",
              "\n",
              "          const docLinkHtml = 'Like what you see? Visit the ' +\n",
              "            '<a target=\"_blank\" href=https://colab.research.google.com/notebooks/data_table.ipynb>data table notebook</a>'\n",
              "            + ' to learn more about interactive tables.';\n",
              "          element.innerHTML = '';\n",
              "          dataTable['output_type'] = 'display_data';\n",
              "          await google.colab.output.renderOutput(dataTable, element);\n",
              "          const docLink = document.createElement('div');\n",
              "          docLink.innerHTML = docLinkHtml;\n",
              "          element.appendChild(docLink);\n",
              "        }\n",
              "      </script>\n",
              "    </div>\n",
              "  </div>\n",
              "  "
            ],
            "text/plain": [
              "                   Email_Type  ...  Email_Status\n",
              "Email_ID                       ...              \n",
              "EMA00081000034500           1  ...             0\n",
              "EMA00081000045360           2  ...             0\n",
              "EMA00081000066290           2  ...             1\n",
              "EMA00081000076560           1  ...             0\n",
              "EMA00081000109720           1  ...             0\n",
              "\n",
              "[5 rows x 11 columns]"
            ]
          },
          "metadata": {},
          "execution_count": 3
        }
      ]
    },
    {
      "cell_type": "code",
      "source": [
        "# Getting the shape of the data\n",
        "df.shape"
      ],
      "metadata": {
        "colab": {
          "base_uri": "https://localhost:8080/"
        },
        "id": "c5Kjx6L-6O8V",
        "outputId": "8431d936-d569-4f18-daf0-1e4535a3a41b"
      },
      "execution_count": null,
      "outputs": [
        {
          "output_type": "execute_result",
          "data": {
            "text/plain": [
              "(68353, 11)"
            ]
          },
          "metadata": {},
          "execution_count": 6
        }
      ]
    },
    {
      "cell_type": "code",
      "source": [
        "# Getting a short info of the data\n",
        "df.info()"
      ],
      "metadata": {
        "colab": {
          "base_uri": "https://localhost:8080/"
        },
        "id": "XqxyR-f5did8",
        "outputId": "4384692f-b385-4990-ede3-498791bc8e7f"
      },
      "execution_count": null,
      "outputs": [
        {
          "output_type": "stream",
          "name": "stdout",
          "text": [
            "<class 'pandas.core.frame.DataFrame'>\n",
            "Index: 68353 entries, EMA00081000034500 to EMA00089999316900\n",
            "Data columns (total 11 columns):\n",
            " #   Column                     Non-Null Count  Dtype  \n",
            "---  ------                     --------------  -----  \n",
            " 0   Email_Type                 68353 non-null  int64  \n",
            " 1   Subject_Hotness_Score      68353 non-null  float64\n",
            " 2   Email_Source_Type          68353 non-null  int64  \n",
            " 3   Customer_Location          56758 non-null  object \n",
            " 4   Email_Campaign_Type        68353 non-null  int64  \n",
            " 5   Total_Past_Communications  61528 non-null  float64\n",
            " 6   Time_Email_sent_Category   68353 non-null  int64  \n",
            " 7   Word_Count                 68353 non-null  int64  \n",
            " 8   Total_Links                66152 non-null  float64\n",
            " 9   Total_Images               66676 non-null  float64\n",
            " 10  Email_Status               68353 non-null  int64  \n",
            "dtypes: float64(4), int64(6), object(1)\n",
            "memory usage: 6.3+ MB\n"
          ]
        }
      ]
    },
    {
      "cell_type": "markdown",
      "source": [
        "## **1. Basic EDA :**"
      ],
      "metadata": {
        "id": "X7eXeU4Z6KJt"
      }
    },
    {
      "cell_type": "markdown",
      "source": [
        "From the data shape and info it is clear that there are some null values in the dataset. Let's have a look at them and see what we can do to impute them."
      ],
      "metadata": {
        "id": "Ee7DQlnF6RFO"
      }
    },
    {
      "cell_type": "markdown",
      "source": [
        "The columns with missing values are :\n",
        "\n",
        "1.   Customer_Location (Categorical)\n",
        "2.   Total_Past_Communications (Numerical)\n",
        "3.   Total_Links (Numerical)\n",
        "4.   Total_Images (Numerical)\n",
        "\n"
      ],
      "metadata": {
        "id": "ukA-Smw0618F"
      }
    },
    {
      "cell_type": "markdown",
      "source": [
        "We can do one thing here. We can first get dummy features on categorical column and then use KNNImputer to impute the missing values."
      ],
      "metadata": {
        "id": "7zvetaRe7Mx0"
      }
    },
    {
      "cell_type": "code",
      "source": [
        "df_with_dummy = pd.get_dummies(df, prefix = '', prefix_sep = '')"
      ],
      "metadata": {
        "id": "VQJ6dMZ6GFqV"
      },
      "execution_count": 63,
      "outputs": []
    },
    {
      "cell_type": "code",
      "source": [
        "# Imputing missing data using KNN Imputer\n",
        "from sklearn.impute import KNNImputer\n",
        "imputer = KNNImputer(n_neighbors = 3)\n",
        "df_with_no_na = imputer.fit_transform(df_with_dummy)"
      ],
      "metadata": {
        "id": "x5KWp6LQ73KH"
      },
      "execution_count": 64,
      "outputs": []
    },
    {
      "cell_type": "code",
      "source": [
        "df_with_no_na = pd.DataFrame(df_with_no_na, columns = df_with_dummy.columns)"
      ],
      "metadata": {
        "id": "54HHYIy6IeUQ"
      },
      "execution_count": 66,
      "outputs": []
    },
    {
      "cell_type": "markdown",
      "source": [
        "Cool! Now let's impute the new modified columns to the main dataset."
      ],
      "metadata": {
        "id": "XUwavl2hJeEO"
      }
    },
    {
      "cell_type": "code",
      "source": [
        "# Replace columns with na values\n",
        "df['Total_Past_Communications'] = df_with_no_na['Total_Past_Communications'].values\n",
        "df['Total_Links'] = df_with_no_na['Total_Links'].values\n",
        "df['Total_Images'] = df_with_no_na['Total_Images'].values"
      ],
      "metadata": {
        "id": "M51lIxFRJrGk"
      },
      "execution_count": 84,
      "outputs": []
    },
    {
      "cell_type": "code",
      "source": [
        "# Check the info again\n",
        "df.info()"
      ],
      "metadata": {
        "colab": {
          "base_uri": "https://localhost:8080/"
        },
        "id": "D7ENN4t0JzE4",
        "outputId": "79e4b334-c45c-421a-e04e-fd9336d84d51"
      },
      "execution_count": 83,
      "outputs": [
        {
          "output_type": "stream",
          "name": "stdout",
          "text": [
            "<class 'pandas.core.frame.DataFrame'>\n",
            "Index: 68353 entries, EMA00081000034500 to EMA00089999316900\n",
            "Data columns (total 11 columns):\n",
            " #   Column                     Non-Null Count  Dtype  \n",
            "---  ------                     --------------  -----  \n",
            " 0   Email_Type                 68353 non-null  int64  \n",
            " 1   Subject_Hotness_Score      68353 non-null  float64\n",
            " 2   Email_Source_Type          68353 non-null  int64  \n",
            " 3   Customer_Location          56758 non-null  object \n",
            " 4   Email_Campaign_Type        68353 non-null  int64  \n",
            " 5   Total_Past_Communications  68353 non-null  float64\n",
            " 6   Time_Email_sent_Category   68353 non-null  int64  \n",
            " 7   Word_Count                 68353 non-null  int64  \n",
            " 8   Total_Links                68353 non-null  float64\n",
            " 9   Total_Images               68353 non-null  float64\n",
            " 10  Email_Status               68353 non-null  int64  \n",
            "dtypes: float64(4), int64(6), object(1)\n",
            "memory usage: 6.3+ MB\n"
          ]
        }
      ]
    },
    {
      "cell_type": "markdown",
      "source": [
        "Awesome! Now let's do something about the categorical column. I am going to use ML to solve this problem. I will build a simple Decision Trees model to predict Customer Location based on other features which will be trained on non-null observations and will predict on null observations."
      ],
      "metadata": {
        "id": "veG-KhfyKppN"
      }
    }
  ]
}