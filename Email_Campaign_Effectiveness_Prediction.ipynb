{
  "nbformat": 4,
  "nbformat_minor": 0,
  "metadata": {
    "colab": {
      "name": "Email Campaign Effectiveness Prediction.ipynb",
      "provenance": [],
      "collapsed_sections": [],
      "mount_file_id": "13DC1LyC6zSGWC4epbmMivQ_z-KWIWGY3",
      "authorship_tag": "ABX9TyPrKyOdgCKt454wbEwuBoBR",
      "include_colab_link": true
    },
    "kernelspec": {
      "name": "python3",
      "display_name": "Python 3"
    },
    "language_info": {
      "name": "python"
    }
  },
  "cells": [
    {
      "cell_type": "markdown",
      "metadata": {
        "id": "view-in-github",
        "colab_type": "text"
      },
      "source": [
        "<a href=\"https://colab.research.google.com/github/Subhajit53/Email-Campaign-Effectiveness-Prediction/blob/main/Email_Campaign_Effectiveness_Prediction.ipynb\" target=\"_parent\"><img src=\"https://colab.research.google.com/assets/colab-badge.svg\" alt=\"Open In Colab\"/></a>"
      ]
    },
    {
      "cell_type": "markdown",
      "source": [
        "# <b><u> Project Title : Email Campaign Effectiveness Prediction : Characterize the mail and track the mail</u></b>"
      ],
      "metadata": {
        "id": "K5yNIs6ObzqQ"
      }
    },
    {
      "cell_type": "markdown",
      "source": [
        "## <b> Problem Description </b>\n",
        "\n",
        "### Most of the small to medium business owners are making effective use of Gmail-based Email marketing Strategies for offline targeting of converting their prospective customers into leads so that they stay with them in Business. The main objective is to create a machine learning model to characterize the mail and track the mail that is ignored; read; acknowledged by the reader."
      ],
      "metadata": {
        "id": "NDWfk-hscSIF"
      }
    },
    {
      "cell_type": "markdown",
      "source": [
        "## <b> Data Description </b>\n",
        "\n",
        "### Number of observations : 68353\n",
        "\n",
        "### <b> Columns : </b>\n",
        "\n",
        "1.   Email_ID : Unique identifier of emails sent\n",
        "2.   Email_Type : Type of email encoded as 1 and 2   \n",
        "3.   Subject_Hotness_Score : A score between 0 to 5 for hotness of the email topic\n",
        "4.   Email_Source_Type : Source of email encoded as 1 and 2\n",
        "5.   Customer_Location : Location of customer encoded as A,B,C,D,E,F,G\n",
        "6.   Email_Campaign_Type : Type of campaign encoded as 1, 2 and 3\n",
        "7.   Total_Past_Communications : Number of past communications\n",
        "8.   Time_Email_sent_Category\t: Time at which email email was sent encoded as 1, 2 and 3\n",
        "9.   Word_Count : Words in the email\n",
        "10.   Total_Links : Number of links in the email\n",
        "11.   Total_Images : Number of images in the email\n",
        "12.   Email_Status : Email status encoded as 0 : ignored, 1 : read, 2 : acknowledged\n",
        "\n",
        "\n",
        "\n",
        "\n",
        "\n",
        "\n",
        "\n"
      ],
      "metadata": {
        "id": "oNA7MlGQcj8I"
      }
    },
    {
      "cell_type": "markdown",
      "source": [
        "# **Introduction :**\n",
        "##### An email campaign is a sequence of marketing efforts that contacts multiple recipients at once. Email campaigns are designed to reach out to subscribers at the best time and provide valuable content and relevant offers. Using email campaigns allows you to build deep and trusting relationships with your customers.\n",
        "\n",
        "##### There are multiple factors that are working behind success of an email campaign like email contents, time at which email was sent, length of the email etc.\n",
        "\n",
        "##### Here, I want to build a classification model to predict whether any particular campaign email is going blind or hitting the target."
      ],
      "metadata": {
        "id": "WOibGQcp3c00"
      }
    },
    {
      "cell_type": "markdown",
      "source": [
        "# **Approach :**\n",
        "##### To solve the problem, I have devised a 3-step approach below:\n",
        "\n",
        "#### **1. Basic EDA :**\n",
        "##### In this step, I want to do some exploration on the data. First, I shall check for null values and try to replace or remove them. Then, I shall check for outliers using boxplots and try to replace or remove them. Thirdly, I shall get some visualizations to get an idea of the variables in hand.\n",
        "\n",
        "\n",
        "#### **2. Model training and testing :**\n",
        "##### In this step, I shall get a train-test pair from the given dataset and fit 5 classification models to the train set, make predictions on the test set using them and calculate various evaluation metrics. The models are namely : Decision Trees, Random Forests, Gradient Boosting Machine, Support Vector Machines, Naive-Bayes Classifier.\n",
        "\n",
        "**Note:** A point to be noted here. We can't fit a logistic regression here as this is a multi-class (>2) classification problem.\n",
        "\n",
        "#### **3. Model Evaluation :**\n",
        "##### As the last step, I shall compare all the models and try to come up with a conclusion about which model might be the best choice here."
      ],
      "metadata": {
        "id": "etPiIBnH5Bjx"
      }
    },
    {
      "cell_type": "markdown",
      "source": [
        "# **Analysis:**"
      ],
      "metadata": {
        "id": "FmTP1gsM6DlO"
      }
    },
    {
      "cell_type": "markdown",
      "source": [
        "### **Data Exporting and exploration :**"
      ],
      "metadata": {
        "id": "g67KIpuO6GC1"
      }
    },
    {
      "cell_type": "code",
      "source": [
        "# Importing essential libraries\n",
        "import pandas as pd\n",
        "import numpy as np\n",
        "import matplotlib.pyplot as plt\n",
        "import seaborn as sns"
      ],
      "metadata": {
        "id": "kGvYGqnBc-eJ"
      },
      "execution_count": 1,
      "outputs": []
    },
    {
      "cell_type": "code",
      "source": [
        "# Mounting drive\n",
        "from google.colab import drive\n",
        "drive.mount('/content/drive')"
      ],
      "metadata": {
        "id": "yXvqDqLidGmH",
        "colab": {
          "base_uri": "https://localhost:8080/"
        },
        "outputId": "a88a1a45-722e-4a72-ff19-ed1be315bf61"
      },
      "execution_count": null,
      "outputs": [
        {
          "output_type": "stream",
          "name": "stdout",
          "text": [
            "Drive already mounted at /content/drive; to attempt to forcibly remount, call drive.mount(\"/content/drive\", force_remount=True).\n"
          ]
        }
      ]
    },
    {
      "cell_type": "code",
      "source": [
        "# Reading the dataset\n",
        "df = pd.read_csv('/content/drive/MyDrive/Classification Project/Copy of data_email_campaign.csv', index_col='Email_ID')"
      ],
      "metadata": {
        "id": "QzYbEuQhdNnF"
      },
      "execution_count": 2,
      "outputs": []
    },
    {
      "cell_type": "code",
      "source": [
        "# Getting a glimpse of the data\n",
        "df.head()"
      ],
      "metadata": {
        "colab": {
          "base_uri": "https://localhost:8080/",
          "height": 302
        },
        "id": "kWxKRRm4dUDj",
        "outputId": "1cf15b4e-2e3d-4ef3-a3aa-f699707409c0"
      },
      "execution_count": null,
      "outputs": [
        {
          "output_type": "execute_result",
          "data": {
            "text/html": [
              "\n",
              "  <div id=\"df-c094a1b0-1062-46c2-8a09-649879102edd\">\n",
              "    <div class=\"colab-df-container\">\n",
              "      <div>\n",
              "<style scoped>\n",
              "    .dataframe tbody tr th:only-of-type {\n",
              "        vertical-align: middle;\n",
              "    }\n",
              "\n",
              "    .dataframe tbody tr th {\n",
              "        vertical-align: top;\n",
              "    }\n",
              "\n",
              "    .dataframe thead th {\n",
              "        text-align: right;\n",
              "    }\n",
              "</style>\n",
              "<table border=\"1\" class=\"dataframe\">\n",
              "  <thead>\n",
              "    <tr style=\"text-align: right;\">\n",
              "      <th></th>\n",
              "      <th>Email_Type</th>\n",
              "      <th>Subject_Hotness_Score</th>\n",
              "      <th>Email_Source_Type</th>\n",
              "      <th>Customer_Location</th>\n",
              "      <th>Email_Campaign_Type</th>\n",
              "      <th>Total_Past_Communications</th>\n",
              "      <th>Time_Email_sent_Category</th>\n",
              "      <th>Word_Count</th>\n",
              "      <th>Total_Links</th>\n",
              "      <th>Total_Images</th>\n",
              "      <th>Email_Status</th>\n",
              "    </tr>\n",
              "    <tr>\n",
              "      <th>Email_ID</th>\n",
              "      <th></th>\n",
              "      <th></th>\n",
              "      <th></th>\n",
              "      <th></th>\n",
              "      <th></th>\n",
              "      <th></th>\n",
              "      <th></th>\n",
              "      <th></th>\n",
              "      <th></th>\n",
              "      <th></th>\n",
              "      <th></th>\n",
              "    </tr>\n",
              "  </thead>\n",
              "  <tbody>\n",
              "    <tr>\n",
              "      <th>EMA00081000034500</th>\n",
              "      <td>1</td>\n",
              "      <td>2.2</td>\n",
              "      <td>2</td>\n",
              "      <td>E</td>\n",
              "      <td>2</td>\n",
              "      <td>33.0</td>\n",
              "      <td>1</td>\n",
              "      <td>440</td>\n",
              "      <td>8.0</td>\n",
              "      <td>0.0</td>\n",
              "      <td>0</td>\n",
              "    </tr>\n",
              "    <tr>\n",
              "      <th>EMA00081000045360</th>\n",
              "      <td>2</td>\n",
              "      <td>2.1</td>\n",
              "      <td>1</td>\n",
              "      <td>NaN</td>\n",
              "      <td>2</td>\n",
              "      <td>15.0</td>\n",
              "      <td>2</td>\n",
              "      <td>504</td>\n",
              "      <td>5.0</td>\n",
              "      <td>0.0</td>\n",
              "      <td>0</td>\n",
              "    </tr>\n",
              "    <tr>\n",
              "      <th>EMA00081000066290</th>\n",
              "      <td>2</td>\n",
              "      <td>0.1</td>\n",
              "      <td>1</td>\n",
              "      <td>B</td>\n",
              "      <td>3</td>\n",
              "      <td>36.0</td>\n",
              "      <td>2</td>\n",
              "      <td>962</td>\n",
              "      <td>5.0</td>\n",
              "      <td>0.0</td>\n",
              "      <td>1</td>\n",
              "    </tr>\n",
              "    <tr>\n",
              "      <th>EMA00081000076560</th>\n",
              "      <td>1</td>\n",
              "      <td>3.0</td>\n",
              "      <td>2</td>\n",
              "      <td>E</td>\n",
              "      <td>2</td>\n",
              "      <td>25.0</td>\n",
              "      <td>2</td>\n",
              "      <td>610</td>\n",
              "      <td>16.0</td>\n",
              "      <td>0.0</td>\n",
              "      <td>0</td>\n",
              "    </tr>\n",
              "    <tr>\n",
              "      <th>EMA00081000109720</th>\n",
              "      <td>1</td>\n",
              "      <td>0.0</td>\n",
              "      <td>2</td>\n",
              "      <td>C</td>\n",
              "      <td>3</td>\n",
              "      <td>18.0</td>\n",
              "      <td>2</td>\n",
              "      <td>947</td>\n",
              "      <td>4.0</td>\n",
              "      <td>0.0</td>\n",
              "      <td>0</td>\n",
              "    </tr>\n",
              "  </tbody>\n",
              "</table>\n",
              "</div>\n",
              "      <button class=\"colab-df-convert\" onclick=\"convertToInteractive('df-c094a1b0-1062-46c2-8a09-649879102edd')\"\n",
              "              title=\"Convert this dataframe to an interactive table.\"\n",
              "              style=\"display:none;\">\n",
              "        \n",
              "  <svg xmlns=\"http://www.w3.org/2000/svg\" height=\"24px\"viewBox=\"0 0 24 24\"\n",
              "       width=\"24px\">\n",
              "    <path d=\"M0 0h24v24H0V0z\" fill=\"none\"/>\n",
              "    <path d=\"M18.56 5.44l.94 2.06.94-2.06 2.06-.94-2.06-.94-.94-2.06-.94 2.06-2.06.94zm-11 1L8.5 8.5l.94-2.06 2.06-.94-2.06-.94L8.5 2.5l-.94 2.06-2.06.94zm10 10l.94 2.06.94-2.06 2.06-.94-2.06-.94-.94-2.06-.94 2.06-2.06.94z\"/><path d=\"M17.41 7.96l-1.37-1.37c-.4-.4-.92-.59-1.43-.59-.52 0-1.04.2-1.43.59L10.3 9.45l-7.72 7.72c-.78.78-.78 2.05 0 2.83L4 21.41c.39.39.9.59 1.41.59.51 0 1.02-.2 1.41-.59l7.78-7.78 2.81-2.81c.8-.78.8-2.07 0-2.86zM5.41 20L4 18.59l7.72-7.72 1.47 1.35L5.41 20z\"/>\n",
              "  </svg>\n",
              "      </button>\n",
              "      \n",
              "  <style>\n",
              "    .colab-df-container {\n",
              "      display:flex;\n",
              "      flex-wrap:wrap;\n",
              "      gap: 12px;\n",
              "    }\n",
              "\n",
              "    .colab-df-convert {\n",
              "      background-color: #E8F0FE;\n",
              "      border: none;\n",
              "      border-radius: 50%;\n",
              "      cursor: pointer;\n",
              "      display: none;\n",
              "      fill: #1967D2;\n",
              "      height: 32px;\n",
              "      padding: 0 0 0 0;\n",
              "      width: 32px;\n",
              "    }\n",
              "\n",
              "    .colab-df-convert:hover {\n",
              "      background-color: #E2EBFA;\n",
              "      box-shadow: 0px 1px 2px rgba(60, 64, 67, 0.3), 0px 1px 3px 1px rgba(60, 64, 67, 0.15);\n",
              "      fill: #174EA6;\n",
              "    }\n",
              "\n",
              "    [theme=dark] .colab-df-convert {\n",
              "      background-color: #3B4455;\n",
              "      fill: #D2E3FC;\n",
              "    }\n",
              "\n",
              "    [theme=dark] .colab-df-convert:hover {\n",
              "      background-color: #434B5C;\n",
              "      box-shadow: 0px 1px 3px 1px rgba(0, 0, 0, 0.15);\n",
              "      filter: drop-shadow(0px 1px 2px rgba(0, 0, 0, 0.3));\n",
              "      fill: #FFFFFF;\n",
              "    }\n",
              "  </style>\n",
              "\n",
              "      <script>\n",
              "        const buttonEl =\n",
              "          document.querySelector('#df-c094a1b0-1062-46c2-8a09-649879102edd button.colab-df-convert');\n",
              "        buttonEl.style.display =\n",
              "          google.colab.kernel.accessAllowed ? 'block' : 'none';\n",
              "\n",
              "        async function convertToInteractive(key) {\n",
              "          const element = document.querySelector('#df-c094a1b0-1062-46c2-8a09-649879102edd');\n",
              "          const dataTable =\n",
              "            await google.colab.kernel.invokeFunction('convertToInteractive',\n",
              "                                                     [key], {});\n",
              "          if (!dataTable) return;\n",
              "\n",
              "          const docLinkHtml = 'Like what you see? Visit the ' +\n",
              "            '<a target=\"_blank\" href=https://colab.research.google.com/notebooks/data_table.ipynb>data table notebook</a>'\n",
              "            + ' to learn more about interactive tables.';\n",
              "          element.innerHTML = '';\n",
              "          dataTable['output_type'] = 'display_data';\n",
              "          await google.colab.output.renderOutput(dataTable, element);\n",
              "          const docLink = document.createElement('div');\n",
              "          docLink.innerHTML = docLinkHtml;\n",
              "          element.appendChild(docLink);\n",
              "        }\n",
              "      </script>\n",
              "    </div>\n",
              "  </div>\n",
              "  "
            ],
            "text/plain": [
              "                   Email_Type  ...  Email_Status\n",
              "Email_ID                       ...              \n",
              "EMA00081000034500           1  ...             0\n",
              "EMA00081000045360           2  ...             0\n",
              "EMA00081000066290           2  ...             1\n",
              "EMA00081000076560           1  ...             0\n",
              "EMA00081000109720           1  ...             0\n",
              "\n",
              "[5 rows x 11 columns]"
            ]
          },
          "metadata": {},
          "execution_count": 6
        }
      ]
    },
    {
      "cell_type": "code",
      "source": [
        "# Getting the shape of the data\n",
        "df.shape"
      ],
      "metadata": {
        "colab": {
          "base_uri": "https://localhost:8080/"
        },
        "id": "c5Kjx6L-6O8V",
        "outputId": "66d54e06-72b5-4137-ba98-f2af7cc7d9ec"
      },
      "execution_count": null,
      "outputs": [
        {
          "output_type": "execute_result",
          "data": {
            "text/plain": [
              "(68353, 11)"
            ]
          },
          "metadata": {},
          "execution_count": 7
        }
      ]
    },
    {
      "cell_type": "code",
      "source": [
        "# Getting a short info of the data\n",
        "df.info()"
      ],
      "metadata": {
        "colab": {
          "base_uri": "https://localhost:8080/"
        },
        "id": "XqxyR-f5did8",
        "outputId": "be312358-2dbb-45b2-8f6d-9d6aa2a2c872"
      },
      "execution_count": null,
      "outputs": [
        {
          "output_type": "stream",
          "name": "stdout",
          "text": [
            "<class 'pandas.core.frame.DataFrame'>\n",
            "Index: 68353 entries, EMA00081000034500 to EMA00089999316900\n",
            "Data columns (total 11 columns):\n",
            " #   Column                     Non-Null Count  Dtype  \n",
            "---  ------                     --------------  -----  \n",
            " 0   Email_Type                 68353 non-null  int64  \n",
            " 1   Subject_Hotness_Score      68353 non-null  float64\n",
            " 2   Email_Source_Type          68353 non-null  int64  \n",
            " 3   Customer_Location          56758 non-null  object \n",
            " 4   Email_Campaign_Type        68353 non-null  int64  \n",
            " 5   Total_Past_Communications  61528 non-null  float64\n",
            " 6   Time_Email_sent_Category   68353 non-null  int64  \n",
            " 7   Word_Count                 68353 non-null  int64  \n",
            " 8   Total_Links                66152 non-null  float64\n",
            " 9   Total_Images               66676 non-null  float64\n",
            " 10  Email_Status               68353 non-null  int64  \n",
            "dtypes: float64(4), int64(6), object(1)\n",
            "memory usage: 6.3+ MB\n"
          ]
        }
      ]
    },
    {
      "cell_type": "markdown",
      "source": [
        "## **1. Basic EDA :**"
      ],
      "metadata": {
        "id": "X7eXeU4Z6KJt"
      }
    },
    {
      "cell_type": "markdown",
      "source": [
        "### **Imputing Missing Values :**"
      ],
      "metadata": {
        "id": "At6-2y1VP_5z"
      }
    },
    {
      "cell_type": "markdown",
      "source": [
        "From the data shape and info it is clear that there are some null values in the dataset. Let's have a look at them and see what we can do to impute them."
      ],
      "metadata": {
        "id": "Ee7DQlnF6RFO"
      }
    },
    {
      "cell_type": "markdown",
      "source": [
        "The columns with missing values are :\n",
        "\n",
        "1.   Customer_Location (Categorical)\n",
        "2.   Total_Past_Communications (Numerical)\n",
        "3.   Total_Links (Numerical)\n",
        "4.   Total_Images (Numerical)\n",
        "\n"
      ],
      "metadata": {
        "id": "ukA-Smw0618F"
      }
    },
    {
      "cell_type": "markdown",
      "source": [
        "We can do one thing here. We can first get dummy features on categorical column and then use KNNImputer to impute the missing values."
      ],
      "metadata": {
        "id": "7zvetaRe7Mx0"
      }
    },
    {
      "cell_type": "code",
      "source": [
        "# Getting dummy variables\n",
        "df_with_dummy = pd.get_dummies(df, prefix = '', prefix_sep = '')"
      ],
      "metadata": {
        "id": "VQJ6dMZ6GFqV"
      },
      "execution_count": 3,
      "outputs": []
    },
    {
      "cell_type": "code",
      "source": [
        "# Imputing missing data using KNN Imputer\n",
        "from sklearn.impute import KNNImputer\n",
        "imputer = KNNImputer(n_neighbors = 3)\n",
        "df_with_no_na = imputer.fit_transform(df_with_dummy)"
      ],
      "metadata": {
        "id": "x5KWp6LQ73KH"
      },
      "execution_count": 4,
      "outputs": []
    },
    {
      "cell_type": "code",
      "source": [
        "df_with_no_na = pd.DataFrame(df_with_no_na, columns = df_with_dummy.columns)"
      ],
      "metadata": {
        "id": "54HHYIy6IeUQ"
      },
      "execution_count": 5,
      "outputs": []
    },
    {
      "cell_type": "markdown",
      "source": [
        "Cool! Now let's impute the new modified columns to the main dataset."
      ],
      "metadata": {
        "id": "XUwavl2hJeEO"
      }
    },
    {
      "cell_type": "code",
      "source": [
        "# Replace columns with na values\n",
        "df['Total_Past_Communications'] = df_with_no_na['Total_Past_Communications'].values\n",
        "df['Total_Links'] = df_with_no_na['Total_Links'].values\n",
        "df['Total_Images'] = df_with_no_na['Total_Images'].values"
      ],
      "metadata": {
        "id": "M51lIxFRJrGk"
      },
      "execution_count": 6,
      "outputs": []
    },
    {
      "cell_type": "code",
      "source": [
        "# Check the info again\n",
        "df.info()"
      ],
      "metadata": {
        "colab": {
          "base_uri": "https://localhost:8080/"
        },
        "id": "D7ENN4t0JzE4",
        "outputId": "eaf36035-4539-45a8-9b6e-a57893efe2c9"
      },
      "execution_count": 7,
      "outputs": [
        {
          "output_type": "stream",
          "name": "stdout",
          "text": [
            "<class 'pandas.core.frame.DataFrame'>\n",
            "Index: 68353 entries, EMA00081000034500 to EMA00089999316900\n",
            "Data columns (total 11 columns):\n",
            " #   Column                     Non-Null Count  Dtype  \n",
            "---  ------                     --------------  -----  \n",
            " 0   Email_Type                 68353 non-null  int64  \n",
            " 1   Subject_Hotness_Score      68353 non-null  float64\n",
            " 2   Email_Source_Type          68353 non-null  int64  \n",
            " 3   Customer_Location          56758 non-null  object \n",
            " 4   Email_Campaign_Type        68353 non-null  int64  \n",
            " 5   Total_Past_Communications  68353 non-null  float64\n",
            " 6   Time_Email_sent_Category   68353 non-null  int64  \n",
            " 7   Word_Count                 68353 non-null  int64  \n",
            " 8   Total_Links                68353 non-null  float64\n",
            " 9   Total_Images               68353 non-null  float64\n",
            " 10  Email_Status               68353 non-null  int64  \n",
            "dtypes: float64(4), int64(6), object(1)\n",
            "memory usage: 6.3+ MB\n"
          ]
        }
      ]
    },
    {
      "cell_type": "markdown",
      "source": [
        "Awesome! Now let's do something about the categorical column. I am going to use ML to solve this problem. I will build a simple Decision Trees model to predict Customer Location based on other features which will be trained on non-null observations and will predict on null observations."
      ],
      "metadata": {
        "id": "veG-KhfyKppN"
      }
    },
    {
      "cell_type": "code",
      "source": [
        "# Preparing the data\n",
        "df_with_no_null_cust_loc = df[df['Customer_Location'].isna() == False]\n",
        "df_with_null_cust_loc = df[df['Customer_Location'].isna() == True]"
      ],
      "metadata": {
        "id": "SgskCNvlHkzl"
      },
      "execution_count": 8,
      "outputs": []
    },
    {
      "cell_type": "code",
      "source": [
        "# Getting Training set\n",
        "X_train = df_with_no_null_cust_loc.drop(['Customer_Location'], axis = 1)\n",
        "y_train = df_with_no_null_cust_loc['Customer_Location']\n",
        "X_test = df_with_null_cust_loc.drop(['Customer_Location'], axis = 1)\n",
        "\n",
        "# Importing Decision Tree Classifier\n",
        "from sklearn.tree import DecisionTreeClassifier\n",
        "\n",
        "# Fitting the model\n",
        "dtree_model = DecisionTreeClassifier(max_depth=30).fit(X_train, y_train)\n",
        "\n",
        "# Getting accuracy on train set\n",
        "print(dtree_model.score(X_train, y_train))"
      ],
      "metadata": {
        "colab": {
          "base_uri": "https://localhost:8080/"
        },
        "id": "Nn88uYqrII2y",
        "outputId": "7ddd8dab-5d69-416c-fa1b-1ee3a354663d"
      },
      "execution_count": 9,
      "outputs": [
        {
          "output_type": "stream",
          "name": "stdout",
          "text": [
            "0.9338243067056626\n"
          ]
        }
      ]
    },
    {
      "cell_type": "markdown",
      "source": [
        "Pretty good! Now I will use this model to get my Customer Locations filled."
      ],
      "metadata": {
        "id": "Ps1qCXy8J-ae"
      }
    },
    {
      "cell_type": "code",
      "source": [
        "# Getting predictions and saving it with null valued dataset\n",
        "prediction = pd.DataFrame(dtree_model.predict(X_test), columns = ['Customer_Location'], index = df_with_null_cust_loc.index)\n",
        "df_with_null_cust_loc = pd.merge(df_with_null_cust_loc, prediction[['Customer_Location']], how = 'left',left_index = True, right_index = True)"
      ],
      "metadata": {
        "id": "5IhVBb6bIMGy"
      },
      "execution_count": 10,
      "outputs": []
    },
    {
      "cell_type": "code",
      "source": [
        "# Replacing nulls with predicted values in the original dataset\n",
        "df.loc[df['Customer_Location'].isna() == True, 'Customer_Location'] = df_with_null_cust_loc['Customer_Location_y']"
      ],
      "metadata": {
        "id": "J4q5HNGlKNbA"
      },
      "execution_count": 11,
      "outputs": []
    },
    {
      "cell_type": "code",
      "source": [
        "# Check info again\n",
        "df.info()"
      ],
      "metadata": {
        "colab": {
          "base_uri": "https://localhost:8080/"
        },
        "id": "asJ61sQONy2Q",
        "outputId": "317feedc-f164-44d5-ea59-e55f77afeb42"
      },
      "execution_count": 12,
      "outputs": [
        {
          "output_type": "stream",
          "name": "stdout",
          "text": [
            "<class 'pandas.core.frame.DataFrame'>\n",
            "Index: 68353 entries, EMA00081000034500 to EMA00089999316900\n",
            "Data columns (total 11 columns):\n",
            " #   Column                     Non-Null Count  Dtype  \n",
            "---  ------                     --------------  -----  \n",
            " 0   Email_Type                 68353 non-null  int64  \n",
            " 1   Subject_Hotness_Score      68353 non-null  float64\n",
            " 2   Email_Source_Type          68353 non-null  int64  \n",
            " 3   Customer_Location          68353 non-null  object \n",
            " 4   Email_Campaign_Type        68353 non-null  int64  \n",
            " 5   Total_Past_Communications  68353 non-null  float64\n",
            " 6   Time_Email_sent_Category   68353 non-null  int64  \n",
            " 7   Word_Count                 68353 non-null  int64  \n",
            " 8   Total_Links                68353 non-null  float64\n",
            " 9   Total_Images               68353 non-null  float64\n",
            " 10  Email_Status               68353 non-null  int64  \n",
            "dtypes: float64(4), int64(6), object(1)\n",
            "memory usage: 6.3+ MB\n"
          ]
        }
      ]
    },
    {
      "cell_type": "markdown",
      "source": [
        "Alright! Now we are done with the treatment of null values. Now let's have some visualizations!"
      ],
      "metadata": {
        "id": "BTp30Eo5Pb80"
      }
    },
    {
      "cell_type": "markdown",
      "source": [
        "### **Visualizations :**"
      ],
      "metadata": {
        "id": "oOMY8AK6QLOU"
      }
    },
    {
      "cell_type": "code",
      "source": [
        "# Plotting bar plot for Email_Type\n",
        "plt.figure(figsize=(6,7))\n",
        "sns.countplot(df['Email_Type'])\n",
        "plt.title('Email Types bar plot', fontsize=15)"
      ],
      "metadata": {
        "colab": {
          "base_uri": "https://localhost:8080/",
          "height": 533
        },
        "id": "f7-NvdCTPKJO",
        "outputId": "cc636401-3782-4e42-c429-36070f2e5b74"
      },
      "execution_count": null,
      "outputs": [
        {
          "output_type": "stream",
          "name": "stderr",
          "text": [
            "/usr/local/lib/python3.7/dist-packages/seaborn/_decorators.py:43: FutureWarning: Pass the following variable as a keyword arg: x. From version 0.12, the only valid positional argument will be `data`, and passing other arguments without an explicit keyword will result in an error or misinterpretation.\n",
            "  FutureWarning\n"
          ]
        },
        {
          "output_type": "execute_result",
          "data": {
            "text/plain": [
              "Text(0.5, 1.0, 'Email Types bar plot')"
            ]
          },
          "metadata": {},
          "execution_count": 22
        },
        {
          "output_type": "display_data",
          "data": {
            "image/png": "[encoded data removed]",
            "text/plain": [
              "<Figure size 432x504 with 1 Axes>"
            ]
          },
          "metadata": {
            "needs_background": "light"
          }
        }
      ]
    },
    {
      "cell_type": "markdown",
      "source": [
        "##### **Inference :** Most of the emails were of type 1."
      ],
      "metadata": {
        "id": "qS_9FC4WqvFe"
      }
    },
    {
      "cell_type": "code",
      "source": [
        "# Plotting histogram and Boxplot for Subject_Hotness_Score\n",
        "plt.figure(figsize=(12,7))\n",
        "\n",
        "plt.subplot(1,2,1)\n",
        "sns.distplot(df['Subject_Hotness_Score'])\n",
        "plt.title('Distribution of Subject Hotness Score', fontsize=15)\n",
        "\n",
        "plt.subplot(1,2,2)\n",
        "sns.boxplot(df['Subject_Hotness_Score'])\n",
        "plt.title('Boxplot of Subject Hotness Score', fontsize=15)"
      ],
      "metadata": {
        "colab": {
          "base_uri": "https://localhost:8080/",
          "height": 343
        },
        "id": "yPf2vaINQtbB",
        "outputId": "e4f7e14f-262c-4a35-941c-c0c50394721f"
      },
      "execution_count": null,
      "outputs": [
        {
          "output_type": "stream",
          "name": "stderr",
          "text": [
            "/usr/local/lib/python3.7/dist-packages/seaborn/distributions.py:2619: FutureWarning: `distplot` is a deprecated function and will be removed in a future version. Please adapt your code to use either `displot` (a figure-level function with similar flexibility) or `histplot` (an axes-level function for histograms).\n",
            "  warnings.warn(msg, FutureWarning)\n",
            "/usr/local/lib/python3.7/dist-packages/seaborn/_decorators.py:43: FutureWarning: Pass the following variable as a keyword arg: x. From version 0.12, the only valid positional argument will be `data`, and passing other arguments without an explicit keyword will result in an error or misinterpretation.\n",
            "  FutureWarning\n"
          ]
        },
        {
          "output_type": "execute_result",
          "data": {
            "text/plain": [
              "Text(0.5, 1.0, 'Boxplot of Subject Hotness Score')"
            ]
          },
          "metadata": {},
          "execution_count": 133
        },
        {
          "output_type": "display_data",
          "data": {
            "image/png": "[encoded data removed]",
            "text/plain": [
              "<Figure size 864x504 with 2 Axes>"
            ]
          },
          "metadata": {
            "needs_background": "light"
          }
        }
      ]
    },
    {
      "cell_type": "markdown",
      "source": [
        "##### **Inference :** Emails with lower subject hotness score is higher in numbers. There are some outliers too."
      ],
      "metadata": {
        "id": "fOZXIKo6q3St"
      }
    },
    {
      "cell_type": "code",
      "source": [
        "# Plotting bar plot for Email_Source_Type\n",
        "plt.figure(figsize=(6,7))\n",
        "sns.countplot(df['Email_Source_Type'])\n",
        "plt.title('Email Source Types bar plot', fontsize=15)"
      ],
      "metadata": {
        "colab": {
          "base_uri": "https://localhost:8080/",
          "height": 533
        },
        "id": "eQEk4Ij4RXnE",
        "outputId": "e5c885a6-8a72-4467-9fb4-d6746df0e0a3"
      },
      "execution_count": null,
      "outputs": [
        {
          "output_type": "stream",
          "name": "stderr",
          "text": [
            "/usr/local/lib/python3.7/dist-packages/seaborn/_decorators.py:43: FutureWarning: Pass the following variable as a keyword arg: x. From version 0.12, the only valid positional argument will be `data`, and passing other arguments without an explicit keyword will result in an error or misinterpretation.\n",
            "  FutureWarning\n"
          ]
        },
        {
          "output_type": "execute_result",
          "data": {
            "text/plain": [
              "Text(0.5, 1.0, 'Email Source Types bar plot')"
            ]
          },
          "metadata": {},
          "execution_count": 24
        },
        {
          "output_type": "display_data",
          "data": {
            "image/png": "[encoded data removed]",
            "text/plain": [
              "<Figure size 432x504 with 1 Axes>"
            ]
          },
          "metadata": {
            "needs_background": "light"
          }
        }
      ]
    },
    {
      "cell_type": "markdown",
      "source": [
        "##### **Inference :** Emails were sent from both the sources with almost equal probability."
      ],
      "metadata": {
        "id": "OE6GwzkBrAk9"
      }
    },
    {
      "cell_type": "code",
      "source": [
        "plt.figure(figsize=(12,7))\n",
        "\n",
        "# Reading the dataset again\n",
        "df1 = pd.read_csv('/content/drive/MyDrive/Classification Project/Copy of data_email_campaign.csv', index_col='Email_ID')\n",
        "\n",
        "# Plotting Customer Locations with null values\n",
        "plt.subplot(1,2,1)\n",
        "sns.countplot(df1['Customer_Location'])\n",
        "plt.title('Customer Locations bar plot with null values', fontsize=15)\n",
        "\n",
        "# Plotting bar plot for Customer_Location\n",
        "plt.subplot(1,2,2)\n",
        "sns.countplot(df['Customer_Location'])\n",
        "plt.title('Customer Locations bar plot after imputing nulls', fontsize=15)"
      ],
      "metadata": {
        "colab": {
          "base_uri": "https://localhost:8080/",
          "height": 568
        },
        "id": "fohi-nNmRnXD",
        "outputId": "acf9fce9-9c0c-4e85-e5a1-2aa6505689c7"
      },
      "execution_count": null,
      "outputs": [
        {
          "output_type": "stream",
          "name": "stderr",
          "text": [
            "/usr/local/lib/python3.7/dist-packages/seaborn/_decorators.py:43: FutureWarning: Pass the following variable as a keyword arg: x. From version 0.12, the only valid positional argument will be `data`, and passing other arguments without an explicit keyword will result in an error or misinterpretation.\n",
            "  FutureWarning\n",
            "/usr/local/lib/python3.7/dist-packages/seaborn/_decorators.py:43: FutureWarning: Pass the following variable as a keyword arg: x. From version 0.12, the only valid positional argument will be `data`, and passing other arguments without an explicit keyword will result in an error or misinterpretation.\n",
            "  FutureWarning\n"
          ]
        },
        {
          "output_type": "execute_result",
          "data": {
            "text/plain": [
              "Text(0.5, 1.0, 'Customer Locations bar plot after imputing nulls')"
            ]
          },
          "metadata": {},
          "execution_count": 25
        },
        {
          "output_type": "display_data",
          "data": {
            "image/png": "[encoded data removed]",
            "text/plain": [
              "<Figure size 864x504 with 2 Axes>"
            ]
          },
          "metadata": {
            "needs_background": "light"
          }
        }
      ]
    },
    {
      "cell_type": "markdown",
      "source": [
        "##### **Inference :** Area G has most number of customers and area A has least number of customers. Also the bars from before and after missing value imputation are in conjunction which implies the method of predicting missing values has worked quite well."
      ],
      "metadata": {
        "id": "zs0f90rmrKWV"
      }
    },
    {
      "cell_type": "code",
      "source": [
        "# Plotting bar plot for Email_Campaign_Type\n",
        "plt.figure(figsize=(6,7))\n",
        "sns.countplot(df['Email_Campaign_Type'])\n",
        "plt.title('Email Campaign Types bar plot', fontsize=15)"
      ],
      "metadata": {
        "id": "lb85F9vAR7ii",
        "colab": {
          "base_uri": "https://localhost:8080/",
          "height": 533
        },
        "outputId": "87095861-12a9-4985-c8b9-05f66ec71b5e"
      },
      "execution_count": null,
      "outputs": [
        {
          "output_type": "stream",
          "name": "stderr",
          "text": [
            "/usr/local/lib/python3.7/dist-packages/seaborn/_decorators.py:43: FutureWarning: Pass the following variable as a keyword arg: x. From version 0.12, the only valid positional argument will be `data`, and passing other arguments without an explicit keyword will result in an error or misinterpretation.\n",
            "  FutureWarning\n"
          ]
        },
        {
          "output_type": "execute_result",
          "data": {
            "text/plain": [
              "Text(0.5, 1.0, 'Email Campaign Types bar plot')"
            ]
          },
          "metadata": {},
          "execution_count": 26
        },
        {
          "output_type": "display_data",
          "data": {
            "image/png": "[encoded data removed]",
            "text/plain": [
              "<Figure size 432x504 with 1 Axes>"
            ]
          },
          "metadata": {
            "needs_background": "light"
          }
        }
      ]
    },
    {
      "cell_type": "markdown",
      "source": [
        "##### **Inference :** Most of the emails were sent as a part of 2nd type of campaign."
      ],
      "metadata": {
        "id": "nfLHocWvrhGm"
      }
    },
    {
      "cell_type": "code",
      "source": [
        "# Plotting histogram and Boxplot for Total_Past_Communications\n",
        "plt.figure(figsize=(15,7))\n",
        "\n",
        "plt.subplot(1,2,1)\n",
        "sns.distplot(df['Total_Past_Communications'])\n",
        "plt.title('Distribution of Total Past Communications happened', fontsize=15)\n",
        "\n",
        "plt.subplot(1,2,2)\n",
        "sns.boxplot(df['Total_Past_Communications'])\n",
        "plt.title('Boxplot of Total Past Communications happened', fontsize=15)"
      ],
      "metadata": {
        "colab": {
          "base_uri": "https://localhost:8080/",
          "height": 301
        },
        "id": "ipLhUJMyna5M",
        "outputId": "6e991abf-ad89-43fd-b03d-b0419f5f0383"
      },
      "execution_count": null,
      "outputs": [
        {
          "output_type": "stream",
          "name": "stderr",
          "text": [
            "/usr/local/lib/python3.7/dist-packages/seaborn/distributions.py:2619: FutureWarning: `distplot` is a deprecated function and will be removed in a future version. Please adapt your code to use either `displot` (a figure-level function with similar flexibility) or `histplot` (an axes-level function for histograms).\n",
            "  warnings.warn(msg, FutureWarning)\n",
            "/usr/local/lib/python3.7/dist-packages/seaborn/_decorators.py:43: FutureWarning: Pass the following variable as a keyword arg: x. From version 0.12, the only valid positional argument will be `data`, and passing other arguments without an explicit keyword will result in an error or misinterpretation.\n",
            "  FutureWarning\n"
          ]
        },
        {
          "output_type": "execute_result",
          "data": {
            "text/plain": [
              "Text(0.5, 1.0, 'Boxplot of Total Past Communications happened')"
            ]
          },
          "metadata": {},
          "execution_count": 135
        },
        {
          "output_type": "display_data",
          "data": {
            "image/png": "[encoded data removed]",
            "text/plain": [
              "<Figure size 1080x504 with 2 Axes>"
            ]
          },
          "metadata": {
            "needs_background": "light"
          }
        }
      ]
    },
    {
      "cell_type": "markdown",
      "source": [
        "##### **Inference :** Number of Total Past Communications is somehow normally distributed with average number of communications around 30. There are 2 outlier points too."
      ],
      "metadata": {
        "id": "lHbKOK-nrypp"
      }
    },
    {
      "cell_type": "code",
      "source": [
        "# Plotting bar plot for Time_Email_sent_Category\n",
        "plt.figure(figsize=(6,7))\n",
        "sns.countplot(df['Time_Email_sent_Category'])\n",
        "plt.title('Bar plot showing time of the email sent', fontsize=15)"
      ],
      "metadata": {
        "colab": {
          "base_uri": "https://localhost:8080/",
          "height": 533
        },
        "id": "3tpYphwToCO1",
        "outputId": "e2b6199f-fd93-4dea-c2a3-817d3dce3db2"
      },
      "execution_count": null,
      "outputs": [
        {
          "output_type": "stream",
          "name": "stderr",
          "text": [
            "/usr/local/lib/python3.7/dist-packages/seaborn/_decorators.py:43: FutureWarning: Pass the following variable as a keyword arg: x. From version 0.12, the only valid positional argument will be `data`, and passing other arguments without an explicit keyword will result in an error or misinterpretation.\n",
            "  FutureWarning\n"
          ]
        },
        {
          "output_type": "execute_result",
          "data": {
            "text/plain": [
              "Text(0.5, 1.0, 'Bar plot showing time of the email sent')"
            ]
          },
          "metadata": {},
          "execution_count": 28
        },
        {
          "output_type": "display_data",
          "data": {
            "image/png": "[encoded data removed]",
            "text/plain": [
              "<Figure size 432x504 with 1 Axes>"
            ]
          },
          "metadata": {
            "needs_background": "light"
          }
        }
      ]
    },
    {
      "cell_type": "markdown",
      "source": [
        "##### **Inference :** Most of the emails were sent at the time bucket 2."
      ],
      "metadata": {
        "id": "VsaqvFBRr6f6"
      }
    },
    {
      "cell_type": "code",
      "source": [
        "# Plotting histogram for Word_Count\n",
        "plt.figure(figsize=(12,6))\n",
        "\n",
        "plt.subplot(1,2,1)\n",
        "sns.distplot(df['Word_Count'])\n",
        "plt.title('Distribution of Word Counts in the email', fontsize=15)\n",
        "\n",
        "plt.subplot(1,2,2)\n",
        "sns.boxplot(df['Total_Past_Communications'])\n",
        "plt.title('Boxplot of Word Counts in the email', fontsize=15)"
      ],
      "metadata": {
        "colab": {
          "base_uri": "https://localhost:8080/",
          "height": 311
        },
        "id": "IWJTwCGBoVPn",
        "outputId": "9aa63ace-6a7a-44c8-8264-d689b3647120"
      },
      "execution_count": null,
      "outputs": [
        {
          "output_type": "stream",
          "name": "stderr",
          "text": [
            "/usr/local/lib/python3.7/dist-packages/seaborn/distributions.py:2619: FutureWarning: `distplot` is a deprecated function and will be removed in a future version. Please adapt your code to use either `displot` (a figure-level function with similar flexibility) or `histplot` (an axes-level function for histograms).\n",
            "  warnings.warn(msg, FutureWarning)\n",
            "/usr/local/lib/python3.7/dist-packages/seaborn/_decorators.py:43: FutureWarning: Pass the following variable as a keyword arg: x. From version 0.12, the only valid positional argument will be `data`, and passing other arguments without an explicit keyword will result in an error or misinterpretation.\n",
            "  FutureWarning\n"
          ]
        },
        {
          "output_type": "execute_result",
          "data": {
            "text/plain": [
              "Text(0.5, 1.0, 'Boxplot of Word Counts in the email')"
            ]
          },
          "metadata": {},
          "execution_count": 137
        },
        {
          "output_type": "display_data",
          "data": {
            "image/png": "[encoded data removed]",
            "text/plain": [
              "<Figure size 864x432 with 2 Axes>"
            ]
          },
          "metadata": {
            "needs_background": "light"
          }
        }
      ]
    },
    {
      "cell_type": "markdown",
      "source": [
        "##### **Inference :** Email word counts is somehow normally distributed with mean number of words around 700. There are 2 outlier points."
      ],
      "metadata": {
        "id": "5OA-JwQhsCXq"
      }
    },
    {
      "cell_type": "code",
      "source": [
        "# Plotting histogram and Boxplot for Total_Links\n",
        "plt.figure(figsize=(12,6))\n",
        "\n",
        "plt.subplot(1,2,1)\n",
        "sns.distplot(df['Total_Links'])\n",
        "plt.title('Distribution of Total Links in the emails', fontsize=15)\n",
        "\n",
        "plt.subplot(1,2,2)\n",
        "sns.boxplot(df['Total_Links'])\n",
        "plt.title('Boxplot of Total Links in the emails', fontsize=15)\n",
        "\n",
        "print(f\"Average number of links in emails : {df['Total_Links'].mean()}\")"
      ],
      "metadata": {
        "colab": {
          "base_uri": "https://localhost:8080/",
          "height": 314
        },
        "id": "JtYfn748omD4",
        "outputId": "5a998cb3-44bc-40d6-b4d7-567649351a10"
      },
      "execution_count": null,
      "outputs": [
        {
          "output_type": "stream",
          "name": "stderr",
          "text": [
            "/usr/local/lib/python3.7/dist-packages/seaborn/distributions.py:2619: FutureWarning: `distplot` is a deprecated function and will be removed in a future version. Please adapt your code to use either `displot` (a figure-level function with similar flexibility) or `histplot` (an axes-level function for histograms).\n",
            "  warnings.warn(msg, FutureWarning)\n",
            "/usr/local/lib/python3.7/dist-packages/seaborn/_decorators.py:43: FutureWarning: Pass the following variable as a keyword arg: x. From version 0.12, the only valid positional argument will be `data`, and passing other arguments without an explicit keyword will result in an error or misinterpretation.\n",
            "  FutureWarning\n"
          ]
        },
        {
          "output_type": "stream",
          "name": "stdout",
          "text": [
            "Average number of links in emails : 10.412959197109124\n"
          ]
        },
        {
          "output_type": "display_data",
          "data": {
            "image/png": "[encoded data removed]",
            "text/plain": [
              "<Figure size 864x432 with 2 Axes>"
            ]
          },
          "metadata": {
            "needs_background": "light"
          }
        }
      ]
    },
    {
      "cell_type": "markdown",
      "source": [
        "##### **Inference :** Total link numbers has no distinct distribution. Emails have mean number of links around 10. Further investigation is required on this feature. There are a few outlier points."
      ],
      "metadata": {
        "id": "NTFCLTxps-Wn"
      }
    },
    {
      "cell_type": "code",
      "source": [
        "# Plotting histogram for Total_Images\n",
        "plt.figure(figsize=(12,6))\n",
        "\n",
        "plt.subplot(1,2,1)\n",
        "sns.distplot(df['Total_Images'])\n",
        "plt.title('Distribution of Total Images in the emails', fontsize=15)\n",
        "\n",
        "plt.subplot(1,2,2)\n",
        "sns.boxplot(df['Total_Images'])\n",
        "plt.title('Boxplot of Total Images in the emails', fontsize=15)"
      ],
      "metadata": {
        "colab": {
          "base_uri": "https://localhost:8080/",
          "height": 318
        },
        "id": "n0ykb2QHorXg",
        "outputId": "a7a72b4d-58d3-4922-9967-0815a1631164"
      },
      "execution_count": null,
      "outputs": [
        {
          "output_type": "stream",
          "name": "stderr",
          "text": [
            "/usr/local/lib/python3.7/dist-packages/seaborn/distributions.py:2619: FutureWarning: `distplot` is a deprecated function and will be removed in a future version. Please adapt your code to use either `displot` (a figure-level function with similar flexibility) or `histplot` (an axes-level function for histograms).\n",
            "  warnings.warn(msg, FutureWarning)\n",
            "/usr/local/lib/python3.7/dist-packages/seaborn/_decorators.py:43: FutureWarning: Pass the following variable as a keyword arg: x. From version 0.12, the only valid positional argument will be `data`, and passing other arguments without an explicit keyword will result in an error or misinterpretation.\n",
            "  FutureWarning\n"
          ]
        },
        {
          "output_type": "execute_result",
          "data": {
            "text/plain": [
              "Text(0.5, 1.0, 'Boxplot of Total Images in the emails')"
            ]
          },
          "metadata": {},
          "execution_count": 139
        },
        {
          "output_type": "display_data",
          "data": {
            "image/png": "[encoded data removed]",
            "text/plain": [
              "<Figure size 864x432 with 2 Axes>"
            ]
          },
          "metadata": {
            "needs_background": "light"
          }
        }
      ]
    },
    {
      "cell_type": "markdown",
      "source": [
        "##### **Inference :** Most of emails had no photos in it. There are a few outlier points."
      ],
      "metadata": {
        "id": "-eXvDmzotTKB"
      }
    },
    {
      "cell_type": "code",
      "source": [
        "# Plotting a pie chart for Email_Status\n",
        "plt.figure(figsize = (10,7))\n",
        "plt.pie(df['Email_Status'].value_counts(), labels = [0,1,2], explode = [0,0.1,0.1], autopct='%1.2f%%', shadow = True)\n",
        "plt.title('Pie Chart showing Email Status', fontsize = 15)"
      ],
      "metadata": {
        "colab": {
          "base_uri": "https://localhost:8080/",
          "height": 446
        },
        "id": "La_uJzSfpyX4",
        "outputId": "84ece294-aa00-44d0-b0ef-76a4b78ce3a6"
      },
      "execution_count": null,
      "outputs": [
        {
          "output_type": "execute_result",
          "data": {
            "text/plain": [
              "Text(0.5, 1.0, 'Pie Chart showing Email Status')"
            ]
          },
          "metadata": {},
          "execution_count": 38
        },
        {
          "output_type": "display_data",
          "data": {
            "image/png": "[encoded data removed]",
            "text/plain": [
              "<Figure size 720x504 with 1 Axes>"
            ]
          },
          "metadata": {}
        }
      ]
    },
    {
      "cell_type": "markdown",
      "source": [
        "##### **Inference :** Around 3.47% of the emails are actually hitting targets that is those customers are reading and acknowledging the mails. Around 16.15% of customers are reading the mails who might be potential customers given some offers or something else."
      ],
      "metadata": {
        "id": "F8cF-c_3tctH"
      }
    },
    {
      "cell_type": "markdown",
      "source": [
        "### **Some Further Investigations :**"
      ],
      "metadata": {
        "id": "HI-GgMEIt273"
      }
    },
    {
      "cell_type": "code",
      "source": [
        "# Getting number of rows which have non-integer Total_Past_Communications\n",
        "df[df['Total_Past_Communications'] % 1 != 0].shape"
      ],
      "metadata": {
        "colab": {
          "base_uri": "https://localhost:8080/"
        },
        "id": "ZUaXpnKoua_W",
        "outputId": "e97abafb-85dd-4fc7-8c3d-34c277c97a7b"
      },
      "execution_count": 13,
      "outputs": [
        {
          "output_type": "execute_result",
          "data": {
            "text/plain": [
              "(4519, 11)"
            ]
          },
          "metadata": {},
          "execution_count": 13
        }
      ]
    },
    {
      "cell_type": "markdown",
      "source": [
        "Interesting! It seems like some of the past communications are not integers. And number of calls cannot be non-integer, right? So, let's impute these cells with closest integers."
      ],
      "metadata": {
        "id": "2KlwuuoBu-Jl"
      }
    },
    {
      "cell_type": "code",
      "source": [
        "# Imputing non-integer Total_Past_Communications with closest integers.\n",
        "df.loc[df['Total_Past_Communications'] % 1 != 0, 'Total_Past_Communications'] = df[df['Total_Past_Communications'] % 1 != 0]['Total_Past_Communications'].apply(round)"
      ],
      "metadata": {
        "id": "VSxPq-lUunqm"
      },
      "execution_count": 14,
      "outputs": []
    },
    {
      "cell_type": "markdown",
      "source": [
        "Great! Now investigate and do the same for other features too!"
      ],
      "metadata": {
        "id": "cPS7EDhSwnX5"
      }
    },
    {
      "cell_type": "code",
      "source": [
        "# Getting number of rows which have non-integer Word_Count, Total_Links, Total_Images\n",
        "print(df[df['Word_Count'] % 1 != 0].shape)\n",
        "print(df[df['Total_Links'] % 1 != 0].shape)\n",
        "print(df[df['Total_Images'] % 1 != 0].shape)"
      ],
      "metadata": {
        "colab": {
          "base_uri": "https://localhost:8080/"
        },
        "id": "Y4bOvJ5Wv1o8",
        "outputId": "4432aa57-e3f4-472e-a75a-3e2f2c05d644"
      },
      "execution_count": 15,
      "outputs": [
        {
          "output_type": "stream",
          "name": "stdout",
          "text": [
            "(0, 11)\n",
            "(1441, 11)\n",
            "(879, 11)\n"
          ]
        }
      ]
    },
    {
      "cell_type": "code",
      "source": [
        "# Imputing non-integer values with closest integers.\n",
        "df.loc[df['Total_Links'] % 1 != 0, 'Total_Links'] = df[df['Total_Links'] % 1 != 0]['Total_Links'].apply(round)\n",
        "df.loc[df['Total_Images'] % 1 != 0, 'Total_Images'] = df[df['Total_Images'] % 1 != 0]['Total_Images'].apply(round)"
      ],
      "metadata": {
        "id": "EQ0ZaJZdw_xB"
      },
      "execution_count": 16,
      "outputs": []
    },
    {
      "cell_type": "markdown",
      "source": [
        "### **Outlier Removal :**"
      ],
      "metadata": {
        "id": "TEMlFegWdcoT"
      }
    },
    {
      "cell_type": "markdown",
      "source": [
        "We can see that there are very few outliers in individual columns, I am going to perform an anomaly detection using Isolation Forest and get rid of 0.1% data only."
      ],
      "metadata": {
        "id": "-xe250DGdklS"
      }
    },
    {
      "cell_type": "code",
      "source": [
        "# Deleting anomalies using Isolation Forest\n",
        "from sklearn.ensemble import IsolationForest\n",
        "model=IsolationForest(n_estimators=50,max_samples='auto',contamination=0.001,random_state=123,max_features=5)\n",
        "model.fit(pd.get_dummies(df))"
      ],
      "metadata": {
        "colab": {
          "base_uri": "https://localhost:8080/"
        },
        "id": "oTU3LFL1eA9f",
        "outputId": "40394cdc-530d-4b52-a9c6-0b44e22deb72"
      },
      "execution_count": 17,
      "outputs": [
        {
          "output_type": "stream",
          "name": "stderr",
          "text": [
            "/usr/local/lib/python3.7/dist-packages/sklearn/base.py:451: UserWarning: X does not have valid feature names, but IsolationForest was fitted with feature names\n",
            "  \"X does not have valid feature names, but\"\n"
          ]
        },
        {
          "output_type": "execute_result",
          "data": {
            "text/plain": [
              "IsolationForest(contamination=0.001, max_features=5, n_estimators=50,\n",
              "                random_state=123)"
            ]
          },
          "metadata": {},
          "execution_count": 17
        }
      ]
    },
    {
      "cell_type": "code",
      "source": [
        "# Assigning anomaly tags to observations\n",
        "df['Anomaly'] = model.predict(pd.get_dummies(df))\n",
        "df.Anomaly.value_counts()"
      ],
      "metadata": {
        "colab": {
          "base_uri": "https://localhost:8080/"
        },
        "id": "H5Zp6rUOesZw",
        "outputId": "5587e41c-4388-45e4-81ef-1c6d000944f2"
      },
      "execution_count": 18,
      "outputs": [
        {
          "output_type": "execute_result",
          "data": {
            "text/plain": [
              " 1    68284\n",
              "-1       69\n",
              "Name: Anomaly, dtype: int64"
            ]
          },
          "metadata": {},
          "execution_count": 18
        }
      ]
    },
    {
      "cell_type": "code",
      "source": [
        "# Taking non-anomalous observations only\n",
        "df = df[df['Anomaly'] == 1]\n",
        "\n",
        "# Dropping Anomaly column\n",
        "df.drop(['Anomaly'], axis = 1, inplace = True)"
      ],
      "metadata": {
        "colab": {
          "base_uri": "https://localhost:8080/"
        },
        "id": "x3WZilPJfBTh",
        "outputId": "570731ec-087c-42d5-a214-2c73826ea69d"
      },
      "execution_count": 19,
      "outputs": [
        {
          "output_type": "stream",
          "name": "stderr",
          "text": [
            "/usr/local/lib/python3.7/dist-packages/pandas/core/frame.py:4174: SettingWithCopyWarning: \n",
            "A value is trying to be set on a copy of a slice from a DataFrame\n",
            "\n",
            "See the caveats in the documentation: https://pandas.pydata.org/pandas-docs/stable/user_guide/indexing.html#returning-a-view-versus-a-copy\n",
            "  errors=errors,\n"
          ]
        }
      ]
    },
    {
      "cell_type": "markdown",
      "source": [
        "Awesome! Now let's move towards the second section of this project that is model training and testing."
      ],
      "metadata": {
        "id": "QJdVeq_PxSbI"
      }
    },
    {
      "cell_type": "markdown",
      "source": [
        "## **2. Model Training and Testing :**"
      ],
      "metadata": {
        "id": "jkjv1AknxfbX"
      }
    },
    {
      "cell_type": "markdown",
      "source": [
        "### **Preparing the data for training :**"
      ],
      "metadata": {
        "id": "DGg6IVhB4HNz"
      }
    },
    {
      "cell_type": "code",
      "source": [
        "# Getting dummies\n",
        "df_to_train = pd.get_dummies(df)"
      ],
      "metadata": {
        "id": "3-JKgrSizcgd"
      },
      "execution_count": 20,
      "outputs": []
    },
    {
      "cell_type": "code",
      "source": [
        "# Splitting dependent and independent features\n",
        "X = df_to_train.drop(['Email_Status'], axis = 1)\n",
        "y = df_to_train['Email_Status']"
      ],
      "metadata": {
        "id": "9TjM8K_LywUS"
      },
      "execution_count": 21,
      "outputs": []
    },
    {
      "cell_type": "markdown",
      "source": [
        "Now, we have already seen that there is a class imbalance in the dependent variable Email_Status. I am going to use SMOTE to perform oversampling on minority classes."
      ],
      "metadata": {
        "id": "gGhzhxIe4Z-H"
      }
    },
    {
      "cell_type": "code",
      "source": [
        "# Importing SMOTE\n",
        "from imblearn.over_sampling import SMOTE\n",
        "\n",
        "# Initializing SMOTE\n",
        "smote = SMOTE()\n",
        "\n",
        "# fit predictor and target variable\n",
        "X_smote, y_smote = smote.fit_resample(X, y)"
      ],
      "metadata": {
        "id": "LR0i4ITz25C_"
      },
      "execution_count": 22,
      "outputs": []
    },
    {
      "cell_type": "code",
      "source": [
        "# Splitting the data into train and test set\n",
        "from sklearn.model_selection import train_test_split\n",
        "X_train, X_test, y_train, y_test = train_test_split(X_smote, y_smote, test_size = 0.2, random_state = 123, stratify = y_smote)"
      ],
      "metadata": {
        "id": "0KPRUZNxywNd"
      },
      "execution_count": 23,
      "outputs": []
    },
    {
      "cell_type": "code",
      "source": [
        "def model_trainer_tester(model, X_train_func, X_test_func, y_train_func, y_test_func, params = None):\n",
        "  '''\n",
        "  This function takes model, training and testing sets and parameter combinations as input\n",
        "  and gives model performance and best parameters as output\n",
        "  '''\n",
        "\n",
        "  # Importing evaluation metrics\n",
        "  from sklearn.metrics import classification_report, confusion_matrix, recall_score, f1_score, make_scorer, roc_auc_score, precision_score, accuracy_score\n",
        "\n",
        "  # Conditioning if a parameter set is provided or not\n",
        "  if params == None:\n",
        "\n",
        "    # Fitting the model\n",
        "    model.fit(X_train_func, y_train_func)\n",
        "\n",
        "    # Prediction on training set\n",
        "    y_pred_train = model.predict(X_train_func)\n",
        "\n",
        "    # Prediction on testing set\n",
        "    y_pred_test = model.predict(X_test_func)\n",
        "\n",
        "    # Getting and printing evaluation metrics\n",
        "    print('Confusion Matrix for Training set : \\n')\n",
        "    print(confusion_matrix(y_train_func, y_pred_train))\n",
        "    print('Confusion Matrix for Testing set : \\n')\n",
        "    print(confusion_matrix(y_test_func, y_pred_test))\n",
        "\n",
        "    print('Classification report for Training set : \\n')\n",
        "    print(classification_report(y_train_func, y_pred_train))\n",
        "    print('Classification report for Testing set : \\n')\n",
        "    print(classification_report(y_test_func, y_pred_test))\n",
        "\n",
        "  else:\n",
        "\n",
        "    # Importing GridSearchCV\n",
        "    from sklearn.model_selection import GridSearchCV\n",
        "\n",
        "    # Grid Search on provided parameter sets\n",
        "    scorers = {\n",
        "    'precision_score': make_scorer(precision_score, average = 'weighted'),\n",
        "    'recall_score': make_scorer(recall_score, average = 'weighted'),\n",
        "    'accuracy_score': make_scorer(accuracy_score)\n",
        "    }\n",
        "    class_model = GridSearchCV(estimator = model, param_grid = params, scoring = scorers, refit = 'recall_score', cv = 3, verbose = 2)\n",
        "    class_model.fit(X_train_func, y_train_func)\n",
        "\n",
        "    # Getting the optimal model and parameters\n",
        "    optimal_model = class_model.best_estimator_\n",
        "    optimal_model.fit(X_train_func, y_train_func)\n",
        "    optimal_params = class_model.best_params_\n",
        "\n",
        "    # Prediction on training set\n",
        "    y_pred_train = optimal_model.predict(X_train_func)\n",
        "\n",
        "    # Prediction on testing set\n",
        "    y_pred_test = optimal_model.predict(X_test_func)\n",
        "\n",
        "    # Getting and printing evaluation metrics and best hyperparameters\n",
        "    print(f'\\nBest hyperparameter combination is : {optimal_params}\\n')\n",
        "    print('Confusion Matrix for Training set : \\n')\n",
        "    print(confusion_matrix(y_train_func, y_pred_train))\n",
        "    print('\\nConfusion Matrix for Testing set : \\n')\n",
        "    print(confusion_matrix(y_test_func, y_pred_test))\n",
        "\n",
        "    print('\\nClassification report for Training set : \\n')\n",
        "    print(classification_report(y_train_func, y_pred_train))\n",
        "    print('\\nClassification report for Testing set : \\n')\n",
        "    print(classification_report(y_test_func, y_pred_test))"
      ],
      "metadata": {
        "id": "j0nD4qgNxRVb"
      },
      "execution_count": 40,
      "outputs": []
    },
    {
      "cell_type": "code",
      "source": [
        "# Fitting a baseline Decision Tree\n",
        "from sklearn.tree import DecisionTreeClassifier\n",
        "model_trainer_tester(model = DecisionTreeClassifier(max_depth = 10), X_train_func = X_train, X_test_func = X_test, y_train_func = y_train, y_test_func = y_test)"
      ],
      "metadata": {
        "colab": {
          "base_uri": "https://localhost:8080/"
        },
        "id": "hJR8zA18yob3",
        "outputId": "6e4f48f3-9bd8-4a35-c0d5-daef61bacdb1"
      },
      "execution_count": 26,
      "outputs": [
        {
          "output_type": "stream",
          "name": "stdout",
          "text": [
            "Confusion Matrix for Training set : \n",
            "\n",
            "[[37570  4453  1928]\n",
            " [10066 18314 15571]\n",
            " [ 3570  9846 30535]]\n",
            "Confusion Matrix for Testing set : \n",
            "\n",
            "[[9257 1218  513]\n",
            " [2560 4426 4002]\n",
            " [ 916 2537 7535]]\n",
            "Classification report for Training set : \n",
            "\n",
            "              precision    recall  f1-score   support\n",
            "\n",
            "           0       0.73      0.85      0.79     43951\n",
            "           1       0.56      0.42      0.48     43951\n",
            "           2       0.64      0.69      0.66     43951\n",
            "\n",
            "    accuracy                           0.66    131853\n",
            "   macro avg       0.64      0.66      0.64    131853\n",
            "weighted avg       0.64      0.66      0.64    131853\n",
            "\n",
            "Classification report for Testing set : \n",
            "\n",
            "              precision    recall  f1-score   support\n",
            "\n",
            "           0       0.73      0.84      0.78     10988\n",
            "           1       0.54      0.40      0.46     10988\n",
            "           2       0.63      0.69      0.65     10988\n",
            "\n",
            "    accuracy                           0.64     32964\n",
            "   macro avg       0.63      0.64      0.63     32964\n",
            "weighted avg       0.63      0.64      0.63     32964\n",
            "\n"
          ]
        }
      ]
    },
    {
      "cell_type": "markdown",
      "source": [
        "We can see that a baseline Decision Tree Model is giving similar kind of metrics across both train and test set which signifies that class imbalance is managed and we are good to go with training."
      ],
      "metadata": {
        "id": "dZHTxy4N7ZQO"
      }
    },
    {
      "cell_type": "markdown",
      "source": [
        "### **1. Decision Tree Classifier :**"
      ],
      "metadata": {
        "id": "GctyQW5P46Hq"
      }
    },
    {
      "cell_type": "code",
      "source": [
        "# Exporting and initiating the Decision Tree Classification model\n",
        "from sklearn.tree import DecisionTreeClassifier\n",
        "parameters = [{'max_depth' : [5,10,15],\n",
        "               'min_samples_split' : [3,5,7]}]\n",
        "model_trainer_tester(model = DecisionTreeClassifier(), X_train_func = X_train, X_test_func = X_test, y_train_func = y_train, y_test_func = y_test, params = parameters)"
      ],
      "metadata": {
        "colab": {
          "base_uri": "https://localhost:8080/"
        },
        "id": "YU_Yi5RvzVC6",
        "outputId": "edc84d2b-0721-4bf8-9a6f-35c34e285ebf"
      },
      "execution_count": 41,
      "outputs": [
        {
          "output_type": "stream",
          "name": "stdout",
          "text": [
            "Fitting 3 folds for each of 9 candidates, totalling 27 fits\n",
            "[CV] END ...................max_depth=5, min_samples_split=3; total time=   0.3s\n",
            "[CV] END ...................max_depth=5, min_samples_split=3; total time=   0.3s\n",
            "[CV] END ...................max_depth=5, min_samples_split=3; total time=   0.3s\n",
            "[CV] END ...................max_depth=5, min_samples_split=5; total time=   0.3s\n",
            "[CV] END ...................max_depth=5, min_samples_split=5; total time=   0.3s\n",
            "[CV] END ...................max_depth=5, min_samples_split=5; total time=   0.3s\n",
            "[CV] END ...................max_depth=5, min_samples_split=7; total time=   0.3s\n",
            "[CV] END ...................max_depth=5, min_samples_split=7; total time=   0.3s\n",
            "[CV] END ...................max_depth=5, min_samples_split=7; total time=   0.3s\n",
            "[CV] END ..................max_depth=10, min_samples_split=3; total time=   0.5s\n",
            "[CV] END ..................max_depth=10, min_samples_split=3; total time=   0.5s\n",
            "[CV] END ..................max_depth=10, min_samples_split=3; total time=   0.5s\n",
            "[CV] END ..................max_depth=10, min_samples_split=5; total time=   0.5s\n",
            "[CV] END ..................max_depth=10, min_samples_split=5; total time=   0.5s\n",
            "[CV] END ..................max_depth=10, min_samples_split=5; total time=   0.5s\n",
            "[CV] END ..................max_depth=10, min_samples_split=7; total time=   0.5s\n",
            "[CV] END ..................max_depth=10, min_samples_split=7; total time=   0.5s\n",
            "[CV] END ..................max_depth=10, min_samples_split=7; total time=   0.5s\n",
            "[CV] END ..................max_depth=15, min_samples_split=3; total time=   0.7s\n",
            "[CV] END ..................max_depth=15, min_samples_split=3; total time=   0.7s\n",
            "[CV] END ..................max_depth=15, min_samples_split=3; total time=   0.7s\n",
            "[CV] END ..................max_depth=15, min_samples_split=5; total time=   0.7s\n",
            "[CV] END ..................max_depth=15, min_samples_split=5; total time=   0.7s\n",
            "[CV] END ..................max_depth=15, min_samples_split=5; total time=   0.7s\n",
            "[CV] END ..................max_depth=15, min_samples_split=7; total time=   0.7s\n",
            "[CV] END ..................max_depth=15, min_samples_split=7; total time=   0.7s\n",
            "[CV] END ..................max_depth=15, min_samples_split=7; total time=   0.7s\n",
            "\n",
            "Best hyperparameter combination is : {'max_depth': 15, 'min_samples_split': 3}\n",
            "\n",
            "Confusion Matrix for Training set : \n",
            "\n",
            "[[40604  2534   813]\n",
            " [ 5585 25230 13136]\n",
            " [ 1366  6499 36086]]\n",
            "\n",
            "Confusion Matrix for Testing set : \n",
            "\n",
            "[[9332 1287  369]\n",
            " [1914 5434 3640]\n",
            " [ 479 1887 8622]]\n",
            "\n",
            "Classification report for Training set : \n",
            "\n",
            "              precision    recall  f1-score   support\n",
            "\n",
            "           0       0.85      0.92      0.89     43951\n",
            "           1       0.74      0.57      0.65     43951\n",
            "           2       0.72      0.82      0.77     43951\n",
            "\n",
            "    accuracy                           0.77    131853\n",
            "   macro avg       0.77      0.77      0.77    131853\n",
            "weighted avg       0.77      0.77      0.77    131853\n",
            "\n",
            "\n",
            "Classification report for Testing set : \n",
            "\n",
            "              precision    recall  f1-score   support\n",
            "\n",
            "           0       0.80      0.85      0.82     10988\n",
            "           1       0.63      0.49      0.55     10988\n",
            "           2       0.68      0.78      0.73     10988\n",
            "\n",
            "    accuracy                           0.71     32964\n",
            "   macro avg       0.70      0.71      0.70     32964\n",
            "weighted avg       0.70      0.71      0.70     32964\n",
            "\n"
          ]
        }
      ]
    },
    {
      "cell_type": "markdown",
      "source": [
        "The Decision Tree Classifier perfomed pretty well with around 77% accuracy for training set and around 71% accuracy for testing set.\n",
        "\n",
        "##### Now let's move towards Random Forest Classifier."
      ],
      "metadata": {
        "id": "dAkd1JpG78kk"
      }
    },
    {
      "cell_type": "markdown",
      "source": [
        "### **2. Random Forest Classifier :**"
      ],
      "metadata": {
        "id": "OmwPaXvR8Uf0"
      }
    },
    {
      "cell_type": "code",
      "source": [
        "# Exporting and initiating the Random Forest Classification model\n",
        "from sklearn.ensemble import RandomForestClassifier\n",
        "parameters = [{'n_estimators' : [40,80],\n",
        "               'max_depth' : [5,10,15],\n",
        "               'min_samples_split' : [3,5]}]\n",
        "model_trainer_tester(model = RandomForestClassifier(), X_train_func = X_train, X_test_func = X_test, y_train_func = y_train, y_test_func = y_test, params = parameters)"
      ],
      "metadata": {
        "colab": {
          "base_uri": "https://localhost:8080/"
        },
        "id": "ShhTjss45yzR",
        "outputId": "4ca1e447-2a83-40c0-ff96-41bf7bf612bb"
      },
      "execution_count": 42,
      "outputs": [
        {
          "output_type": "stream",
          "name": "stdout",
          "text": [
            "Fitting 3 folds for each of 12 candidates, totalling 36 fits\n",
            "[CV] END ..max_depth=5, min_samples_split=3, n_estimators=40; total time=   2.5s\n",
            "[CV] END ..max_depth=5, min_samples_split=3, n_estimators=40; total time=   2.4s\n",
            "[CV] END ..max_depth=5, min_samples_split=3, n_estimators=40; total time=   2.5s\n",
            "[CV] END ..max_depth=5, min_samples_split=3, n_estimators=80; total time=   4.9s\n",
            "[CV] END ..max_depth=5, min_samples_split=3, n_estimators=80; total time=   4.8s\n",
            "[CV] END ..max_depth=5, min_samples_split=3, n_estimators=80; total time=   5.0s\n",
            "[CV] END ..max_depth=5, min_samples_split=5, n_estimators=40; total time=   2.6s\n",
            "[CV] END ..max_depth=5, min_samples_split=5, n_estimators=40; total time=   2.4s\n",
            "[CV] END ..max_depth=5, min_samples_split=5, n_estimators=40; total time=   2.4s\n",
            "[CV] END ..max_depth=5, min_samples_split=5, n_estimators=80; total time=   5.0s\n",
            "[CV] END ..max_depth=5, min_samples_split=5, n_estimators=80; total time=   4.8s\n",
            "[CV] END ..max_depth=5, min_samples_split=5, n_estimators=80; total time=   4.9s\n",
            "[CV] END .max_depth=10, min_samples_split=3, n_estimators=40; total time=   4.0s\n",
            "[CV] END .max_depth=10, min_samples_split=3, n_estimators=40; total time=   4.0s\n",
            "[CV] END .max_depth=10, min_samples_split=3, n_estimators=40; total time=   4.8s\n",
            "[CV] END .max_depth=10, min_samples_split=3, n_estimators=80; total time=   8.5s\n",
            "[CV] END .max_depth=10, min_samples_split=3, n_estimators=80; total time=   8.0s\n",
            "[CV] END .max_depth=10, min_samples_split=3, n_estimators=80; total time=   8.0s\n",
            "[CV] END .max_depth=10, min_samples_split=5, n_estimators=40; total time=   4.0s\n",
            "[CV] END .max_depth=10, min_samples_split=5, n_estimators=40; total time=   3.9s\n",
            "[CV] END .max_depth=10, min_samples_split=5, n_estimators=40; total time=   4.0s\n",
            "[CV] END .max_depth=10, min_samples_split=5, n_estimators=80; total time=   8.1s\n",
            "[CV] END .max_depth=10, min_samples_split=5, n_estimators=80; total time=   8.6s\n",
            "[CV] END .max_depth=10, min_samples_split=5, n_estimators=80; total time=   8.4s\n",
            "[CV] END .max_depth=15, min_samples_split=3, n_estimators=40; total time=   5.8s\n",
            "[CV] END .max_depth=15, min_samples_split=3, n_estimators=40; total time=   5.4s\n",
            "[CV] END .max_depth=15, min_samples_split=3, n_estimators=40; total time=   5.6s\n",
            "[CV] END .max_depth=15, min_samples_split=3, n_estimators=80; total time=  11.1s\n",
            "[CV] END .max_depth=15, min_samples_split=3, n_estimators=80; total time=  10.8s\n",
            "[CV] END .max_depth=15, min_samples_split=3, n_estimators=80; total time=  10.9s\n",
            "[CV] END .max_depth=15, min_samples_split=5, n_estimators=40; total time=   5.5s\n",
            "[CV] END .max_depth=15, min_samples_split=5, n_estimators=40; total time=   5.5s\n",
            "[CV] END .max_depth=15, min_samples_split=5, n_estimators=40; total time=   5.4s\n",
            "[CV] END .max_depth=15, min_samples_split=5, n_estimators=80; total time=  11.1s\n",
            "[CV] END .max_depth=15, min_samples_split=5, n_estimators=80; total time=  11.0s\n",
            "[CV] END .max_depth=15, min_samples_split=5, n_estimators=80; total time=  10.9s\n",
            "\n",
            "Best hyperparameter combination is : {'max_depth': 15, 'min_samples_split': 3, 'n_estimators': 80}\n",
            "\n",
            "Confusion Matrix for Training set : \n",
            "\n",
            "[[42074  1274   603]\n",
            " [ 5147 26286 12518]\n",
            " [ 1286  3857 38808]]\n",
            "\n",
            "Confusion Matrix for Testing set : \n",
            "\n",
            "[[10020   764   204]\n",
            " [ 1993  5504  3491]\n",
            " [  486  1246  9256]]\n",
            "\n",
            "Classification report for Training set : \n",
            "\n",
            "              precision    recall  f1-score   support\n",
            "\n",
            "           0       0.87      0.96      0.91     43951\n",
            "           1       0.84      0.60      0.70     43951\n",
            "           2       0.75      0.88      0.81     43951\n",
            "\n",
            "    accuracy                           0.81    131853\n",
            "   macro avg       0.82      0.81      0.81    131853\n",
            "weighted avg       0.82      0.81      0.81    131853\n",
            "\n",
            "\n",
            "Classification report for Testing set : \n",
            "\n",
            "              precision    recall  f1-score   support\n",
            "\n",
            "           0       0.80      0.91      0.85     10988\n",
            "           1       0.73      0.50      0.59     10988\n",
            "           2       0.71      0.84      0.77     10988\n",
            "\n",
            "    accuracy                           0.75     32964\n",
            "   macro avg       0.75      0.75      0.74     32964\n",
            "weighted avg       0.75      0.75      0.74     32964\n",
            "\n"
          ]
        }
      ]
    },
    {
      "cell_type": "markdown",
      "source": [
        "The Random Forest Classifier gave around 81% accuracy on training set and around 75% accuracy on testing set. The precision and f1 score for all classes are pretty good, but the recall for class 1 is pretty low."
      ],
      "metadata": {
        "id": "Vi-rXwonH2qv"
      }
    },
    {
      "cell_type": "markdown",
      "source": [
        "### **3. Gradient Boosting Machine :**"
      ],
      "metadata": {
        "id": "h4UCjM32KO6N"
      }
    },
    {
      "cell_type": "code",
      "source": [
        "# Exporting and initiating the Gradient Boosting Machine model\n",
        "from sklearn.ensemble import GradientBoostingClassifier\n",
        "parameters = [{'n_estimators' : [40,80],\n",
        "               'max_depth' : [5,10,15],\n",
        "               'min_samples_split' : [3,5]}]\n",
        "model_trainer_tester(model = GradientBoostingClassifier(), X_train_func = X_train, X_test_func = X_test, y_train_func = y_train, y_test_func = y_test, params = parameters)"
      ],
      "metadata": {
        "colab": {
          "base_uri": "https://localhost:8080/"
        },
        "id": "z3W1gYWv8rED",
        "outputId": "7840e8d2-c3b8-441a-e402-950c152617b2"
      },
      "execution_count": 43,
      "outputs": [
        {
          "output_type": "stream",
          "name": "stdout",
          "text": [
            "Fitting 3 folds for each of 12 candidates, totalling 36 fits\n",
            "[CV] END ..max_depth=5, min_samples_split=3, n_estimators=40; total time=  30.8s\n",
            "[CV] END ..max_depth=5, min_samples_split=3, n_estimators=40; total time=  32.0s\n",
            "[CV] END ..max_depth=5, min_samples_split=3, n_estimators=40; total time=  30.7s\n",
            "[CV] END ..max_depth=5, min_samples_split=3, n_estimators=80; total time= 1.0min\n",
            "[CV] END ..max_depth=5, min_samples_split=3, n_estimators=80; total time= 1.0min\n",
            "[CV] END ..max_depth=5, min_samples_split=3, n_estimators=80; total time= 1.0min\n",
            "[CV] END ..max_depth=5, min_samples_split=5, n_estimators=40; total time=  30.5s\n",
            "[CV] END ..max_depth=5, min_samples_split=5, n_estimators=40; total time=  30.6s\n",
            "[CV] END ..max_depth=5, min_samples_split=5, n_estimators=40; total time=  31.6s\n",
            "[CV] END ..max_depth=5, min_samples_split=5, n_estimators=80; total time= 1.0min\n",
            "[CV] END ..max_depth=5, min_samples_split=5, n_estimators=80; total time= 1.0min\n",
            "[CV] END ..max_depth=5, min_samples_split=5, n_estimators=80; total time= 1.0min\n",
            "[CV] END .max_depth=10, min_samples_split=3, n_estimators=40; total time= 1.0min\n",
            "[CV] END .max_depth=10, min_samples_split=3, n_estimators=40; total time= 1.1min\n",
            "[CV] END .max_depth=10, min_samples_split=3, n_estimators=40; total time= 1.0min\n",
            "[CV] END .max_depth=10, min_samples_split=3, n_estimators=80; total time= 2.0min\n",
            "[CV] END .max_depth=10, min_samples_split=3, n_estimators=80; total time= 2.0min\n",
            "[CV] END .max_depth=10, min_samples_split=3, n_estimators=80; total time= 2.0min\n",
            "[CV] END .max_depth=10, min_samples_split=5, n_estimators=40; total time= 1.0min\n",
            "[CV] END .max_depth=10, min_samples_split=5, n_estimators=40; total time= 1.0min\n",
            "[CV] END .max_depth=10, min_samples_split=5, n_estimators=40; total time= 1.0min\n",
            "[CV] END .max_depth=10, min_samples_split=5, n_estimators=80; total time= 2.0min\n",
            "[CV] END .max_depth=10, min_samples_split=5, n_estimators=80; total time= 2.0min\n",
            "[CV] END .max_depth=10, min_samples_split=5, n_estimators=80; total time= 2.0min\n",
            "[CV] END .max_depth=15, min_samples_split=3, n_estimators=40; total time= 2.3min\n",
            "[CV] END .max_depth=15, min_samples_split=3, n_estimators=40; total time= 2.2min\n",
            "[CV] END .max_depth=15, min_samples_split=3, n_estimators=40; total time= 2.3min\n",
            "[CV] END .max_depth=15, min_samples_split=3, n_estimators=80; total time= 4.2min\n",
            "[CV] END .max_depth=15, min_samples_split=3, n_estimators=80; total time= 4.1min\n",
            "[CV] END .max_depth=15, min_samples_split=3, n_estimators=80; total time= 4.1min\n",
            "[CV] END .max_depth=15, min_samples_split=5, n_estimators=40; total time= 2.0min\n",
            "[CV] END .max_depth=15, min_samples_split=5, n_estimators=40; total time= 2.0min\n",
            "[CV] END .max_depth=15, min_samples_split=5, n_estimators=40; total time= 2.0min\n",
            "[CV] END .max_depth=15, min_samples_split=5, n_estimators=80; total time= 3.8min\n",
            "[CV] END .max_depth=15, min_samples_split=5, n_estimators=80; total time= 3.7min\n",
            "[CV] END .max_depth=15, min_samples_split=5, n_estimators=80; total time= 3.8min\n",
            "\n",
            "Best hyperparameter combination is : {'max_depth': 15, 'min_samples_split': 5, 'n_estimators': 80}\n",
            "\n",
            "Confusion Matrix for Training set : \n",
            "\n",
            "[[43934    16     1]\n",
            " [  226 43600   125]\n",
            " [   15    12 43924]]\n",
            "\n",
            "Confusion Matrix for Testing set : \n",
            "\n",
            "[[10267   670    51]\n",
            " [ 1411  8728   849]\n",
            " [  282   443 10263]]\n",
            "\n",
            "Classification report for Training set : \n",
            "\n",
            "              precision    recall  f1-score   support\n",
            "\n",
            "           0       0.99      1.00      1.00     43951\n",
            "           1       1.00      0.99      1.00     43951\n",
            "           2       1.00      1.00      1.00     43951\n",
            "\n",
            "    accuracy                           1.00    131853\n",
            "   macro avg       1.00      1.00      1.00    131853\n",
            "weighted avg       1.00      1.00      1.00    131853\n",
            "\n",
            "\n",
            "Classification report for Testing set : \n",
            "\n",
            "              precision    recall  f1-score   support\n",
            "\n",
            "           0       0.86      0.93      0.89     10988\n",
            "           1       0.89      0.79      0.84     10988\n",
            "           2       0.92      0.93      0.93     10988\n",
            "\n",
            "    accuracy                           0.89     32964\n",
            "   macro avg       0.89      0.89      0.89     32964\n",
            "weighted avg       0.89      0.89      0.89     32964\n",
            "\n"
          ]
        }
      ]
    },
    {
      "cell_type": "markdown",
      "source": [
        "This seems pretty good to me! Training accuracy is almost 100% and testing accuracy is almost 90%! But I am going to fit another GBM to investigate whether the accuracy of 100% is a result of overfitting or not.\n",
        "\n",
        "##### Also the recall for class 2 is pretty high, which signifies that the model is pretty good at predicting which customers might acknowledge the mails."
      ],
      "metadata": {
        "id": "Pf3_12upCaQK"
      }
    },
    {
      "cell_type": "code",
      "source": [
        "# Fitting another GBM with intermediate values of hyperparameters provided by GridSearchCV\n",
        "model_trainer_tester(model = GradientBoostingClassifier(max_depth=10, min_samples_split=5, n_estimators=60), X_train_func = X_train, X_test_func = X_test, y_train_func = y_train, y_test_func = y_test)"
      ],
      "metadata": {
        "id": "S2lztNtRLgLr",
        "colab": {
          "base_uri": "https://localhost:8080/"
        },
        "outputId": "a44340b2-237f-47cd-efee-6cb1c6dab261"
      },
      "execution_count": 47,
      "outputs": [
        {
          "output_type": "stream",
          "name": "stdout",
          "text": [
            "Confusion Matrix for Training set : \n",
            "\n",
            "[[42853  1003    95]\n",
            " [ 4905 33302  5744]\n",
            " [ 1035  1697 41219]]\n",
            "Confusion Matrix for Testing set : \n",
            "\n",
            "[[10354   584    50]\n",
            " [ 1678  7254  2056]\n",
            " [  335   874  9779]]\n",
            "Classification report for Training set : \n",
            "\n",
            "              precision    recall  f1-score   support\n",
            "\n",
            "           0       0.88      0.98      0.92     43951\n",
            "           1       0.93      0.76      0.83     43951\n",
            "           2       0.88      0.94      0.91     43951\n",
            "\n",
            "    accuracy                           0.89    131853\n",
            "   macro avg       0.89      0.89      0.89    131853\n",
            "weighted avg       0.89      0.89      0.89    131853\n",
            "\n",
            "Classification report for Testing set : \n",
            "\n",
            "              precision    recall  f1-score   support\n",
            "\n",
            "           0       0.84      0.94      0.89     10988\n",
            "           1       0.83      0.66      0.74     10988\n",
            "           2       0.82      0.89      0.86     10988\n",
            "\n",
            "    accuracy                           0.83     32964\n",
            "   macro avg       0.83      0.83      0.83     32964\n",
            "weighted avg       0.83      0.83      0.83     32964\n",
            "\n"
          ]
        }
      ]
    },
    {
      "cell_type": "markdown",
      "source": [
        "It seems that the differnce between Training and Testing set accuracy is consistent. We can take either of the models for prediction purpose as if the model in the first case was overfit, the testing set accuracy would fluctuate too much."
      ],
      "metadata": {
        "id": "GJp1M3q5DjLP"
      }
    },
    {
      "cell_type": "markdown",
      "source": [
        "### **4. Support Vector Machine :**"
      ],
      "metadata": {
        "id": "z2Ai9ejfEOg4"
      }
    },
    {
      "cell_type": "code",
      "source": [
        ""
      ],
      "metadata": {
        "id": "IAhi4nCdBtRT"
      },
      "execution_count": null,
      "outputs": []
    }
  ]
}