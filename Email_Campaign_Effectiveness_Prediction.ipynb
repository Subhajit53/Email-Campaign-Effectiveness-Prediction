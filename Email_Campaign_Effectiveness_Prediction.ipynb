{
  "nbformat": 4,
  "nbformat_minor": 0,
  "metadata": {
    "colab": {
      "name": "Email Campaign Effectiveness Prediction.ipynb",
      "provenance": [],
      "collapsed_sections": [],
      "mount_file_id": "13DC1LyC6zSGWC4epbmMivQ_z-KWIWGY3",
      "authorship_tag": "ABX9TyMZv3fg3CO2QR9o8TkZr4X9",
      "include_colab_link": true
    },
    "kernelspec": {
      "name": "python3",
      "display_name": "Python 3"
    },
    "language_info": {
      "name": "python"
    }
  },
  "cells": [
    {
      "cell_type": "markdown",
      "metadata": {
        "id": "view-in-github",
        "colab_type": "text"
      },
      "source": [
        "<a href=\"https://colab.research.google.com/github/Subhajit53/Email-Campaign-Effectiveness-Prediction/blob/main/Email_Campaign_Effectiveness_Prediction.ipynb\" target=\"_parent\"><img src=\"https://colab.research.google.com/assets/colab-badge.svg\" alt=\"Open In Colab\"/></a>"
      ]
    },
    {
      "cell_type": "markdown",
      "source": [
        "# <b><u> Project Title : Email Campaign Effectiveness Prediction : Characterize the mail and track the mail</u></b>"
      ],
      "metadata": {
        "id": "K5yNIs6ObzqQ"
      }
    },
    {
      "cell_type": "markdown",
      "source": [
        "## <b> Problem Description </b>\n",
        "\n",
        "### Most of the small to medium business owners are making effective use of Gmail-based Email marketing Strategies for offline targeting of converting their prospective customers into leads so that they stay with them in Business. The main objective is to create a machine learning model to characterize the mail and track the mail that is ignored; read; acknowledged by the reader."
      ],
      "metadata": {
        "id": "NDWfk-hscSIF"
      }
    },
    {
      "cell_type": "markdown",
      "source": [
        "## <b> Data Description </b>\n",
        "\n",
        "### Number of observations : 68353\n",
        "\n",
        "### <b> Columns : </b>\n",
        "\n",
        "1.   Email_ID : Unique identifier of emails sent\n",
        "2.   Email_Type : Type of email encoded as 1 and 2   \n",
        "3.   Subject_Hotness_Score : A score between 0 to 5 for hotness of the email topic\n",
        "4.   Email_Source_Type : Source of email encoded as 1 and 2\n",
        "5.   Customer_Location : Location of customer encoded as A,B,C,D,E,F,G\n",
        "6.   Email_Campaign_Type : Type of campaign encoded as 1, 2 and 3\n",
        "7.   Total_Past_Communications : Number of past communications\n",
        "8.   Time_Email_sent_Category\t: Time at which email email was sent encoded as 1, 2 and 3\n",
        "9.   Word_Count : Words in the email\n",
        "10.   Total_Links : Number of links in the email\n",
        "11.   Total_Images : Number of images in the email\n",
        "12.   Email_Status : Email status encoded as 0 : ignored, 1 : read, 2 : acknowledged\n",
        "\n",
        "\n",
        "\n",
        "\n",
        "\n",
        "\n",
        "\n"
      ],
      "metadata": {
        "id": "oNA7MlGQcj8I"
      }
    },
    {
      "cell_type": "markdown",
      "source": [
        "# **Introduction :**\n",
        "##### An email campaign is a sequence of marketing efforts that contacts multiple recipients at once. Email campaigns are designed to reach out to subscribers at the best time and provide valuable content and relevant offers. Using email campaigns allows you to build deep and trusting relationships with your customers.\n",
        "\n",
        "##### There are multiple factors that are working behind success of an email campaign like email contents, time at which email was sent, length of the email etc.\n",
        "\n",
        "##### Here, I want to build a classification model to predict whether any particular campaign email is going blind or hitting the target."
      ],
      "metadata": {
        "id": "WOibGQcp3c00"
      }
    },
    {
      "cell_type": "markdown",
      "source": [
        "# **Approach :**\n",
        "##### To solve the problem, I have devised a 3-step approach below:\n",
        "\n",
        "#### **1. Basic EDA :**\n",
        "##### In this step, I want to do some exploration on the data. First, I shall check for null values and try to replace or remove them. Then, I shall check for outliers using boxplots and try to replace or remove them. Thirdly, I shall get some visualizations to get an idea of the variables in hand.\n",
        "\n",
        "\n",
        "#### **2. Model training and testing :**\n",
        "##### In this step, I shall get a train-test pair from the given dataset and fit 5 classification models to the train set, make predictions on the test set using them and calculate various evaluation metrics. The models are namely : Decision Trees, Random Forests, Gradient Boosting Machine, Support Vector Machines, Naive-Bayes Classifier.\n",
        "\n",
        "**Note:** A point to be noted here. We can't fit a logistic regression here as this is a multi-class (>2) classification problem.\n",
        "\n",
        "#### **3. Model Evaluation :**\n",
        "##### As the last step, I shall compare all the models and try to come up with a conclusion about which model might be the best choice here."
      ],
      "metadata": {
        "id": "etPiIBnH5Bjx"
      }
    },
    {
      "cell_type": "markdown",
      "source": [
        "# **Analysis:**"
      ],
      "metadata": {
        "id": "FmTP1gsM6DlO"
      }
    },
    {
      "cell_type": "markdown",
      "source": [
        "### **Data Exporting and exploration :**"
      ],
      "metadata": {
        "id": "g67KIpuO6GC1"
      }
    },
    {
      "cell_type": "code",
      "source": [
        "# Importing essential libraries\n",
        "import pandas as pd\n",
        "import numpy as np\n",
        "import matplotlib.pyplot as plt\n",
        "import seaborn as sns"
      ],
      "metadata": {
        "id": "kGvYGqnBc-eJ"
      },
      "execution_count": 3,
      "outputs": []
    },
    {
      "cell_type": "code",
      "source": [
        "# Mounting drive\n",
        "from google.colab import drive\n",
        "drive.mount('/content/drive')"
      ],
      "metadata": {
        "id": "yXvqDqLidGmH",
        "colab": {
          "base_uri": "https://localhost:8080/"
        },
        "outputId": "a88a1a45-722e-4a72-ff19-ed1be315bf61"
      },
      "execution_count": 4,
      "outputs": [
        {
          "output_type": "stream",
          "name": "stdout",
          "text": [
            "Drive already mounted at /content/drive; to attempt to forcibly remount, call drive.mount(\"/content/drive\", force_remount=True).\n"
          ]
        }
      ]
    },
    {
      "cell_type": "code",
      "source": [
        "# Reading the dataset\n",
        "df = pd.read_csv('/content/drive/MyDrive/Classification Project/Copy of data_email_campaign.csv', index_col='Email_ID')"
      ],
      "metadata": {
        "id": "QzYbEuQhdNnF"
      },
      "execution_count": 5,
      "outputs": []
    },
    {
      "cell_type": "code",
      "source": [
        "# Getting a glimpse of the data\n",
        "df.head()"
      ],
      "metadata": {
        "colab": {
          "base_uri": "https://localhost:8080/",
          "height": 302
        },
        "id": "kWxKRRm4dUDj",
        "outputId": "1cf15b4e-2e3d-4ef3-a3aa-f699707409c0"
      },
      "execution_count": 6,
      "outputs": [
        {
          "output_type": "execute_result",
          "data": {
            "text/html": [
              "\n",
              "  <div id=\"df-c094a1b0-1062-46c2-8a09-649879102edd\">\n",
              "    <div class=\"colab-df-container\">\n",
              "      <div>\n",
              "<style scoped>\n",
              "    .dataframe tbody tr th:only-of-type {\n",
              "        vertical-align: middle;\n",
              "    }\n",
              "\n",
              "    .dataframe tbody tr th {\n",
              "        vertical-align: top;\n",
              "    }\n",
              "\n",
              "    .dataframe thead th {\n",
              "        text-align: right;\n",
              "    }\n",
              "</style>\n",
              "<table border=\"1\" class=\"dataframe\">\n",
              "  <thead>\n",
              "    <tr style=\"text-align: right;\">\n",
              "      <th></th>\n",
              "      <th>Email_Type</th>\n",
              "      <th>Subject_Hotness_Score</th>\n",
              "      <th>Email_Source_Type</th>\n",
              "      <th>Customer_Location</th>\n",
              "      <th>Email_Campaign_Type</th>\n",
              "      <th>Total_Past_Communications</th>\n",
              "      <th>Time_Email_sent_Category</th>\n",
              "      <th>Word_Count</th>\n",
              "      <th>Total_Links</th>\n",
              "      <th>Total_Images</th>\n",
              "      <th>Email_Status</th>\n",
              "    </tr>\n",
              "    <tr>\n",
              "      <th>Email_ID</th>\n",
              "      <th></th>\n",
              "      <th></th>\n",
              "      <th></th>\n",
              "      <th></th>\n",
              "      <th></th>\n",
              "      <th></th>\n",
              "      <th></th>\n",
              "      <th></th>\n",
              "      <th></th>\n",
              "      <th></th>\n",
              "      <th></th>\n",
              "    </tr>\n",
              "  </thead>\n",
              "  <tbody>\n",
              "    <tr>\n",
              "      <th>EMA00081000034500</th>\n",
              "      <td>1</td>\n",
              "      <td>2.2</td>\n",
              "      <td>2</td>\n",
              "      <td>E</td>\n",
              "      <td>2</td>\n",
              "      <td>33.0</td>\n",
              "      <td>1</td>\n",
              "      <td>440</td>\n",
              "      <td>8.0</td>\n",
              "      <td>0.0</td>\n",
              "      <td>0</td>\n",
              "    </tr>\n",
              "    <tr>\n",
              "      <th>EMA00081000045360</th>\n",
              "      <td>2</td>\n",
              "      <td>2.1</td>\n",
              "      <td>1</td>\n",
              "      <td>NaN</td>\n",
              "      <td>2</td>\n",
              "      <td>15.0</td>\n",
              "      <td>2</td>\n",
              "      <td>504</td>\n",
              "      <td>5.0</td>\n",
              "      <td>0.0</td>\n",
              "      <td>0</td>\n",
              "    </tr>\n",
              "    <tr>\n",
              "      <th>EMA00081000066290</th>\n",
              "      <td>2</td>\n",
              "      <td>0.1</td>\n",
              "      <td>1</td>\n",
              "      <td>B</td>\n",
              "      <td>3</td>\n",
              "      <td>36.0</td>\n",
              "      <td>2</td>\n",
              "      <td>962</td>\n",
              "      <td>5.0</td>\n",
              "      <td>0.0</td>\n",
              "      <td>1</td>\n",
              "    </tr>\n",
              "    <tr>\n",
              "      <th>EMA00081000076560</th>\n",
              "      <td>1</td>\n",
              "      <td>3.0</td>\n",
              "      <td>2</td>\n",
              "      <td>E</td>\n",
              "      <td>2</td>\n",
              "      <td>25.0</td>\n",
              "      <td>2</td>\n",
              "      <td>610</td>\n",
              "      <td>16.0</td>\n",
              "      <td>0.0</td>\n",
              "      <td>0</td>\n",
              "    </tr>\n",
              "    <tr>\n",
              "      <th>EMA00081000109720</th>\n",
              "      <td>1</td>\n",
              "      <td>0.0</td>\n",
              "      <td>2</td>\n",
              "      <td>C</td>\n",
              "      <td>3</td>\n",
              "      <td>18.0</td>\n",
              "      <td>2</td>\n",
              "      <td>947</td>\n",
              "      <td>4.0</td>\n",
              "      <td>0.0</td>\n",
              "      <td>0</td>\n",
              "    </tr>\n",
              "  </tbody>\n",
              "</table>\n",
              "</div>\n",
              "      <button class=\"colab-df-convert\" onclick=\"convertToInteractive('df-c094a1b0-1062-46c2-8a09-649879102edd')\"\n",
              "              title=\"Convert this dataframe to an interactive table.\"\n",
              "              style=\"display:none;\">\n",
              "        \n",
              "  <svg xmlns=\"http://www.w3.org/2000/svg\" height=\"24px\"viewBox=\"0 0 24 24\"\n",
              "       width=\"24px\">\n",
              "    <path d=\"M0 0h24v24H0V0z\" fill=\"none\"/>\n",
              "    <path d=\"M18.56 5.44l.94 2.06.94-2.06 2.06-.94-2.06-.94-.94-2.06-.94 2.06-2.06.94zm-11 1L8.5 8.5l.94-2.06 2.06-.94-2.06-.94L8.5 2.5l-.94 2.06-2.06.94zm10 10l.94 2.06.94-2.06 2.06-.94-2.06-.94-.94-2.06-.94 2.06-2.06.94z\"/><path d=\"M17.41 7.96l-1.37-1.37c-.4-.4-.92-.59-1.43-.59-.52 0-1.04.2-1.43.59L10.3 9.45l-7.72 7.72c-.78.78-.78 2.05 0 2.83L4 21.41c.39.39.9.59 1.41.59.51 0 1.02-.2 1.41-.59l7.78-7.78 2.81-2.81c.8-.78.8-2.07 0-2.86zM5.41 20L4 18.59l7.72-7.72 1.47 1.35L5.41 20z\"/>\n",
              "  </svg>\n",
              "      </button>\n",
              "      \n",
              "  <style>\n",
              "    .colab-df-container {\n",
              "      display:flex;\n",
              "      flex-wrap:wrap;\n",
              "      gap: 12px;\n",
              "    }\n",
              "\n",
              "    .colab-df-convert {\n",
              "      background-color: #E8F0FE;\n",
              "      border: none;\n",
              "      border-radius: 50%;\n",
              "      cursor: pointer;\n",
              "      display: none;\n",
              "      fill: #1967D2;\n",
              "      height: 32px;\n",
              "      padding: 0 0 0 0;\n",
              "      width: 32px;\n",
              "    }\n",
              "\n",
              "    .colab-df-convert:hover {\n",
              "      background-color: #E2EBFA;\n",
              "      box-shadow: 0px 1px 2px rgba(60, 64, 67, 0.3), 0px 1px 3px 1px rgba(60, 64, 67, 0.15);\n",
              "      fill: #174EA6;\n",
              "    }\n",
              "\n",
              "    [theme=dark] .colab-df-convert {\n",
              "      background-color: #3B4455;\n",
              "      fill: #D2E3FC;\n",
              "    }\n",
              "\n",
              "    [theme=dark] .colab-df-convert:hover {\n",
              "      background-color: #434B5C;\n",
              "      box-shadow: 0px 1px 3px 1px rgba(0, 0, 0, 0.15);\n",
              "      filter: drop-shadow(0px 1px 2px rgba(0, 0, 0, 0.3));\n",
              "      fill: #FFFFFF;\n",
              "    }\n",
              "  </style>\n",
              "\n",
              "      <script>\n",
              "        const buttonEl =\n",
              "          document.querySelector('#df-c094a1b0-1062-46c2-8a09-649879102edd button.colab-df-convert');\n",
              "        buttonEl.style.display =\n",
              "          google.colab.kernel.accessAllowed ? 'block' : 'none';\n",
              "\n",
              "        async function convertToInteractive(key) {\n",
              "          const element = document.querySelector('#df-c094a1b0-1062-46c2-8a09-649879102edd');\n",
              "          const dataTable =\n",
              "            await google.colab.kernel.invokeFunction('convertToInteractive',\n",
              "                                                     [key], {});\n",
              "          if (!dataTable) return;\n",
              "\n",
              "          const docLinkHtml = 'Like what you see? Visit the ' +\n",
              "            '<a target=\"_blank\" href=https://colab.research.google.com/notebooks/data_table.ipynb>data table notebook</a>'\n",
              "            + ' to learn more about interactive tables.';\n",
              "          element.innerHTML = '';\n",
              "          dataTable['output_type'] = 'display_data';\n",
              "          await google.colab.output.renderOutput(dataTable, element);\n",
              "          const docLink = document.createElement('div');\n",
              "          docLink.innerHTML = docLinkHtml;\n",
              "          element.appendChild(docLink);\n",
              "        }\n",
              "      </script>\n",
              "    </div>\n",
              "  </div>\n",
              "  "
            ],
            "text/plain": [
              "                   Email_Type  ...  Email_Status\n",
              "Email_ID                       ...              \n",
              "EMA00081000034500           1  ...             0\n",
              "EMA00081000045360           2  ...             0\n",
              "EMA00081000066290           2  ...             1\n",
              "EMA00081000076560           1  ...             0\n",
              "EMA00081000109720           1  ...             0\n",
              "\n",
              "[5 rows x 11 columns]"
            ]
          },
          "metadata": {},
          "execution_count": 6
        }
      ]
    },
    {
      "cell_type": "code",
      "source": [
        "# Getting the shape of the data\n",
        "df.shape"
      ],
      "metadata": {
        "colab": {
          "base_uri": "https://localhost:8080/"
        },
        "id": "c5Kjx6L-6O8V",
        "outputId": "66d54e06-72b5-4137-ba98-f2af7cc7d9ec"
      },
      "execution_count": 7,
      "outputs": [
        {
          "output_type": "execute_result",
          "data": {
            "text/plain": [
              "(68353, 11)"
            ]
          },
          "metadata": {},
          "execution_count": 7
        }
      ]
    },
    {
      "cell_type": "code",
      "source": [
        "# Getting a short info of the data\n",
        "df.info()"
      ],
      "metadata": {
        "colab": {
          "base_uri": "https://localhost:8080/"
        },
        "id": "XqxyR-f5did8",
        "outputId": "be312358-2dbb-45b2-8f6d-9d6aa2a2c872"
      },
      "execution_count": 8,
      "outputs": [
        {
          "output_type": "stream",
          "name": "stdout",
          "text": [
            "<class 'pandas.core.frame.DataFrame'>\n",
            "Index: 68353 entries, EMA00081000034500 to EMA00089999316900\n",
            "Data columns (total 11 columns):\n",
            " #   Column                     Non-Null Count  Dtype  \n",
            "---  ------                     --------------  -----  \n",
            " 0   Email_Type                 68353 non-null  int64  \n",
            " 1   Subject_Hotness_Score      68353 non-null  float64\n",
            " 2   Email_Source_Type          68353 non-null  int64  \n",
            " 3   Customer_Location          56758 non-null  object \n",
            " 4   Email_Campaign_Type        68353 non-null  int64  \n",
            " 5   Total_Past_Communications  61528 non-null  float64\n",
            " 6   Time_Email_sent_Category   68353 non-null  int64  \n",
            " 7   Word_Count                 68353 non-null  int64  \n",
            " 8   Total_Links                66152 non-null  float64\n",
            " 9   Total_Images               66676 non-null  float64\n",
            " 10  Email_Status               68353 non-null  int64  \n",
            "dtypes: float64(4), int64(6), object(1)\n",
            "memory usage: 6.3+ MB\n"
          ]
        }
      ]
    },
    {
      "cell_type": "markdown",
      "source": [
        "## **1. Basic EDA :**"
      ],
      "metadata": {
        "id": "X7eXeU4Z6KJt"
      }
    },
    {
      "cell_type": "markdown",
      "source": [
        "### **Imputing Missing Values :**"
      ],
      "metadata": {
        "id": "At6-2y1VP_5z"
      }
    },
    {
      "cell_type": "markdown",
      "source": [
        "From the data shape and info it is clear that there are some null values in the dataset. Let's have a look at them and see what we can do to impute them."
      ],
      "metadata": {
        "id": "Ee7DQlnF6RFO"
      }
    },
    {
      "cell_type": "markdown",
      "source": [
        "The columns with missing values are :\n",
        "\n",
        "1.   Customer_Location (Categorical)\n",
        "2.   Total_Past_Communications (Numerical)\n",
        "3.   Total_Links (Numerical)\n",
        "4.   Total_Images (Numerical)\n",
        "\n"
      ],
      "metadata": {
        "id": "ukA-Smw0618F"
      }
    },
    {
      "cell_type": "markdown",
      "source": [
        "We can do one thing here. We can first get dummy features on categorical column and then use KNNImputer to impute the missing values."
      ],
      "metadata": {
        "id": "7zvetaRe7Mx0"
      }
    },
    {
      "cell_type": "code",
      "source": [
        "# Getting dummy variables\n",
        "df_with_dummy = pd.get_dummies(df, prefix = '', prefix_sep = '')"
      ],
      "metadata": {
        "id": "VQJ6dMZ6GFqV"
      },
      "execution_count": 9,
      "outputs": []
    },
    {
      "cell_type": "code",
      "source": [
        "# Imputing missing data using KNN Imputer\n",
        "from sklearn.impute import KNNImputer\n",
        "imputer = KNNImputer(n_neighbors = 3)\n",
        "df_with_no_na = imputer.fit_transform(df_with_dummy)"
      ],
      "metadata": {
        "id": "x5KWp6LQ73KH"
      },
      "execution_count": 10,
      "outputs": []
    },
    {
      "cell_type": "code",
      "source": [
        "df_with_no_na = pd.DataFrame(df_with_no_na, columns = df_with_dummy.columns)"
      ],
      "metadata": {
        "id": "54HHYIy6IeUQ"
      },
      "execution_count": 11,
      "outputs": []
    },
    {
      "cell_type": "markdown",
      "source": [
        "Cool! Now let's impute the new modified columns to the main dataset."
      ],
      "metadata": {
        "id": "XUwavl2hJeEO"
      }
    },
    {
      "cell_type": "code",
      "source": [
        "# Replace columns with na values\n",
        "df['Total_Past_Communications'] = df_with_no_na['Total_Past_Communications'].values\n",
        "df['Total_Links'] = df_with_no_na['Total_Links'].values\n",
        "df['Total_Images'] = df_with_no_na['Total_Images'].values"
      ],
      "metadata": {
        "id": "M51lIxFRJrGk"
      },
      "execution_count": 12,
      "outputs": []
    },
    {
      "cell_type": "code",
      "source": [
        "# Check the info again\n",
        "df.info()"
      ],
      "metadata": {
        "colab": {
          "base_uri": "https://localhost:8080/"
        },
        "id": "D7ENN4t0JzE4",
        "outputId": "37f3eca1-291e-4f91-ff5a-796d2a720867"
      },
      "execution_count": 13,
      "outputs": [
        {
          "output_type": "stream",
          "name": "stdout",
          "text": [
            "<class 'pandas.core.frame.DataFrame'>\n",
            "Index: 68353 entries, EMA00081000034500 to EMA00089999316900\n",
            "Data columns (total 11 columns):\n",
            " #   Column                     Non-Null Count  Dtype  \n",
            "---  ------                     --------------  -----  \n",
            " 0   Email_Type                 68353 non-null  int64  \n",
            " 1   Subject_Hotness_Score      68353 non-null  float64\n",
            " 2   Email_Source_Type          68353 non-null  int64  \n",
            " 3   Customer_Location          56758 non-null  object \n",
            " 4   Email_Campaign_Type        68353 non-null  int64  \n",
            " 5   Total_Past_Communications  68353 non-null  float64\n",
            " 6   Time_Email_sent_Category   68353 non-null  int64  \n",
            " 7   Word_Count                 68353 non-null  int64  \n",
            " 8   Total_Links                68353 non-null  float64\n",
            " 9   Total_Images               68353 non-null  float64\n",
            " 10  Email_Status               68353 non-null  int64  \n",
            "dtypes: float64(4), int64(6), object(1)\n",
            "memory usage: 6.3+ MB\n"
          ]
        }
      ]
    },
    {
      "cell_type": "markdown",
      "source": [
        "Awesome! Now let's do something about the categorical column. I am going to use ML to solve this problem. I will build a simple Decision Trees model to predict Customer Location based on other features which will be trained on non-null observations and will predict on null observations."
      ],
      "metadata": {
        "id": "veG-KhfyKppN"
      }
    },
    {
      "cell_type": "code",
      "source": [
        "# Preparing the data\n",
        "df_with_no_null_cust_loc = df[df['Customer_Location'].isna() == False]\n",
        "df_with_null_cust_loc = df[df['Customer_Location'].isna() == True]"
      ],
      "metadata": {
        "id": "SgskCNvlHkzl"
      },
      "execution_count": 14,
      "outputs": []
    },
    {
      "cell_type": "code",
      "source": [
        "# Getting Training set\n",
        "X_train = df_with_no_null_cust_loc.drop(['Customer_Location'], axis = 1)\n",
        "y_train = df_with_no_null_cust_loc['Customer_Location']\n",
        "X_test = df_with_null_cust_loc.drop(['Customer_Location'], axis = 1)\n",
        "\n",
        "# Importing Decision Tree Classifier\n",
        "from sklearn.tree import DecisionTreeClassifier\n",
        "\n",
        "# Fitting the model\n",
        "dtree_model = DecisionTreeClassifier(max_depth=30).fit(X_train, y_train)\n",
        "\n",
        "# Getting accuracy on train set\n",
        "print(dtree_model.score(X_train, y_train))"
      ],
      "metadata": {
        "colab": {
          "base_uri": "https://localhost:8080/"
        },
        "id": "Nn88uYqrII2y",
        "outputId": "547b4507-3891-466a-821c-f00d858850dd"
      },
      "execution_count": 15,
      "outputs": [
        {
          "output_type": "stream",
          "name": "stdout",
          "text": [
            "0.933877162690722\n"
          ]
        }
      ]
    },
    {
      "cell_type": "markdown",
      "source": [
        "Pretty good! Now I will use this model to get my Customer Locations filled."
      ],
      "metadata": {
        "id": "Ps1qCXy8J-ae"
      }
    },
    {
      "cell_type": "code",
      "source": [
        "# Getting predictions and saving it with null valued dataset\n",
        "prediction = pd.DataFrame(dtree_model.predict(X_test), columns = ['Customer_Location'], index = df_with_null_cust_loc.index)\n",
        "df_with_null_cust_loc = pd.merge(df_with_null_cust_loc, prediction[['Customer_Location']], how = 'left',left_index = True, right_index = True)"
      ],
      "metadata": {
        "id": "5IhVBb6bIMGy"
      },
      "execution_count": 16,
      "outputs": []
    },
    {
      "cell_type": "code",
      "source": [
        "# Replacing nulls with predicted values in the original dataset\n",
        "df.loc[df['Customer_Location'].isna() == True, 'Customer_Location'] = df_with_null_cust_loc['Customer_Location_y']"
      ],
      "metadata": {
        "id": "J4q5HNGlKNbA"
      },
      "execution_count": 20,
      "outputs": []
    },
    {
      "cell_type": "code",
      "source": [
        "# Check info again\n",
        "df.info()"
      ],
      "metadata": {
        "colab": {
          "base_uri": "https://localhost:8080/"
        },
        "id": "asJ61sQONy2Q",
        "outputId": "2ef32bef-3c0b-4551-97e1-7dd0b038c4b4"
      },
      "execution_count": 21,
      "outputs": [
        {
          "output_type": "stream",
          "name": "stdout",
          "text": [
            "<class 'pandas.core.frame.DataFrame'>\n",
            "Index: 68353 entries, EMA00081000034500 to EMA00089999316900\n",
            "Data columns (total 11 columns):\n",
            " #   Column                     Non-Null Count  Dtype  \n",
            "---  ------                     --------------  -----  \n",
            " 0   Email_Type                 68353 non-null  int64  \n",
            " 1   Subject_Hotness_Score      68353 non-null  float64\n",
            " 2   Email_Source_Type          68353 non-null  int64  \n",
            " 3   Customer_Location          68353 non-null  object \n",
            " 4   Email_Campaign_Type        68353 non-null  int64  \n",
            " 5   Total_Past_Communications  68353 non-null  float64\n",
            " 6   Time_Email_sent_Category   68353 non-null  int64  \n",
            " 7   Word_Count                 68353 non-null  int64  \n",
            " 8   Total_Links                68353 non-null  float64\n",
            " 9   Total_Images               68353 non-null  float64\n",
            " 10  Email_Status               68353 non-null  int64  \n",
            "dtypes: float64(4), int64(6), object(1)\n",
            "memory usage: 6.3+ MB\n"
          ]
        }
      ]
    },
    {
      "cell_type": "markdown",
      "source": [
        "Alright! Now we are done with the treatment of null values. Now let's have some visualizations!"
      ],
      "metadata": {
        "id": "BTp30Eo5Pb80"
      }
    },
    {
      "cell_type": "markdown",
      "source": [
        "### **Visualizations :**"
      ],
      "metadata": {
        "id": "oOMY8AK6QLOU"
      }
    },
    {
      "cell_type": "code",
      "source": [
        "# Plotting bar plot for Email_Type\n",
        "plt.figure(figsize=(6,7))\n",
        "sns.countplot(df['Email_Type'])\n",
        "plt.title('Email Types bar plot', fontsize=15)"
      ],
      "metadata": {
        "colab": {
          "base_uri": "https://localhost:8080/",
          "height": 533
        },
        "id": "f7-NvdCTPKJO",
        "outputId": "cc636401-3782-4e42-c429-36070f2e5b74"
      },
      "execution_count": 22,
      "outputs": [
        {
          "output_type": "stream",
          "name": "stderr",
          "text": [
            "/usr/local/lib/python3.7/dist-packages/seaborn/_decorators.py:43: FutureWarning: Pass the following variable as a keyword arg: x. From version 0.12, the only valid positional argument will be `data`, and passing other arguments without an explicit keyword will result in an error or misinterpretation.\n",
            "  FutureWarning\n"
          ]
        },
        {
          "output_type": "execute_result",
          "data": {
            "text/plain": [
              "Text(0.5, 1.0, 'Email Types bar plot')"
            ]
          },
          "metadata": {},
          "execution_count": 22
        },
        {
          "output_type": "display_data",
          "data": {
            "image/png": "[encoded data removed]",
            "text/plain": [
              "<Figure size 432x504 with 1 Axes>"
            ]
          },
          "metadata": {
            "needs_background": "light"
          }
        }
      ]
    },
    {
      "cell_type": "markdown",
      "source": [
        "##### **Inference :** Most of the emails were of type 1."
      ],
      "metadata": {
        "id": "qS_9FC4WqvFe"
      }
    },
    {
      "cell_type": "code",
      "source": [
        "# Plotting histogram for Subject_Hotness_Score\n",
        "plt.figure(figsize=(10,6))\n",
        "sns.distplot(df['Subject_Hotness_Score'])\n",
        "plt.title('Distribution of Subject Hotness Score', fontsize=15)"
      ],
      "metadata": {
        "colab": {
          "base_uri": "https://localhost:8080/",
          "height": 479
        },
        "id": "yPf2vaINQtbB",
        "outputId": "adba958b-2dac-475b-9ab7-820e7dfcab9a"
      },
      "execution_count": 23,
      "outputs": [
        {
          "output_type": "stream",
          "name": "stderr",
          "text": [
            "/usr/local/lib/python3.7/dist-packages/seaborn/distributions.py:2619: FutureWarning: `distplot` is a deprecated function and will be removed in a future version. Please adapt your code to use either `displot` (a figure-level function with similar flexibility) or `histplot` (an axes-level function for histograms).\n",
            "  warnings.warn(msg, FutureWarning)\n"
          ]
        },
        {
          "output_type": "execute_result",
          "data": {
            "text/plain": [
              "Text(0.5, 1.0, 'Distribution of Subject Hotness Score')"
            ]
          },
          "metadata": {},
          "execution_count": 23
        },
        {
          "output_type": "display_data",
          "data": {
            "image/png": "[encoded data removed]",
            "text/plain": [
              "<Figure size 720x432 with 1 Axes>"
            ]
          },
          "metadata": {
            "needs_background": "light"
          }
        }
      ]
    },
    {
      "cell_type": "markdown",
      "source": [
        "##### **Inference :** Emails with lower subject hotness score is higher in numbers."
      ],
      "metadata": {
        "id": "fOZXIKo6q3St"
      }
    },
    {
      "cell_type": "code",
      "source": [
        "# Plotting bar plot for Email_Source_Type\n",
        "plt.figure(figsize=(6,7))\n",
        "sns.countplot(df['Email_Source_Type'])\n",
        "plt.title('Email Source Types bar plot', fontsize=15)"
      ],
      "metadata": {
        "colab": {
          "base_uri": "https://localhost:8080/",
          "height": 533
        },
        "id": "eQEk4Ij4RXnE",
        "outputId": "e5c885a6-8a72-4467-9fb4-d6746df0e0a3"
      },
      "execution_count": 24,
      "outputs": [
        {
          "output_type": "stream",
          "name": "stderr",
          "text": [
            "/usr/local/lib/python3.7/dist-packages/seaborn/_decorators.py:43: FutureWarning: Pass the following variable as a keyword arg: x. From version 0.12, the only valid positional argument will be `data`, and passing other arguments without an explicit keyword will result in an error or misinterpretation.\n",
            "  FutureWarning\n"
          ]
        },
        {
          "output_type": "execute_result",
          "data": {
            "text/plain": [
              "Text(0.5, 1.0, 'Email Source Types bar plot')"
            ]
          },
          "metadata": {},
          "execution_count": 24
        },
        {
          "output_type": "display_data",
          "data": {
            "image/png": "[encoded data removed]",
            "text/plain": [
              "<Figure size 432x504 with 1 Axes>"
            ]
          },
          "metadata": {
            "needs_background": "light"
          }
        }
      ]
    },
    {
      "cell_type": "markdown",
      "source": [
        "##### **Inference :** Emails were sent from both the sources with almost equal probability."
      ],
      "metadata": {
        "id": "OE6GwzkBrAk9"
      }
    },
    {
      "cell_type": "code",
      "source": [
        "plt.figure(figsize=(12,7))\n",
        "\n",
        "# Reading the dataset again\n",
        "df1 = pd.read_csv('/content/drive/MyDrive/Classification Project/Copy of data_email_campaign.csv', index_col='Email_ID')\n",
        "\n",
        "# Plotting Customer Locations with null values\n",
        "plt.subplot(1,2,1)\n",
        "sns.countplot(df1['Customer_Location'])\n",
        "plt.title('Customer Locations bar plot with null values', fontsize=15)\n",
        "\n",
        "# Plotting bar plot for Customer_Location\n",
        "plt.subplot(1,2,2)\n",
        "sns.countplot(df['Customer_Location'])\n",
        "plt.title('Customer Locations bar plot after imputing nulls', fontsize=15)"
      ],
      "metadata": {
        "colab": {
          "base_uri": "https://localhost:8080/",
          "height": 568
        },
        "id": "fohi-nNmRnXD",
        "outputId": "acf9fce9-9c0c-4e85-e5a1-2aa6505689c7"
      },
      "execution_count": 25,
      "outputs": [
        {
          "output_type": "stream",
          "name": "stderr",
          "text": [
            "/usr/local/lib/python3.7/dist-packages/seaborn/_decorators.py:43: FutureWarning: Pass the following variable as a keyword arg: x. From version 0.12, the only valid positional argument will be `data`, and passing other arguments without an explicit keyword will result in an error or misinterpretation.\n",
            "  FutureWarning\n",
            "/usr/local/lib/python3.7/dist-packages/seaborn/_decorators.py:43: FutureWarning: Pass the following variable as a keyword arg: x. From version 0.12, the only valid positional argument will be `data`, and passing other arguments without an explicit keyword will result in an error or misinterpretation.\n",
            "  FutureWarning\n"
          ]
        },
        {
          "output_type": "execute_result",
          "data": {
            "text/plain": [
              "Text(0.5, 1.0, 'Customer Locations bar plot after imputing nulls')"
            ]
          },
          "metadata": {},
          "execution_count": 25
        },
        {
          "output_type": "display_data",
          "data": {
            "image/png": "[encoded data removed]",
            "text/plain": [
              "<Figure size 864x504 with 2 Axes>"
            ]
          },
          "metadata": {
            "needs_background": "light"
          }
        }
      ]
    },
    {
      "cell_type": "markdown",
      "source": [
        "##### **Inference :** Area G has most number of customers and area A has least number of customers. Also the bars from before and after missing value imputation are in conjunction which implies the method of predicting missing values has worked quite well."
      ],
      "metadata": {
        "id": "zs0f90rmrKWV"
      }
    },
    {
      "cell_type": "code",
      "source": [
        "# Plotting bar plot for Email_Campaign_Type\n",
        "plt.figure(figsize=(6,7))\n",
        "sns.countplot(df['Email_Campaign_Type'])\n",
        "plt.title('Email Campaign Types bar plot', fontsize=15)"
      ],
      "metadata": {
        "id": "lb85F9vAR7ii",
        "colab": {
          "base_uri": "https://localhost:8080/",
          "height": 533
        },
        "outputId": "87095861-12a9-4985-c8b9-05f66ec71b5e"
      },
      "execution_count": 26,
      "outputs": [
        {
          "output_type": "stream",
          "name": "stderr",
          "text": [
            "/usr/local/lib/python3.7/dist-packages/seaborn/_decorators.py:43: FutureWarning: Pass the following variable as a keyword arg: x. From version 0.12, the only valid positional argument will be `data`, and passing other arguments without an explicit keyword will result in an error or misinterpretation.\n",
            "  FutureWarning\n"
          ]
        },
        {
          "output_type": "execute_result",
          "data": {
            "text/plain": [
              "Text(0.5, 1.0, 'Email Campaign Types bar plot')"
            ]
          },
          "metadata": {},
          "execution_count": 26
        },
        {
          "output_type": "display_data",
          "data": {
            "image/png": "[encoded data removed]",
            "text/plain": [
              "<Figure size 432x504 with 1 Axes>"
            ]
          },
          "metadata": {
            "needs_background": "light"
          }
        }
      ]
    },
    {
      "cell_type": "markdown",
      "source": [
        "##### **Inference :** Most of the emails were sent as a part of 2nd type of campaign."
      ],
      "metadata": {
        "id": "nfLHocWvrhGm"
      }
    },
    {
      "cell_type": "code",
      "source": [
        "# Plotting histogram for Total_Past_Communications\n",
        "plt.figure(figsize=(10,6))\n",
        "sns.distplot(df['Total_Past_Communications'])\n",
        "plt.title('Distribution of Total Past Communications happened', fontsize=15)"
      ],
      "metadata": {
        "colab": {
          "base_uri": "https://localhost:8080/",
          "height": 479
        },
        "id": "ipLhUJMyna5M",
        "outputId": "3932c663-0b5d-4f4e-89be-8c1f49003fab"
      },
      "execution_count": 27,
      "outputs": [
        {
          "output_type": "stream",
          "name": "stderr",
          "text": [
            "/usr/local/lib/python3.7/dist-packages/seaborn/distributions.py:2619: FutureWarning: `distplot` is a deprecated function and will be removed in a future version. Please adapt your code to use either `displot` (a figure-level function with similar flexibility) or `histplot` (an axes-level function for histograms).\n",
            "  warnings.warn(msg, FutureWarning)\n"
          ]
        },
        {
          "output_type": "execute_result",
          "data": {
            "text/plain": [
              "Text(0.5, 1.0, 'Distribution of Total Past Communications happened')"
            ]
          },
          "metadata": {},
          "execution_count": 27
        },
        {
          "output_type": "display_data",
          "data": {
            "image/png": "[encoded data removed]",
            "text/plain": [
              "<Figure size 720x432 with 1 Axes>"
            ]
          },
          "metadata": {
            "needs_background": "light"
          }
        }
      ]
    },
    {
      "cell_type": "markdown",
      "source": [
        "##### **Inference :** Number of Total Past Communications is somehow normally distributed with average number of communications around 30."
      ],
      "metadata": {
        "id": "lHbKOK-nrypp"
      }
    },
    {
      "cell_type": "code",
      "source": [
        "# Plotting bar plot for Time_Email_sent_Category\n",
        "plt.figure(figsize=(6,7))\n",
        "sns.countplot(df['Time_Email_sent_Category'])\n",
        "plt.title('Bar plot showing time of the email sent', fontsize=15)"
      ],
      "metadata": {
        "colab": {
          "base_uri": "https://localhost:8080/",
          "height": 533
        },
        "id": "3tpYphwToCO1",
        "outputId": "e2b6199f-fd93-4dea-c2a3-817d3dce3db2"
      },
      "execution_count": 28,
      "outputs": [
        {
          "output_type": "stream",
          "name": "stderr",
          "text": [
            "/usr/local/lib/python3.7/dist-packages/seaborn/_decorators.py:43: FutureWarning: Pass the following variable as a keyword arg: x. From version 0.12, the only valid positional argument will be `data`, and passing other arguments without an explicit keyword will result in an error or misinterpretation.\n",
            "  FutureWarning\n"
          ]
        },
        {
          "output_type": "execute_result",
          "data": {
            "text/plain": [
              "Text(0.5, 1.0, 'Bar plot showing time of the email sent')"
            ]
          },
          "metadata": {},
          "execution_count": 28
        },
        {
          "output_type": "display_data",
          "data": {
            "image/png": "[encoded data removed]",
            "text/plain": [
              "<Figure size 432x504 with 1 Axes>"
            ]
          },
          "metadata": {
            "needs_background": "light"
          }
        }
      ]
    },
    {
      "cell_type": "markdown",
      "source": [
        "##### **Inference :** Most of the emails were sent at the time bucket 2."
      ],
      "metadata": {
        "id": "VsaqvFBRr6f6"
      }
    },
    {
      "cell_type": "code",
      "source": [
        "# Plotting histogram for Word_Count\n",
        "plt.figure(figsize=(10,6))\n",
        "sns.distplot(df['Word_Count'])\n",
        "plt.title('Distribution of Word Counts in the email', fontsize=15)"
      ],
      "metadata": {
        "colab": {
          "base_uri": "https://localhost:8080/",
          "height": 479
        },
        "id": "IWJTwCGBoVPn",
        "outputId": "1e353384-4e21-4ed1-c035-a51143d97c92"
      },
      "execution_count": 43,
      "outputs": [
        {
          "output_type": "stream",
          "name": "stderr",
          "text": [
            "/usr/local/lib/python3.7/dist-packages/seaborn/distributions.py:2619: FutureWarning: `distplot` is a deprecated function and will be removed in a future version. Please adapt your code to use either `displot` (a figure-level function with similar flexibility) or `histplot` (an axes-level function for histograms).\n",
            "  warnings.warn(msg, FutureWarning)\n"
          ]
        },
        {
          "output_type": "execute_result",
          "data": {
            "text/plain": [
              "Text(0.5, 1.0, 'Distribution of Word Counts in the email')"
            ]
          },
          "metadata": {},
          "execution_count": 43
        },
        {
          "output_type": "display_data",
          "data": {
            "image/png": "[encoded data removed]",
            "text/plain": [
              "<Figure size 720x432 with 1 Axes>"
            ]
          },
          "metadata": {
            "needs_background": "light"
          }
        }
      ]
    },
    {
      "cell_type": "markdown",
      "source": [
        "##### **Inference :** Email word counts is somehow normally distributed with mean number of words around 700."
      ],
      "metadata": {
        "id": "5OA-JwQhsCXq"
      }
    },
    {
      "cell_type": "code",
      "source": [
        "# Plotting histogram for Total_Links\n",
        "plt.figure(figsize=(10,6))\n",
        "sns.distplot(df['Total_Links'])\n",
        "plt.title('Distribution of Total Links in the emails', fontsize=15)\n",
        "\n",
        "print(f\"Average number of links in emails : {df['Total_Links'].mean()}\")"
      ],
      "metadata": {
        "colab": {
          "base_uri": "https://localhost:8080/",
          "height": 479
        },
        "id": "JtYfn748omD4",
        "outputId": "999417ee-f0c9-4c09-d4ba-d3e644a6d518"
      },
      "execution_count": 44,
      "outputs": [
        {
          "output_type": "stream",
          "name": "stderr",
          "text": [
            "/usr/local/lib/python3.7/dist-packages/seaborn/distributions.py:2619: FutureWarning: `distplot` is a deprecated function and will be removed in a future version. Please adapt your code to use either `displot` (a figure-level function with similar flexibility) or `histplot` (an axes-level function for histograms).\n",
            "  warnings.warn(msg, FutureWarning)\n"
          ]
        },
        {
          "output_type": "stream",
          "name": "stdout",
          "text": [
            "Average number of links in emails : 10.41307135995006\n"
          ]
        },
        {
          "output_type": "display_data",
          "data": {
            "image/png": "[encoded data removed]",
            "text/plain": [
              "<Figure size 720x432 with 1 Axes>"
            ]
          },
          "metadata": {
            "needs_background": "light"
          }
        }
      ]
    },
    {
      "cell_type": "markdown",
      "source": [
        "##### **Inference :** Total link numbers has no distinct distribution. Emails have mean number of links around 10. Further investigation is required on this feature."
      ],
      "metadata": {
        "id": "NTFCLTxps-Wn"
      }
    },
    {
      "cell_type": "code",
      "source": [
        "# Plotting histogram for Total_Images\n",
        "plt.figure(figsize=(10,6))\n",
        "sns.distplot(df['Total_Images'])\n",
        "plt.title('Distribution of Total Images in the emails', fontsize=15)"
      ],
      "metadata": {
        "colab": {
          "base_uri": "https://localhost:8080/",
          "height": 479
        },
        "id": "n0ykb2QHorXg",
        "outputId": "c071e68e-c350-4af8-e33f-7963224ed84f"
      },
      "execution_count": 34,
      "outputs": [
        {
          "output_type": "stream",
          "name": "stderr",
          "text": [
            "/usr/local/lib/python3.7/dist-packages/seaborn/distributions.py:2619: FutureWarning: `distplot` is a deprecated function and will be removed in a future version. Please adapt your code to use either `displot` (a figure-level function with similar flexibility) or `histplot` (an axes-level function for histograms).\n",
            "  warnings.warn(msg, FutureWarning)\n"
          ]
        },
        {
          "output_type": "execute_result",
          "data": {
            "text/plain": [
              "Text(0.5, 1.0, 'Distribution of Total Images in the emails')"
            ]
          },
          "metadata": {},
          "execution_count": 34
        },
        {
          "output_type": "display_data",
          "data": {
            "image/png": "[encoded data removed]",
            "text/plain": [
              "<Figure size 720x432 with 1 Axes>"
            ]
          },
          "metadata": {
            "needs_background": "light"
          }
        }
      ]
    },
    {
      "cell_type": "markdown",
      "source": [
        "##### **Inference :** Most of emails had no photos in it."
      ],
      "metadata": {
        "id": "-eXvDmzotTKB"
      }
    },
    {
      "cell_type": "code",
      "source": [
        "# Plotting a pie chart for Email_Status\n",
        "plt.figure(figsize = (10,7))\n",
        "plt.pie(df['Email_Status'].value_counts(), labels = [0,1,2], explode = [0,0.1,0.1], autopct='%1.2f%%', shadow = True)\n",
        "plt.title('Pie Chart showing Email Status', fontsize = 15)"
      ],
      "metadata": {
        "colab": {
          "base_uri": "https://localhost:8080/",
          "height": 446
        },
        "id": "La_uJzSfpyX4",
        "outputId": "84ece294-aa00-44d0-b0ef-76a4b78ce3a6"
      },
      "execution_count": 38,
      "outputs": [
        {
          "output_type": "execute_result",
          "data": {
            "text/plain": [
              "Text(0.5, 1.0, 'Pie Chart showing Email Status')"
            ]
          },
          "metadata": {},
          "execution_count": 38
        },
        {
          "output_type": "display_data",
          "data": {
            "image/png": "[encoded data removed]",
            "text/plain": [
              "<Figure size 720x504 with 1 Axes>"
            ]
          },
          "metadata": {}
        }
      ]
    },
    {
      "cell_type": "markdown",
      "source": [
        "##### **Inference :** Around 3.47% of the emails are actually hitting targets that is those customers are reading and acknowledging the mails. Around 16.15% of customers are reading the mails who might be potential customers given some offers or something else."
      ],
      "metadata": {
        "id": "F8cF-c_3tctH"
      }
    },
    {
      "cell_type": "markdown",
      "source": [
        "### **Some Further Investigations :**"
      ],
      "metadata": {
        "id": "HI-GgMEIt273"
      }
    },
    {
      "cell_type": "code",
      "source": [
        "# Getting number of rows which have non-integer Total_Past_Communications\n",
        "df[df['Total_Past_Communications'] % 1 != 0].shape"
      ],
      "metadata": {
        "colab": {
          "base_uri": "https://localhost:8080/"
        },
        "id": "ZUaXpnKoua_W",
        "outputId": "6d08774b-13e0-4f87-f84e-18f4dbfa2049"
      },
      "execution_count": 48,
      "outputs": [
        {
          "output_type": "execute_result",
          "data": {
            "text/plain": [
              "(4519, 11)"
            ]
          },
          "metadata": {},
          "execution_count": 48
        }
      ]
    },
    {
      "cell_type": "markdown",
      "source": [
        "Interesting! It seems like some of the past communications are not integers. And number of calls cannot be non-integer, right? So, let's impute these cells with closest integers."
      ],
      "metadata": {
        "id": "2KlwuuoBu-Jl"
      }
    },
    {
      "cell_type": "code",
      "source": [
        "# Imputing non-integer Total_Past_Communications with closest integers.\n",
        "df.loc[df['Total_Past_Communications'] % 1 != 0, 'Total_Past_Communications'] = df[df['Total_Past_Communications'] % 1 != 0]['Total_Past_Communications'].apply(round)"
      ],
      "metadata": {
        "id": "VSxPq-lUunqm"
      },
      "execution_count": 58,
      "outputs": []
    },
    {
      "cell_type": "markdown",
      "source": [
        "Great! Now investigate and do the same for other features too!"
      ],
      "metadata": {
        "id": "cPS7EDhSwnX5"
      }
    },
    {
      "cell_type": "code",
      "source": [
        "# Getting number of rows which have non-integer Word_Count, Total_Links, Total_Images\n",
        "print(df[df['Word_Count'] % 1 != 0].shape)\n",
        "print(df[df['Total_Links'] % 1 != 0].shape)\n",
        "print(df[df['Total_Images'] % 1 != 0].shape)"
      ],
      "metadata": {
        "colab": {
          "base_uri": "https://localhost:8080/"
        },
        "id": "Y4bOvJ5Wv1o8",
        "outputId": "66637dfd-0830-4f73-b332-7da57279a67c"
      },
      "execution_count": 60,
      "outputs": [
        {
          "output_type": "stream",
          "name": "stdout",
          "text": [
            "(0, 11)\n",
            "(1441, 11)\n",
            "(879, 11)\n"
          ]
        }
      ]
    },
    {
      "cell_type": "code",
      "source": [
        "# Imputing non-integer values with closest integers.\n",
        "df.loc[df['Total_Links'] % 1 != 0, 'Total_Links'] = df[df['Total_Links'] % 1 != 0]['Total_Links'].apply(round)\n",
        "df.loc[df['Total_Images'] % 1 != 0, 'Total_Images'] = df[df['Total_Images'] % 1 != 0]['Total_Images'].apply(round)"
      ],
      "metadata": {
        "id": "EQ0ZaJZdw_xB"
      },
      "execution_count": 61,
      "outputs": []
    },
    {
      "cell_type": "markdown",
      "source": [
        "### **Outlier Treatment :**"
      ],
      "metadata": {
        "id": "q9hh9bCaWnJb"
      }
    },
    {
      "cell_type": "code",
      "source": [
        "# Boxplots for all numerical columns"
      ],
      "metadata": {
        "id": "SWE5mLoAWsXj"
      },
      "execution_count": null,
      "outputs": []
    },
    {
      "cell_type": "markdown",
      "source": [
        "Awesome! Now let's move towards the second section of this project that is model training and testing."
      ],
      "metadata": {
        "id": "QJdVeq_PxSbI"
      }
    },
    {
      "cell_type": "markdown",
      "source": [
        "## **2. Model Training and Testing :**"
      ],
      "metadata": {
        "id": "jkjv1AknxfbX"
      }
    },
    {
      "cell_type": "markdown",
      "source": [
        "### **Preparing the data for training :**"
      ],
      "metadata": {
        "id": "DGg6IVhB4HNz"
      }
    },
    {
      "cell_type": "code",
      "source": [
        "# Getting dummies\n",
        "df_to_train = pd.get_dummies(df)"
      ],
      "metadata": {
        "id": "3-JKgrSizcgd"
      },
      "execution_count": 75,
      "outputs": []
    },
    {
      "cell_type": "code",
      "source": [
        "# Splitting dependent and independent features\n",
        "X = df_to_train.drop(['Email_Status'], axis = 1)\n",
        "y = df_to_train['Email_Status']"
      ],
      "metadata": {
        "id": "9TjM8K_LywUS"
      },
      "execution_count": 76,
      "outputs": []
    },
    {
      "cell_type": "markdown",
      "source": [
        "Now, we have already seen that there is a class imbalance in the dependent variable Email_Status. I am going to use SMOTE to perform oversampling on minority classes."
      ],
      "metadata": {
        "id": "gGhzhxIe4Z-H"
      }
    },
    {
      "cell_type": "code",
      "source": [
        "# Importing SMOTE\n",
        "from imblearn.over_sampling import SMOTE\n",
        "\n",
        "# Initializing SMOTE\n",
        "smote = SMOTE()\n",
        "\n",
        "# fit predictor and target variable\n",
        "X_smote, y_smote = smote.fit_resample(X, y)"
      ],
      "metadata": {
        "id": "LR0i4ITz25C_"
      },
      "execution_count": 77,
      "outputs": []
    },
    {
      "cell_type": "code",
      "source": [
        "# Splitting the data into train and test set\n",
        "from sklearn.model_selection import train_test_split\n",
        "X_train, X_test, y_train, y_test = train_test_split(X_smote, y_smote, test_size = 0.2, random_state = 123)"
      ],
      "metadata": {
        "id": "0KPRUZNxywNd"
      },
      "execution_count": 78,
      "outputs": []
    },
    {
      "cell_type": "code",
      "source": [
        "def model_trainer_tester(model, X_train_func, X_test_func, y_train_func, y_test_func, params = None):\n",
        "  '''\n",
        "  This function takes model, training and testing sets and parameter combinations as input\n",
        "  and gives model performance and best parameters as output\n",
        "  '''\n",
        "\n",
        "  # Importing evaluation metrics\n",
        "  from sklearn.metrics import classification_report, confusion_matrix, recall_score, f1_score, make_scorer\n",
        "\n",
        "  # Conditioning if a parameter set is provided or not\n",
        "  if params == None:\n",
        "\n",
        "    # Fitting the model\n",
        "    model.fit(X_train_func, y_train_func)\n",
        "\n",
        "    # Prediction on training set\n",
        "    y_pred_train = model.predict(X_train_func)\n",
        "\n",
        "    # Prediction on testing set\n",
        "    y_pred_test = model.predict(X_test_func)\n",
        "\n",
        "    # Getting and printing evaluation metrics\n",
        "    print('Confusion Matrix for Training set : \\n')\n",
        "    print(confusion_matrix(y_train_func, y_pred_train))\n",
        "    print('Confusion Matrix for Testing set : \\n')\n",
        "    print(confusion_matrix(y_test_func, y_pred_test))\n",
        "\n",
        "    print('Classification report for Training set : \\n')\n",
        "    print(classification_report(y_train_func, y_pred_train))\n",
        "    print('Classification report for Testing set : \\n')\n",
        "    print(classification_report(y_test_func, y_pred_test))\n",
        "\n",
        "  else:\n",
        "\n",
        "    # Importing GridSearchCV\n",
        "    from sklearn.model_selection import GridSearchCV\n",
        "\n",
        "    # Grid Search on provided parameter sets\n",
        "    scorer = make_scorer(recall_score, average = 'weighted')\n",
        "    class_model = GridSearchCV(estimator = model, param_grid = params, scoring = scorer, cv = 3, verbose = 2)\n",
        "    class_model.fit(X_train_func, y_train_func)\n",
        "\n",
        "    # Getting the optimal model and parameters\n",
        "    optimal_model = class_model.best_estimator_\n",
        "    optimal_model.fit(X_train_func, y_train_func)\n",
        "    optimal_params = class_model.best_params_\n",
        "\n",
        "    # Prediction on training set\n",
        "    y_pred_train = optimal_model.predict(X_train_func)\n",
        "\n",
        "    # Prediction on testing set\n",
        "    y_pred_test = optimal_model.predict(X_test_func)\n",
        "\n",
        "    # Getting and printing evaluation metrics and best hyperparameters\n",
        "    print(f'\\nBest hyperparameter combination is : {optimal_params}\\n')\n",
        "    print('Confusion Matrix for Training set : \\n')\n",
        "    print(confusion_matrix(y_train_func, y_pred_train))\n",
        "    print('\\nConfusion Matrix for Testing set : \\n')\n",
        "    print(confusion_matrix(y_test_func, y_pred_test))\n",
        "\n",
        "    print('\\nClassification report for Training set : \\n')\n",
        "    print(classification_report(y_train_func, y_pred_train))\n",
        "    print('\\nClassification report for Testing set : \\n')\n",
        "    print(classification_report(y_test_func, y_pred_test))"
      ],
      "metadata": {
        "id": "j0nD4qgNxRVb"
      },
      "execution_count": 125,
      "outputs": []
    },
    {
      "cell_type": "code",
      "source": [
        "# Fitting a baseline Decision Tree\n",
        "from sklearn.tree import DecisionTreeClassifier\n",
        "model_trainer_tester(model = DecisionTreeClassifier(max_depth = 10), X_train_func = X_train, X_test_func = X_test, y_train_func = y_train, y_test_func = y_test)"
      ],
      "metadata": {
        "colab": {
          "base_uri": "https://localhost:8080/"
        },
        "id": "hJR8zA18yob3",
        "outputId": "a7e612a8-40a3-4371-a05d-33b7bf9cbd5a"
      },
      "execution_count": 126,
      "outputs": [
        {
          "output_type": "stream",
          "name": "stdout",
          "text": [
            "Confusion Matrix for Training set : \n",
            "\n",
            "[[37684  4286  1948]\n",
            " [10225 17509 16220]\n",
            " [ 4080  8568 31338]]\n",
            "Confusion Matrix for Testing set : \n",
            "\n",
            "[[9273 1148  602]\n",
            " [2535 4230 4222]\n",
            " [1056 2203 7696]]\n",
            "Classification report for Training set : \n",
            "\n",
            "              precision    recall  f1-score   support\n",
            "\n",
            "           0       0.72      0.86      0.79     43918\n",
            "           1       0.58      0.40      0.47     43954\n",
            "           2       0.63      0.71      0.67     43986\n",
            "\n",
            "    accuracy                           0.66    131858\n",
            "   macro avg       0.64      0.66      0.64    131858\n",
            "weighted avg       0.64      0.66      0.64    131858\n",
            "\n",
            "Classification report for Testing set : \n",
            "\n",
            "              precision    recall  f1-score   support\n",
            "\n",
            "           0       0.72      0.84      0.78     11023\n",
            "           1       0.56      0.39      0.46     10987\n",
            "           2       0.61      0.70      0.66     10955\n",
            "\n",
            "    accuracy                           0.64     32965\n",
            "   macro avg       0.63      0.64      0.63     32965\n",
            "weighted avg       0.63      0.64      0.63     32965\n",
            "\n"
          ]
        }
      ]
    },
    {
      "cell_type": "markdown",
      "source": [
        "We can see that a baseline Decision Tree Model is giving similar kind of metrics across both train and test set which signifies that class imbalance is managed and we are good to go with training."
      ],
      "metadata": {
        "id": "dZHTxy4N7ZQO"
      }
    },
    {
      "cell_type": "markdown",
      "source": [
        "### **1. Decision Tree Classifier :**"
      ],
      "metadata": {
        "id": "GctyQW5P46Hq"
      }
    },
    {
      "cell_type": "code",
      "source": [
        "# Exporting and initiating the Decision Tree Classification model\n",
        "from sklearn.tree import DecisionTreeClassifier\n",
        "parameters = [{'max_depth' : [5,10,15],\n",
        "               'min_samples_split' : [3,5,7]}]\n",
        "model_trainer_tester(model = DecisionTreeClassifier(), X_train_func = X_train, X_test_func = X_test, y_train_func = y_train, y_test_func = y_test, params = parameters)"
      ],
      "metadata": {
        "colab": {
          "base_uri": "https://localhost:8080/"
        },
        "id": "YU_Yi5RvzVC6",
        "outputId": "d2d7d5be-c04d-4602-f1d1-8c7137837c36"
      },
      "execution_count": 127,
      "outputs": [
        {
          "output_type": "stream",
          "name": "stdout",
          "text": [
            "Fitting 3 folds for each of 9 candidates, totalling 27 fits\n",
            "[CV] END ...................max_depth=5, min_samples_split=3; total time=   0.3s\n",
            "[CV] END ...................max_depth=5, min_samples_split=3; total time=   0.3s\n",
            "[CV] END ...................max_depth=5, min_samples_split=3; total time=   0.3s\n",
            "[CV] END ...................max_depth=5, min_samples_split=5; total time=   0.3s\n",
            "[CV] END ...................max_depth=5, min_samples_split=5; total time=   0.3s\n",
            "[CV] END ...................max_depth=5, min_samples_split=5; total time=   0.3s\n",
            "[CV] END ...................max_depth=5, min_samples_split=7; total time=   0.3s\n",
            "[CV] END ...................max_depth=5, min_samples_split=7; total time=   0.3s\n",
            "[CV] END ...................max_depth=5, min_samples_split=7; total time=   0.3s\n",
            "[CV] END ..................max_depth=10, min_samples_split=3; total time=   0.5s\n",
            "[CV] END ..................max_depth=10, min_samples_split=3; total time=   0.5s\n",
            "[CV] END ..................max_depth=10, min_samples_split=3; total time=   0.5s\n",
            "[CV] END ..................max_depth=10, min_samples_split=5; total time=   0.5s\n",
            "[CV] END ..................max_depth=10, min_samples_split=5; total time=   0.5s\n",
            "[CV] END ..................max_depth=10, min_samples_split=5; total time=   0.5s\n",
            "[CV] END ..................max_depth=10, min_samples_split=7; total time=   0.5s\n",
            "[CV] END ..................max_depth=10, min_samples_split=7; total time=   0.5s\n",
            "[CV] END ..................max_depth=10, min_samples_split=7; total time=   0.5s\n",
            "[CV] END ..................max_depth=15, min_samples_split=3; total time=   0.7s\n",
            "[CV] END ..................max_depth=15, min_samples_split=3; total time=   0.7s\n",
            "[CV] END ..................max_depth=15, min_samples_split=3; total time=   0.7s\n",
            "[CV] END ..................max_depth=15, min_samples_split=5; total time=   0.7s\n",
            "[CV] END ..................max_depth=15, min_samples_split=5; total time=   0.7s\n",
            "[CV] END ..................max_depth=15, min_samples_split=5; total time=   0.7s\n",
            "[CV] END ..................max_depth=15, min_samples_split=7; total time=   0.7s\n",
            "[CV] END ..................max_depth=15, min_samples_split=7; total time=   0.7s\n",
            "[CV] END ..................max_depth=15, min_samples_split=7; total time=   0.7s\n",
            "\n",
            "Best hyperparameter combination is : {'max_depth': 15, 'min_samples_split': 5}\n",
            "\n",
            "Confusion Matrix for Training set : \n",
            "\n",
            "[[40027  2620  1271]\n",
            " [ 5798 24365 13791]\n",
            " [ 1652  5846 36488]]\n",
            "\n",
            "Confusion Matrix for Testing set : \n",
            "\n",
            "[[9263 1289  471]\n",
            " [1945 5205 3837]\n",
            " [ 502 1744 8709]]\n",
            "\n",
            "Classification report for Training set : \n",
            "\n",
            "              precision    recall  f1-score   support\n",
            "\n",
            "           0       0.84      0.91      0.88     43918\n",
            "           1       0.74      0.55      0.63     43954\n",
            "           2       0.71      0.83      0.76     43986\n",
            "\n",
            "    accuracy                           0.77    131858\n",
            "   macro avg       0.76      0.77      0.76    131858\n",
            "weighted avg       0.76      0.77      0.76    131858\n",
            "\n",
            "\n",
            "Classification report for Testing set : \n",
            "\n",
            "              precision    recall  f1-score   support\n",
            "\n",
            "           0       0.79      0.84      0.81     11023\n",
            "           1       0.63      0.47      0.54     10987\n",
            "           2       0.67      0.79      0.73     10955\n",
            "\n",
            "    accuracy                           0.70     32965\n",
            "   macro avg       0.70      0.70      0.69     32965\n",
            "weighted avg       0.70      0.70      0.69     32965\n",
            "\n"
          ]
        }
      ]
    },
    {
      "cell_type": "markdown",
      "source": [
        "The Decision Tree Classifier perfomed pretty well with around 77% accuracy for training set and arounf 70% accuracy for testing set.\n",
        "\n",
        "##### Now let's move towards Random Forest Classifier."
      ],
      "metadata": {
        "id": "dAkd1JpG78kk"
      }
    },
    {
      "cell_type": "markdown",
      "source": [
        "### **2. Random Forest Classifier :**"
      ],
      "metadata": {
        "id": "OmwPaXvR8Uf0"
      }
    },
    {
      "cell_type": "code",
      "source": [
        "# Exporting and initiating the Random Forest Classification model\n",
        "from sklearn.ensemble import RandomForestClassifier\n",
        "parameters = [{'n_estimators' : [50,100],\n",
        "               'max_depth' : [5,10,15],\n",
        "               'min_samples_split' : [3,5,7]}]\n",
        "model_trainer_tester(model = RandomForestClassifier(), X_train_func = X_train, X_test_func = X_test, y_train_func = y_train, y_test_func = y_test, params = parameters)"
      ],
      "metadata": {
        "colab": {
          "base_uri": "https://localhost:8080/"
        },
        "id": "ShhTjss45yzR",
        "outputId": "cce82d30-a95d-403d-9f8c-eba8c54d160e"
      },
      "execution_count": 128,
      "outputs": [
        {
          "output_type": "stream",
          "name": "stdout",
          "text": [
            "Fitting 3 folds for each of 18 candidates, totalling 54 fits\n",
            "[CV] END ..max_depth=5, min_samples_split=3, n_estimators=50; total time=   3.1s\n",
            "[CV] END ..max_depth=5, min_samples_split=3, n_estimators=50; total time=   3.2s\n",
            "[CV] END ..max_depth=5, min_samples_split=3, n_estimators=50; total time=   3.1s\n",
            "[CV] END .max_depth=5, min_samples_split=3, n_estimators=100; total time=   6.6s\n",
            "[CV] END .max_depth=5, min_samples_split=3, n_estimators=100; total time=   6.3s\n",
            "[CV] END .max_depth=5, min_samples_split=3, n_estimators=100; total time=   6.2s\n",
            "[CV] END ..max_depth=5, min_samples_split=5, n_estimators=50; total time=   3.1s\n",
            "[CV] END ..max_depth=5, min_samples_split=5, n_estimators=50; total time=   3.1s\n",
            "[CV] END ..max_depth=5, min_samples_split=5, n_estimators=50; total time=   3.1s\n",
            "[CV] END .max_depth=5, min_samples_split=5, n_estimators=100; total time=   6.0s\n",
            "[CV] END .max_depth=5, min_samples_split=5, n_estimators=100; total time=   6.1s\n",
            "[CV] END .max_depth=5, min_samples_split=5, n_estimators=100; total time=   6.2s\n",
            "[CV] END ..max_depth=5, min_samples_split=7, n_estimators=50; total time=   3.1s\n",
            "[CV] END ..max_depth=5, min_samples_split=7, n_estimators=50; total time=   3.1s\n",
            "[CV] END ..max_depth=5, min_samples_split=7, n_estimators=50; total time=   3.0s\n",
            "[CV] END .max_depth=5, min_samples_split=7, n_estimators=100; total time=   6.3s\n",
            "[CV] END .max_depth=5, min_samples_split=7, n_estimators=100; total time=   6.1s\n",
            "[CV] END .max_depth=5, min_samples_split=7, n_estimators=100; total time=   6.2s\n",
            "[CV] END .max_depth=10, min_samples_split=3, n_estimators=50; total time=   5.0s\n",
            "[CV] END .max_depth=10, min_samples_split=3, n_estimators=50; total time=   5.2s\n",
            "[CV] END .max_depth=10, min_samples_split=3, n_estimators=50; total time=   5.2s\n",
            "[CV] END max_depth=10, min_samples_split=3, n_estimators=100; total time=  10.3s\n",
            "[CV] END max_depth=10, min_samples_split=3, n_estimators=100; total time=  10.4s\n",
            "[CV] END max_depth=10, min_samples_split=3, n_estimators=100; total time=  10.4s\n",
            "[CV] END .max_depth=10, min_samples_split=5, n_estimators=50; total time=   5.2s\n",
            "[CV] END .max_depth=10, min_samples_split=5, n_estimators=50; total time=   5.2s\n",
            "[CV] END .max_depth=10, min_samples_split=5, n_estimators=50; total time=   5.2s\n",
            "[CV] END max_depth=10, min_samples_split=5, n_estimators=100; total time=  10.4s\n",
            "[CV] END max_depth=10, min_samples_split=5, n_estimators=100; total time=  10.2s\n",
            "[CV] END max_depth=10, min_samples_split=5, n_estimators=100; total time=  10.4s\n",
            "[CV] END .max_depth=10, min_samples_split=7, n_estimators=50; total time=   5.3s\n",
            "[CV] END .max_depth=10, min_samples_split=7, n_estimators=50; total time=   5.2s\n",
            "[CV] END .max_depth=10, min_samples_split=7, n_estimators=50; total time=   5.2s\n",
            "[CV] END max_depth=10, min_samples_split=7, n_estimators=100; total time=  10.3s\n",
            "[CV] END max_depth=10, min_samples_split=7, n_estimators=100; total time=  10.3s\n",
            "[CV] END max_depth=10, min_samples_split=7, n_estimators=100; total time=  10.4s\n",
            "[CV] END .max_depth=15, min_samples_split=3, n_estimators=50; total time=   7.1s\n",
            "[CV] END .max_depth=15, min_samples_split=3, n_estimators=50; total time=   7.1s\n",
            "[CV] END .max_depth=15, min_samples_split=3, n_estimators=50; total time=   7.0s\n",
            "[CV] END max_depth=15, min_samples_split=3, n_estimators=100; total time=  14.6s\n",
            "[CV] END max_depth=15, min_samples_split=3, n_estimators=100; total time=  14.1s\n",
            "[CV] END max_depth=15, min_samples_split=3, n_estimators=100; total time=  14.1s\n",
            "[CV] END .max_depth=15, min_samples_split=5, n_estimators=50; total time=   7.0s\n",
            "[CV] END .max_depth=15, min_samples_split=5, n_estimators=50; total time=   6.9s\n",
            "[CV] END .max_depth=15, min_samples_split=5, n_estimators=50; total time=   7.0s\n",
            "[CV] END max_depth=15, min_samples_split=5, n_estimators=100; total time=  14.0s\n",
            "[CV] END max_depth=15, min_samples_split=5, n_estimators=100; total time=  14.0s\n",
            "[CV] END max_depth=15, min_samples_split=5, n_estimators=100; total time=  13.9s\n",
            "[CV] END .max_depth=15, min_samples_split=7, n_estimators=50; total time=   7.1s\n",
            "[CV] END .max_depth=15, min_samples_split=7, n_estimators=50; total time=   6.9s\n",
            "[CV] END .max_depth=15, min_samples_split=7, n_estimators=50; total time=   7.1s\n",
            "[CV] END max_depth=15, min_samples_split=7, n_estimators=100; total time=  13.9s\n",
            "[CV] END max_depth=15, min_samples_split=7, n_estimators=100; total time=  14.0s\n",
            "[CV] END max_depth=15, min_samples_split=7, n_estimators=100; total time=  13.9s\n",
            "\n",
            "Best hyperparameter combination is : {'max_depth': 15, 'min_samples_split': 3, 'n_estimators': 100}\n",
            "\n",
            "Confusion Matrix for Training set : \n",
            "\n",
            "[[42227  1147   544]\n",
            " [ 5058 26245 12651]\n",
            " [ 1293  3973 38720]]\n",
            "\n",
            "Confusion Matrix for Testing set : \n",
            "\n",
            "[[10064   729   230]\n",
            " [ 1986  5478  3523]\n",
            " [  522  1279  9154]]\n",
            "\n",
            "Classification report for Training set : \n",
            "\n",
            "              precision    recall  f1-score   support\n",
            "\n",
            "           0       0.87      0.96      0.91     43918\n",
            "           1       0.84      0.60      0.70     43954\n",
            "           2       0.75      0.88      0.81     43986\n",
            "\n",
            "    accuracy                           0.81    131858\n",
            "   macro avg       0.82      0.81      0.81    131858\n",
            "weighted avg       0.82      0.81      0.81    131858\n",
            "\n",
            "\n",
            "Classification report for Testing set : \n",
            "\n",
            "              precision    recall  f1-score   support\n",
            "\n",
            "           0       0.80      0.91      0.85     11023\n",
            "           1       0.73      0.50      0.59     10987\n",
            "           2       0.71      0.84      0.77     10955\n",
            "\n",
            "    accuracy                           0.75     32965\n",
            "   macro avg       0.75      0.75      0.74     32965\n",
            "weighted avg       0.75      0.75      0.74     32965\n",
            "\n"
          ]
        }
      ]
    },
    {
      "cell_type": "markdown",
      "source": [
        "The Random Forest Classifier gave around 81% accuracy on training set and around 75% accuracy on testing set. The precision and f1 score for all classes are pretty good, but the recall for class 1 is pretty low."
      ],
      "metadata": {
        "id": "Vi-rXwonH2qv"
      }
    },
    {
      "cell_type": "markdown",
      "source": [
        "### **3. Gradient Boosting Machine :**"
      ],
      "metadata": {
        "id": "h4UCjM32KO6N"
      }
    },
    {
      "cell_type": "code",
      "source": [
        "# Exporting and initiating the Gradient Boosting Machine model\n",
        "from sklearn.ensemble import GradientBoostingClassifier\n",
        "parameters = [{'n_estimators' : [50,100],\n",
        "               'max_depth' : [5,10],\n",
        "               'min_samples_split' : [4,8]}]\n",
        "model_trainer_tester(model = GradientBoostingClassifier(), X_train_func = X_train, X_test_func = X_test, y_train_func = y_train, y_test_func = y_test, params = parameters)"
      ],
      "metadata": {
        "colab": {
          "base_uri": "https://localhost:8080/",
          "height": 397
        },
        "id": "z3W1gYWv8rED",
        "outputId": "713bec16-addd-4848-96fd-841439006c74"
      },
      "execution_count": 130,
      "outputs": [
        {
          "output_type": "stream",
          "name": "stdout",
          "text": [
            "Fitting 3 folds for each of 8 candidates, totalling 24 fits\n",
            "[CV] END ..max_depth=5, min_samples_split=4, n_estimators=50; total time=  41.2s\n"
          ]
        },
        {
          "output_type": "error",
          "ename": "KeyboardInterrupt",
          "evalue": "ignored",
          "traceback": [
            "\u001b[0;31m---------------------------------------------------------------------------\u001b[0m",
            "\u001b[0;31mKeyboardInterrupt\u001b[0m                         Traceback (most recent call last)",
            "\u001b[0;32m<ipython-input-130-2c8f7f5d6f3a>\u001b[0m in \u001b[0;36m<module>\u001b[0;34m()\u001b[0m\n\u001b[1;32m      4\u001b[0m                \u001b[0;34m'max_depth'\u001b[0m \u001b[0;34m:\u001b[0m \u001b[0;34m[\u001b[0m\u001b[0;36m5\u001b[0m\u001b[0;34m,\u001b[0m\u001b[0;36m10\u001b[0m\u001b[0;34m]\u001b[0m\u001b[0;34m,\u001b[0m\u001b[0;34m\u001b[0m\u001b[0;34m\u001b[0m\u001b[0m\n\u001b[1;32m      5\u001b[0m                'min_samples_split' : [4,8]}]\n\u001b[0;32m----> 6\u001b[0;31m \u001b[0mmodel_trainer_tester\u001b[0m\u001b[0;34m(\u001b[0m\u001b[0mmodel\u001b[0m \u001b[0;34m=\u001b[0m \u001b[0mGradientBoostingClassifier\u001b[0m\u001b[0;34m(\u001b[0m\u001b[0;34m)\u001b[0m\u001b[0;34m,\u001b[0m \u001b[0mX_train_func\u001b[0m \u001b[0;34m=\u001b[0m \u001b[0mX_train\u001b[0m\u001b[0;34m,\u001b[0m \u001b[0mX_test_func\u001b[0m \u001b[0;34m=\u001b[0m \u001b[0mX_test\u001b[0m\u001b[0;34m,\u001b[0m \u001b[0my_train_func\u001b[0m \u001b[0;34m=\u001b[0m \u001b[0my_train\u001b[0m\u001b[0;34m,\u001b[0m \u001b[0my_test_func\u001b[0m \u001b[0;34m=\u001b[0m \u001b[0my_test\u001b[0m\u001b[0;34m,\u001b[0m \u001b[0mparams\u001b[0m \u001b[0;34m=\u001b[0m \u001b[0mparameters\u001b[0m\u001b[0;34m)\u001b[0m\u001b[0;34m\u001b[0m\u001b[0;34m\u001b[0m\u001b[0m\n\u001b[0m",
            "\u001b[0;32m<ipython-input-125-3b7e882009b1>\u001b[0m in \u001b[0;36mmodel_trainer_tester\u001b[0;34m(model, X_train_func, X_test_func, y_train_func, y_test_func, params)\u001b[0m\n\u001b[1;32m     39\u001b[0m     \u001b[0mscorer\u001b[0m \u001b[0;34m=\u001b[0m \u001b[0mmake_scorer\u001b[0m\u001b[0;34m(\u001b[0m\u001b[0mrecall_score\u001b[0m\u001b[0;34m,\u001b[0m \u001b[0maverage\u001b[0m \u001b[0;34m=\u001b[0m \u001b[0;34m'weighted'\u001b[0m\u001b[0;34m)\u001b[0m\u001b[0;34m\u001b[0m\u001b[0;34m\u001b[0m\u001b[0m\n\u001b[1;32m     40\u001b[0m     \u001b[0mclass_model\u001b[0m \u001b[0;34m=\u001b[0m \u001b[0mGridSearchCV\u001b[0m\u001b[0;34m(\u001b[0m\u001b[0mestimator\u001b[0m \u001b[0;34m=\u001b[0m \u001b[0mmodel\u001b[0m\u001b[0;34m,\u001b[0m \u001b[0mparam_grid\u001b[0m \u001b[0;34m=\u001b[0m \u001b[0mparams\u001b[0m\u001b[0;34m,\u001b[0m \u001b[0mscoring\u001b[0m \u001b[0;34m=\u001b[0m \u001b[0mscorer\u001b[0m\u001b[0;34m,\u001b[0m \u001b[0mcv\u001b[0m \u001b[0;34m=\u001b[0m \u001b[0;36m3\u001b[0m\u001b[0;34m,\u001b[0m \u001b[0mverbose\u001b[0m \u001b[0;34m=\u001b[0m \u001b[0;36m2\u001b[0m\u001b[0;34m)\u001b[0m\u001b[0;34m\u001b[0m\u001b[0;34m\u001b[0m\u001b[0m\n\u001b[0;32m---> 41\u001b[0;31m     \u001b[0mclass_model\u001b[0m\u001b[0;34m.\u001b[0m\u001b[0mfit\u001b[0m\u001b[0;34m(\u001b[0m\u001b[0mX_train_func\u001b[0m\u001b[0;34m,\u001b[0m \u001b[0my_train_func\u001b[0m\u001b[0;34m)\u001b[0m\u001b[0;34m\u001b[0m\u001b[0;34m\u001b[0m\u001b[0m\n\u001b[0m\u001b[1;32m     42\u001b[0m \u001b[0;34m\u001b[0m\u001b[0m\n\u001b[1;32m     43\u001b[0m     \u001b[0;31m# Getting the optimal model and parameters\u001b[0m\u001b[0;34m\u001b[0m\u001b[0;34m\u001b[0m\u001b[0;34m\u001b[0m\u001b[0m\n",
            "\u001b[0;32m/usr/local/lib/python3.7/dist-packages/sklearn/model_selection/_search.py\u001b[0m in \u001b[0;36mfit\u001b[0;34m(self, X, y, groups, **fit_params)\u001b[0m\n\u001b[1;32m    889\u001b[0m                 \u001b[0;32mreturn\u001b[0m \u001b[0mresults\u001b[0m\u001b[0;34m\u001b[0m\u001b[0;34m\u001b[0m\u001b[0m\n\u001b[1;32m    890\u001b[0m \u001b[0;34m\u001b[0m\u001b[0m\n\u001b[0;32m--> 891\u001b[0;31m             \u001b[0mself\u001b[0m\u001b[0;34m.\u001b[0m\u001b[0m_run_search\u001b[0m\u001b[0;34m(\u001b[0m\u001b[0mevaluate_candidates\u001b[0m\u001b[0;34m)\u001b[0m\u001b[0;34m\u001b[0m\u001b[0;34m\u001b[0m\u001b[0m\n\u001b[0m\u001b[1;32m    892\u001b[0m \u001b[0;34m\u001b[0m\u001b[0m\n\u001b[1;32m    893\u001b[0m             \u001b[0;31m# multimetric is determined here because in the case of a callable\u001b[0m\u001b[0;34m\u001b[0m\u001b[0;34m\u001b[0m\u001b[0;34m\u001b[0m\u001b[0m\n",
            "\u001b[0;32m/usr/local/lib/python3.7/dist-packages/sklearn/model_selection/_search.py\u001b[0m in \u001b[0;36m_run_search\u001b[0;34m(self, evaluate_candidates)\u001b[0m\n\u001b[1;32m   1390\u001b[0m     \u001b[0;32mdef\u001b[0m \u001b[0m_run_search\u001b[0m\u001b[0;34m(\u001b[0m\u001b[0mself\u001b[0m\u001b[0;34m,\u001b[0m \u001b[0mevaluate_candidates\u001b[0m\u001b[0;34m)\u001b[0m\u001b[0;34m:\u001b[0m\u001b[0;34m\u001b[0m\u001b[0;34m\u001b[0m\u001b[0m\n\u001b[1;32m   1391\u001b[0m         \u001b[0;34m\"\"\"Search all candidates in param_grid\"\"\"\u001b[0m\u001b[0;34m\u001b[0m\u001b[0;34m\u001b[0m\u001b[0m\n\u001b[0;32m-> 1392\u001b[0;31m         \u001b[0mevaluate_candidates\u001b[0m\u001b[0;34m(\u001b[0m\u001b[0mParameterGrid\u001b[0m\u001b[0;34m(\u001b[0m\u001b[0mself\u001b[0m\u001b[0;34m.\u001b[0m\u001b[0mparam_grid\u001b[0m\u001b[0;34m)\u001b[0m\u001b[0;34m)\u001b[0m\u001b[0;34m\u001b[0m\u001b[0;34m\u001b[0m\u001b[0m\n\u001b[0m\u001b[1;32m   1393\u001b[0m \u001b[0;34m\u001b[0m\u001b[0m\n\u001b[1;32m   1394\u001b[0m \u001b[0;34m\u001b[0m\u001b[0m\n",
            "\u001b[0;32m/usr/local/lib/python3.7/dist-packages/sklearn/model_selection/_search.py\u001b[0m in \u001b[0;36mevaluate_candidates\u001b[0;34m(candidate_params, cv, more_results)\u001b[0m\n\u001b[1;32m    849\u001b[0m                     )\n\u001b[1;32m    850\u001b[0m                     for (cand_idx, parameters), (split_idx, (train, test)) in product(\n\u001b[0;32m--> 851\u001b[0;31m                         \u001b[0menumerate\u001b[0m\u001b[0;34m(\u001b[0m\u001b[0mcandidate_params\u001b[0m\u001b[0;34m)\u001b[0m\u001b[0;34m,\u001b[0m \u001b[0menumerate\u001b[0m\u001b[0;34m(\u001b[0m\u001b[0mcv\u001b[0m\u001b[0;34m.\u001b[0m\u001b[0msplit\u001b[0m\u001b[0;34m(\u001b[0m\u001b[0mX\u001b[0m\u001b[0;34m,\u001b[0m \u001b[0my\u001b[0m\u001b[0;34m,\u001b[0m \u001b[0mgroups\u001b[0m\u001b[0;34m)\u001b[0m\u001b[0;34m)\u001b[0m\u001b[0;34m\u001b[0m\u001b[0;34m\u001b[0m\u001b[0m\n\u001b[0m\u001b[1;32m    852\u001b[0m                     )\n\u001b[1;32m    853\u001b[0m                 )\n",
            "\u001b[0;32m/usr/local/lib/python3.7/dist-packages/joblib/parallel.py\u001b[0m in \u001b[0;36m__call__\u001b[0;34m(self, iterable)\u001b[0m\n\u001b[1;32m   1044\u001b[0m                 \u001b[0mself\u001b[0m\u001b[0;34m.\u001b[0m\u001b[0m_iterating\u001b[0m \u001b[0;34m=\u001b[0m \u001b[0mself\u001b[0m\u001b[0;34m.\u001b[0m\u001b[0m_original_iterator\u001b[0m \u001b[0;32mis\u001b[0m \u001b[0;32mnot\u001b[0m \u001b[0;32mNone\u001b[0m\u001b[0;34m\u001b[0m\u001b[0;34m\u001b[0m\u001b[0m\n\u001b[1;32m   1045\u001b[0m \u001b[0;34m\u001b[0m\u001b[0m\n\u001b[0;32m-> 1046\u001b[0;31m             \u001b[0;32mwhile\u001b[0m \u001b[0mself\u001b[0m\u001b[0;34m.\u001b[0m\u001b[0mdispatch_one_batch\u001b[0m\u001b[0;34m(\u001b[0m\u001b[0miterator\u001b[0m\u001b[0;34m)\u001b[0m\u001b[0;34m:\u001b[0m\u001b[0;34m\u001b[0m\u001b[0;34m\u001b[0m\u001b[0m\n\u001b[0m\u001b[1;32m   1047\u001b[0m                 \u001b[0;32mpass\u001b[0m\u001b[0;34m\u001b[0m\u001b[0;34m\u001b[0m\u001b[0m\n\u001b[1;32m   1048\u001b[0m \u001b[0;34m\u001b[0m\u001b[0m\n",
            "\u001b[0;32m/usr/local/lib/python3.7/dist-packages/joblib/parallel.py\u001b[0m in \u001b[0;36mdispatch_one_batch\u001b[0;34m(self, iterator)\u001b[0m\n\u001b[1;32m    859\u001b[0m                 \u001b[0;32mreturn\u001b[0m \u001b[0;32mFalse\u001b[0m\u001b[0;34m\u001b[0m\u001b[0;34m\u001b[0m\u001b[0m\n\u001b[1;32m    860\u001b[0m             \u001b[0;32melse\u001b[0m\u001b[0;34m:\u001b[0m\u001b[0;34m\u001b[0m\u001b[0;34m\u001b[0m\u001b[0m\n\u001b[0;32m--> 861\u001b[0;31m                 \u001b[0mself\u001b[0m\u001b[0;34m.\u001b[0m\u001b[0m_dispatch\u001b[0m\u001b[0;34m(\u001b[0m\u001b[0mtasks\u001b[0m\u001b[0;34m)\u001b[0m\u001b[0;34m\u001b[0m\u001b[0;34m\u001b[0m\u001b[0m\n\u001b[0m\u001b[1;32m    862\u001b[0m                 \u001b[0;32mreturn\u001b[0m \u001b[0;32mTrue\u001b[0m\u001b[0;34m\u001b[0m\u001b[0;34m\u001b[0m\u001b[0m\n\u001b[1;32m    863\u001b[0m \u001b[0;34m\u001b[0m\u001b[0m\n",
            "\u001b[0;32m/usr/local/lib/python3.7/dist-packages/joblib/parallel.py\u001b[0m in \u001b[0;36m_dispatch\u001b[0;34m(self, batch)\u001b[0m\n\u001b[1;32m    777\u001b[0m         \u001b[0;32mwith\u001b[0m \u001b[0mself\u001b[0m\u001b[0;34m.\u001b[0m\u001b[0m_lock\u001b[0m\u001b[0;34m:\u001b[0m\u001b[0;34m\u001b[0m\u001b[0;34m\u001b[0m\u001b[0m\n\u001b[1;32m    778\u001b[0m             \u001b[0mjob_idx\u001b[0m \u001b[0;34m=\u001b[0m \u001b[0mlen\u001b[0m\u001b[0;34m(\u001b[0m\u001b[0mself\u001b[0m\u001b[0;34m.\u001b[0m\u001b[0m_jobs\u001b[0m\u001b[0;34m)\u001b[0m\u001b[0;34m\u001b[0m\u001b[0;34m\u001b[0m\u001b[0m\n\u001b[0;32m--> 779\u001b[0;31m             \u001b[0mjob\u001b[0m \u001b[0;34m=\u001b[0m \u001b[0mself\u001b[0m\u001b[0;34m.\u001b[0m\u001b[0m_backend\u001b[0m\u001b[0;34m.\u001b[0m\u001b[0mapply_async\u001b[0m\u001b[0;34m(\u001b[0m\u001b[0mbatch\u001b[0m\u001b[0;34m,\u001b[0m \u001b[0mcallback\u001b[0m\u001b[0;34m=\u001b[0m\u001b[0mcb\u001b[0m\u001b[0;34m)\u001b[0m\u001b[0;34m\u001b[0m\u001b[0;34m\u001b[0m\u001b[0m\n\u001b[0m\u001b[1;32m    780\u001b[0m             \u001b[0;31m# A job can complete so quickly than its callback is\u001b[0m\u001b[0;34m\u001b[0m\u001b[0;34m\u001b[0m\u001b[0;34m\u001b[0m\u001b[0m\n\u001b[1;32m    781\u001b[0m             \u001b[0;31m# called before we get here, causing self._jobs to\u001b[0m\u001b[0;34m\u001b[0m\u001b[0;34m\u001b[0m\u001b[0;34m\u001b[0m\u001b[0m\n",
            "\u001b[0;32m/usr/local/lib/python3.7/dist-packages/joblib/_parallel_backends.py\u001b[0m in \u001b[0;36mapply_async\u001b[0;34m(self, func, callback)\u001b[0m\n\u001b[1;32m    206\u001b[0m     \u001b[0;32mdef\u001b[0m \u001b[0mapply_async\u001b[0m\u001b[0;34m(\u001b[0m\u001b[0mself\u001b[0m\u001b[0;34m,\u001b[0m \u001b[0mfunc\u001b[0m\u001b[0;34m,\u001b[0m \u001b[0mcallback\u001b[0m\u001b[0;34m=\u001b[0m\u001b[0;32mNone\u001b[0m\u001b[0;34m)\u001b[0m\u001b[0;34m:\u001b[0m\u001b[0;34m\u001b[0m\u001b[0;34m\u001b[0m\u001b[0m\n\u001b[1;32m    207\u001b[0m         \u001b[0;34m\"\"\"Schedule a func to be run\"\"\"\u001b[0m\u001b[0;34m\u001b[0m\u001b[0;34m\u001b[0m\u001b[0m\n\u001b[0;32m--> 208\u001b[0;31m         \u001b[0mresult\u001b[0m \u001b[0;34m=\u001b[0m \u001b[0mImmediateResult\u001b[0m\u001b[0;34m(\u001b[0m\u001b[0mfunc\u001b[0m\u001b[0;34m)\u001b[0m\u001b[0;34m\u001b[0m\u001b[0;34m\u001b[0m\u001b[0m\n\u001b[0m\u001b[1;32m    209\u001b[0m         \u001b[0;32mif\u001b[0m \u001b[0mcallback\u001b[0m\u001b[0;34m:\u001b[0m\u001b[0;34m\u001b[0m\u001b[0;34m\u001b[0m\u001b[0m\n\u001b[1;32m    210\u001b[0m             \u001b[0mcallback\u001b[0m\u001b[0;34m(\u001b[0m\u001b[0mresult\u001b[0m\u001b[0;34m)\u001b[0m\u001b[0;34m\u001b[0m\u001b[0;34m\u001b[0m\u001b[0m\n",
            "\u001b[0;32m/usr/local/lib/python3.7/dist-packages/joblib/_parallel_backends.py\u001b[0m in \u001b[0;36m__init__\u001b[0;34m(self, batch)\u001b[0m\n\u001b[1;32m    570\u001b[0m         \u001b[0;31m# Don't delay the application, to avoid keeping the input\u001b[0m\u001b[0;34m\u001b[0m\u001b[0;34m\u001b[0m\u001b[0;34m\u001b[0m\u001b[0m\n\u001b[1;32m    571\u001b[0m         \u001b[0;31m# arguments in memory\u001b[0m\u001b[0;34m\u001b[0m\u001b[0;34m\u001b[0m\u001b[0;34m\u001b[0m\u001b[0m\n\u001b[0;32m--> 572\u001b[0;31m         \u001b[0mself\u001b[0m\u001b[0;34m.\u001b[0m\u001b[0mresults\u001b[0m \u001b[0;34m=\u001b[0m \u001b[0mbatch\u001b[0m\u001b[0;34m(\u001b[0m\u001b[0;34m)\u001b[0m\u001b[0;34m\u001b[0m\u001b[0;34m\u001b[0m\u001b[0m\n\u001b[0m\u001b[1;32m    573\u001b[0m \u001b[0;34m\u001b[0m\u001b[0m\n\u001b[1;32m    574\u001b[0m     \u001b[0;32mdef\u001b[0m \u001b[0mget\u001b[0m\u001b[0;34m(\u001b[0m\u001b[0mself\u001b[0m\u001b[0;34m)\u001b[0m\u001b[0;34m:\u001b[0m\u001b[0;34m\u001b[0m\u001b[0;34m\u001b[0m\u001b[0m\n",
            "\u001b[0;32m/usr/local/lib/python3.7/dist-packages/joblib/parallel.py\u001b[0m in \u001b[0;36m__call__\u001b[0;34m(self)\u001b[0m\n\u001b[1;32m    261\u001b[0m         \u001b[0;32mwith\u001b[0m \u001b[0mparallel_backend\u001b[0m\u001b[0;34m(\u001b[0m\u001b[0mself\u001b[0m\u001b[0;34m.\u001b[0m\u001b[0m_backend\u001b[0m\u001b[0;34m,\u001b[0m \u001b[0mn_jobs\u001b[0m\u001b[0;34m=\u001b[0m\u001b[0mself\u001b[0m\u001b[0;34m.\u001b[0m\u001b[0m_n_jobs\u001b[0m\u001b[0;34m)\u001b[0m\u001b[0;34m:\u001b[0m\u001b[0;34m\u001b[0m\u001b[0;34m\u001b[0m\u001b[0m\n\u001b[1;32m    262\u001b[0m             return [func(*args, **kwargs)\n\u001b[0;32m--> 263\u001b[0;31m                     for func, args, kwargs in self.items]\n\u001b[0m\u001b[1;32m    264\u001b[0m \u001b[0;34m\u001b[0m\u001b[0m\n\u001b[1;32m    265\u001b[0m     \u001b[0;32mdef\u001b[0m \u001b[0m__reduce__\u001b[0m\u001b[0;34m(\u001b[0m\u001b[0mself\u001b[0m\u001b[0;34m)\u001b[0m\u001b[0;34m:\u001b[0m\u001b[0;34m\u001b[0m\u001b[0;34m\u001b[0m\u001b[0m\n",
            "\u001b[0;32m/usr/local/lib/python3.7/dist-packages/joblib/parallel.py\u001b[0m in \u001b[0;36m<listcomp>\u001b[0;34m(.0)\u001b[0m\n\u001b[1;32m    261\u001b[0m         \u001b[0;32mwith\u001b[0m \u001b[0mparallel_backend\u001b[0m\u001b[0;34m(\u001b[0m\u001b[0mself\u001b[0m\u001b[0;34m.\u001b[0m\u001b[0m_backend\u001b[0m\u001b[0;34m,\u001b[0m \u001b[0mn_jobs\u001b[0m\u001b[0;34m=\u001b[0m\u001b[0mself\u001b[0m\u001b[0;34m.\u001b[0m\u001b[0m_n_jobs\u001b[0m\u001b[0;34m)\u001b[0m\u001b[0;34m:\u001b[0m\u001b[0;34m\u001b[0m\u001b[0;34m\u001b[0m\u001b[0m\n\u001b[1;32m    262\u001b[0m             return [func(*args, **kwargs)\n\u001b[0;32m--> 263\u001b[0;31m                     for func, args, kwargs in self.items]\n\u001b[0m\u001b[1;32m    264\u001b[0m \u001b[0;34m\u001b[0m\u001b[0m\n\u001b[1;32m    265\u001b[0m     \u001b[0;32mdef\u001b[0m \u001b[0m__reduce__\u001b[0m\u001b[0;34m(\u001b[0m\u001b[0mself\u001b[0m\u001b[0;34m)\u001b[0m\u001b[0;34m:\u001b[0m\u001b[0;34m\u001b[0m\u001b[0;34m\u001b[0m\u001b[0m\n",
            "\u001b[0;32m/usr/local/lib/python3.7/dist-packages/sklearn/utils/fixes.py\u001b[0m in \u001b[0;36m__call__\u001b[0;34m(self, *args, **kwargs)\u001b[0m\n\u001b[1;32m    214\u001b[0m     \u001b[0;32mdef\u001b[0m \u001b[0m__call__\u001b[0m\u001b[0;34m(\u001b[0m\u001b[0mself\u001b[0m\u001b[0;34m,\u001b[0m \u001b[0;34m*\u001b[0m\u001b[0margs\u001b[0m\u001b[0;34m,\u001b[0m \u001b[0;34m**\u001b[0m\u001b[0mkwargs\u001b[0m\u001b[0;34m)\u001b[0m\u001b[0;34m:\u001b[0m\u001b[0;34m\u001b[0m\u001b[0;34m\u001b[0m\u001b[0m\n\u001b[1;32m    215\u001b[0m         \u001b[0;32mwith\u001b[0m \u001b[0mconfig_context\u001b[0m\u001b[0;34m(\u001b[0m\u001b[0;34m**\u001b[0m\u001b[0mself\u001b[0m\u001b[0;34m.\u001b[0m\u001b[0mconfig\u001b[0m\u001b[0;34m)\u001b[0m\u001b[0;34m:\u001b[0m\u001b[0;34m\u001b[0m\u001b[0;34m\u001b[0m\u001b[0m\n\u001b[0;32m--> 216\u001b[0;31m             \u001b[0;32mreturn\u001b[0m \u001b[0mself\u001b[0m\u001b[0;34m.\u001b[0m\u001b[0mfunction\u001b[0m\u001b[0;34m(\u001b[0m\u001b[0;34m*\u001b[0m\u001b[0margs\u001b[0m\u001b[0;34m,\u001b[0m \u001b[0;34m**\u001b[0m\u001b[0mkwargs\u001b[0m\u001b[0;34m)\u001b[0m\u001b[0;34m\u001b[0m\u001b[0;34m\u001b[0m\u001b[0m\n\u001b[0m\u001b[1;32m    217\u001b[0m \u001b[0;34m\u001b[0m\u001b[0m\n\u001b[1;32m    218\u001b[0m \u001b[0;34m\u001b[0m\u001b[0m\n",
            "\u001b[0;32m/usr/local/lib/python3.7/dist-packages/sklearn/model_selection/_validation.py\u001b[0m in \u001b[0;36m_fit_and_score\u001b[0;34m(estimator, X, y, scorer, train, test, verbose, parameters, fit_params, return_train_score, return_parameters, return_n_test_samples, return_times, return_estimator, split_progress, candidate_progress, error_score)\u001b[0m\n\u001b[1;32m    678\u001b[0m             \u001b[0mestimator\u001b[0m\u001b[0;34m.\u001b[0m\u001b[0mfit\u001b[0m\u001b[0;34m(\u001b[0m\u001b[0mX_train\u001b[0m\u001b[0;34m,\u001b[0m \u001b[0;34m**\u001b[0m\u001b[0mfit_params\u001b[0m\u001b[0;34m)\u001b[0m\u001b[0;34m\u001b[0m\u001b[0;34m\u001b[0m\u001b[0m\n\u001b[1;32m    679\u001b[0m         \u001b[0;32melse\u001b[0m\u001b[0;34m:\u001b[0m\u001b[0;34m\u001b[0m\u001b[0;34m\u001b[0m\u001b[0m\n\u001b[0;32m--> 680\u001b[0;31m             \u001b[0mestimator\u001b[0m\u001b[0;34m.\u001b[0m\u001b[0mfit\u001b[0m\u001b[0;34m(\u001b[0m\u001b[0mX_train\u001b[0m\u001b[0;34m,\u001b[0m \u001b[0my_train\u001b[0m\u001b[0;34m,\u001b[0m \u001b[0;34m**\u001b[0m\u001b[0mfit_params\u001b[0m\u001b[0;34m)\u001b[0m\u001b[0;34m\u001b[0m\u001b[0;34m\u001b[0m\u001b[0m\n\u001b[0m\u001b[1;32m    681\u001b[0m \u001b[0;34m\u001b[0m\u001b[0m\n\u001b[1;32m    682\u001b[0m     \u001b[0;32mexcept\u001b[0m \u001b[0mException\u001b[0m\u001b[0;34m:\u001b[0m\u001b[0;34m\u001b[0m\u001b[0;34m\u001b[0m\u001b[0m\n",
            "\u001b[0;32m/usr/local/lib/python3.7/dist-packages/sklearn/ensemble/_gb.py\u001b[0m in \u001b[0;36mfit\u001b[0;34m(self, X, y, sample_weight, monitor)\u001b[0m\n\u001b[1;32m    594\u001b[0m             \u001b[0msample_weight_val\u001b[0m\u001b[0;34m,\u001b[0m\u001b[0;34m\u001b[0m\u001b[0;34m\u001b[0m\u001b[0m\n\u001b[1;32m    595\u001b[0m             \u001b[0mbegin_at_stage\u001b[0m\u001b[0;34m,\u001b[0m\u001b[0;34m\u001b[0m\u001b[0;34m\u001b[0m\u001b[0m\n\u001b[0;32m--> 596\u001b[0;31m             \u001b[0mmonitor\u001b[0m\u001b[0;34m,\u001b[0m\u001b[0;34m\u001b[0m\u001b[0;34m\u001b[0m\u001b[0m\n\u001b[0m\u001b[1;32m    597\u001b[0m         )\n\u001b[1;32m    598\u001b[0m \u001b[0;34m\u001b[0m\u001b[0m\n",
            "\u001b[0;32m/usr/local/lib/python3.7/dist-packages/sklearn/ensemble/_gb.py\u001b[0m in \u001b[0;36m_fit_stages\u001b[0;34m(self, X, y, raw_predictions, sample_weight, random_state, X_val, y_val, sample_weight_val, begin_at_stage, monitor)\u001b[0m\n\u001b[1;32m    670\u001b[0m                 \u001b[0mrandom_state\u001b[0m\u001b[0;34m,\u001b[0m\u001b[0;34m\u001b[0m\u001b[0;34m\u001b[0m\u001b[0m\n\u001b[1;32m    671\u001b[0m                 \u001b[0mX_csc\u001b[0m\u001b[0;34m,\u001b[0m\u001b[0;34m\u001b[0m\u001b[0;34m\u001b[0m\u001b[0m\n\u001b[0;32m--> 672\u001b[0;31m                 \u001b[0mX_csr\u001b[0m\u001b[0;34m,\u001b[0m\u001b[0;34m\u001b[0m\u001b[0;34m\u001b[0m\u001b[0m\n\u001b[0m\u001b[1;32m    673\u001b[0m             )\n\u001b[1;32m    674\u001b[0m \u001b[0;34m\u001b[0m\u001b[0m\n",
            "\u001b[0;32m/usr/local/lib/python3.7/dist-packages/sklearn/ensemble/_gb.py\u001b[0m in \u001b[0;36m_fit_stage\u001b[0;34m(self, i, X, y, raw_predictions, sample_weight, sample_mask, random_state, X_csc, X_csr)\u001b[0m\n\u001b[1;32m    244\u001b[0m \u001b[0;34m\u001b[0m\u001b[0m\n\u001b[1;32m    245\u001b[0m             \u001b[0mX\u001b[0m \u001b[0;34m=\u001b[0m \u001b[0mX_csr\u001b[0m \u001b[0;32mif\u001b[0m \u001b[0mX_csr\u001b[0m \u001b[0;32mis\u001b[0m \u001b[0;32mnot\u001b[0m \u001b[0;32mNone\u001b[0m \u001b[0;32melse\u001b[0m \u001b[0mX\u001b[0m\u001b[0;34m\u001b[0m\u001b[0;34m\u001b[0m\u001b[0m\n\u001b[0;32m--> 246\u001b[0;31m             \u001b[0mtree\u001b[0m\u001b[0;34m.\u001b[0m\u001b[0mfit\u001b[0m\u001b[0;34m(\u001b[0m\u001b[0mX\u001b[0m\u001b[0;34m,\u001b[0m \u001b[0mresidual\u001b[0m\u001b[0;34m,\u001b[0m \u001b[0msample_weight\u001b[0m\u001b[0;34m=\u001b[0m\u001b[0msample_weight\u001b[0m\u001b[0;34m,\u001b[0m \u001b[0mcheck_input\u001b[0m\u001b[0;34m=\u001b[0m\u001b[0;32mFalse\u001b[0m\u001b[0;34m)\u001b[0m\u001b[0;34m\u001b[0m\u001b[0;34m\u001b[0m\u001b[0m\n\u001b[0m\u001b[1;32m    247\u001b[0m \u001b[0;34m\u001b[0m\u001b[0m\n\u001b[1;32m    248\u001b[0m             \u001b[0;31m# update tree leaves\u001b[0m\u001b[0;34m\u001b[0m\u001b[0;34m\u001b[0m\u001b[0;34m\u001b[0m\u001b[0m\n",
            "\u001b[0;32m/usr/local/lib/python3.7/dist-packages/sklearn/tree/_classes.py\u001b[0m in \u001b[0;36mfit\u001b[0;34m(self, X, y, sample_weight, check_input, X_idx_sorted)\u001b[0m\n\u001b[1;32m   1318\u001b[0m             \u001b[0msample_weight\u001b[0m\u001b[0;34m=\u001b[0m\u001b[0msample_weight\u001b[0m\u001b[0;34m,\u001b[0m\u001b[0;34m\u001b[0m\u001b[0;34m\u001b[0m\u001b[0m\n\u001b[1;32m   1319\u001b[0m             \u001b[0mcheck_input\u001b[0m\u001b[0;34m=\u001b[0m\u001b[0mcheck_input\u001b[0m\u001b[0;34m,\u001b[0m\u001b[0;34m\u001b[0m\u001b[0;34m\u001b[0m\u001b[0m\n\u001b[0;32m-> 1320\u001b[0;31m             \u001b[0mX_idx_sorted\u001b[0m\u001b[0;34m=\u001b[0m\u001b[0mX_idx_sorted\u001b[0m\u001b[0;34m,\u001b[0m\u001b[0;34m\u001b[0m\u001b[0;34m\u001b[0m\u001b[0m\n\u001b[0m\u001b[1;32m   1321\u001b[0m         )\n\u001b[1;32m   1322\u001b[0m         \u001b[0;32mreturn\u001b[0m \u001b[0mself\u001b[0m\u001b[0;34m\u001b[0m\u001b[0;34m\u001b[0m\u001b[0m\n",
            "\u001b[0;32m/usr/local/lib/python3.7/dist-packages/sklearn/tree/_classes.py\u001b[0m in \u001b[0;36mfit\u001b[0;34m(self, X, y, sample_weight, check_input, X_idx_sorted)\u001b[0m\n\u001b[1;32m    418\u001b[0m             )\n\u001b[1;32m    419\u001b[0m \u001b[0;34m\u001b[0m\u001b[0m\n\u001b[0;32m--> 420\u001b[0;31m         \u001b[0mbuilder\u001b[0m\u001b[0;34m.\u001b[0m\u001b[0mbuild\u001b[0m\u001b[0;34m(\u001b[0m\u001b[0mself\u001b[0m\u001b[0;34m.\u001b[0m\u001b[0mtree_\u001b[0m\u001b[0;34m,\u001b[0m \u001b[0mX\u001b[0m\u001b[0;34m,\u001b[0m \u001b[0my\u001b[0m\u001b[0;34m,\u001b[0m \u001b[0msample_weight\u001b[0m\u001b[0;34m)\u001b[0m\u001b[0;34m\u001b[0m\u001b[0;34m\u001b[0m\u001b[0m\n\u001b[0m\u001b[1;32m    421\u001b[0m \u001b[0;34m\u001b[0m\u001b[0m\n\u001b[1;32m    422\u001b[0m         \u001b[0;32mif\u001b[0m \u001b[0mself\u001b[0m\u001b[0;34m.\u001b[0m\u001b[0mn_outputs_\u001b[0m \u001b[0;34m==\u001b[0m \u001b[0;36m1\u001b[0m \u001b[0;32mand\u001b[0m \u001b[0mis_classifier\u001b[0m\u001b[0;34m(\u001b[0m\u001b[0mself\u001b[0m\u001b[0;34m)\u001b[0m\u001b[0;34m:\u001b[0m\u001b[0;34m\u001b[0m\u001b[0;34m\u001b[0m\u001b[0m\n",
            "\u001b[0;31mKeyboardInterrupt\u001b[0m: "
          ]
        }
      ]
    },
    {
      "cell_type": "code",
      "source": [
        ""
      ],
      "metadata": {
        "id": "S2lztNtRLgLr"
      },
      "execution_count": null,
      "outputs": []
    }
  ]
}