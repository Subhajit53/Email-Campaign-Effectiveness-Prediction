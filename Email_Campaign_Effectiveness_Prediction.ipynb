{
  "nbformat": 4,
  "nbformat_minor": 0,
  "metadata": {
    "colab": {
      "name": "Email Campaign Effectiveness Prediction.ipynb",
      "provenance": [],
      "collapsed_sections": [],
      "mount_file_id": "13DC1LyC6zSGWC4epbmMivQ_z-KWIWGY3",
      "authorship_tag": "ABX9TyNKlwavoHeSNUTFIMTQRVqK",
      "include_colab_link": true
    },
    "kernelspec": {
      "name": "python3",
      "display_name": "Python 3"
    },
    "language_info": {
      "name": "python"
    }
  },
  "cells": [
    {
      "cell_type": "markdown",
      "metadata": {
        "id": "view-in-github",
        "colab_type": "text"
      },
      "source": [
        "<a href=\"https://colab.research.google.com/github/Subhajit53/Email-Campaign-Effectiveness-Prediction/blob/main/Email_Campaign_Effectiveness_Prediction.ipynb\" target=\"_parent\"><img src=\"https://colab.research.google.com/assets/colab-badge.svg\" alt=\"Open In Colab\"/></a>"
      ]
    },
    {
      "cell_type": "markdown",
      "source": [
        "# <b><u> Project Title : Email Campaign Effectiveness Prediction : Characterize the mail and track the mail</u></b>"
      ],
      "metadata": {
        "id": "K5yNIs6ObzqQ"
      }
    },
    {
      "cell_type": "markdown",
      "source": [
        "## <b> Problem Description </b>\n",
        "\n",
        "### Most of the small to medium business owners are making effective use of Gmail-based Email marketing Strategies for offline targeting of converting their prospective customers into leads so that they stay with them in Business. The main objective is to create a machine learning model to characterize the mail and track the mail that is ignored; read; acknowledged by the reader."
      ],
      "metadata": {
        "id": "NDWfk-hscSIF"
      }
    },
    {
      "cell_type": "markdown",
      "source": [
        "## <b> Data Description </b>\n",
        "\n",
        "### Number of observations : 68353\n",
        "\n",
        "### <b> Columns : </b>\n",
        "\n",
        "1.   Email_ID : Unique identifier of emails sent\n",
        "2.   Email_Type : Type of email encoded as 1 and 2   \n",
        "3.   Subject_Hotness_Score : A score between 0 to 5 for hotness of the email topic\n",
        "4.   Email_Source_Type : Source of email encoded as 1 and 2\n",
        "5.   Customer_Location : Location of customer encoded as A,B,C,D,E,F,G\n",
        "6.   Email_Campaign_Type : Type of campaign encoded as 1, 2 and 3\n",
        "7.   Total_Past_Communications : Number of past communications\n",
        "8.   Time_Email_sent_Category\t: Time at which email email was sent encoded as 1, 2 and 3\n",
        "9.   Word_Count : Words in the email\n",
        "10.   Total_Links : Number of links in the email\n",
        "11.   Total_Images : Number of images in the email\n",
        "12.   Email_Status : Email status encoded as 0 : ignored, 1 : read, 2 : acknowledged\n",
        "\n",
        "\n",
        "\n",
        "\n",
        "\n",
        "\n",
        "\n"
      ],
      "metadata": {
        "id": "oNA7MlGQcj8I"
      }
    },
    {
      "cell_type": "markdown",
      "source": [
        "# **Introduction :**\n",
        "##### An email campaign is a sequence of marketing efforts that contacts multiple recipients at once. Email campaigns are designed to reach out to subscribers at the best time and provide valuable content and relevant offers. Using email campaigns allows you to build deep and trusting relationships with your customers.\n",
        "\n",
        "##### There are multiple factors that are working behind success of an email campaign like email contents, time at which email was sent, length of the email etc.\n",
        "\n",
        "##### Here, I want to build a classification model to predict whether any particular campaign email is going blind or hitting the target."
      ],
      "metadata": {
        "id": "WOibGQcp3c00"
      }
    },
    {
      "cell_type": "markdown",
      "source": [
        "# **Approach :**\n",
        "##### To solve the problem, I have devised a 3-step approach below:\n",
        "\n",
        "#### **1. Basic EDA :**\n",
        "##### In this step, I want to do some exploration on the data. First, I shall check for null values and try to replace or remove them. Then, I shall check for outliers using boxplots and try to replace or remove them. Thirdly, I shall get some visualizations to get an idea of the variables in hand.\n",
        "\n",
        "\n",
        "#### **2. Model training and testing :**\n",
        "##### In this step, I shall get a train-test pair from the given dataset and fit 5 classification models to the train set, make predictions on the test set using them and calculate various evaluation metrics. The models are namely : Decision Trees, Random Forests, Gradient Boosting Machine, Support Vector Machines, Naive-Bayes Classifier.\n",
        "\n",
        "**Note:** A point to be noted here. We can't fit a logistic regression here as this is a multi-class (>2) classification problem.\n",
        "\n",
        "#### **3. Model Evaluation :**\n",
        "##### As the last step, I shall compare all the models and try to come up with a conclusion about which model might be the best choice here."
      ],
      "metadata": {
        "id": "etPiIBnH5Bjx"
      }
    },
    {
      "cell_type": "markdown",
      "source": [
        "# **Analysis:**"
      ],
      "metadata": {
        "id": "FmTP1gsM6DlO"
      }
    },
    {
      "cell_type": "markdown",
      "source": [
        "### **Data Exporting and exploration :**"
      ],
      "metadata": {
        "id": "g67KIpuO6GC1"
      }
    },
    {
      "cell_type": "code",
      "source": [
        "# Importing essential libraries\n",
        "import pandas as pd\n",
        "import numpy as np\n",
        "import matplotlib.pyplot as plt\n",
        "import seaborn as sns"
      ],
      "metadata": {
        "id": "kGvYGqnBc-eJ"
      },
      "execution_count": 62,
      "outputs": []
    },
    {
      "cell_type": "code",
      "source": [
        "# Mounting drive\n",
        "from google.colab import drive\n",
        "drive.mount('/content/drive')"
      ],
      "metadata": {
        "id": "yXvqDqLidGmH",
        "colab": {
          "base_uri": "https://localhost:8080/"
        },
        "outputId": "e05321eb-4f3e-4944-8f08-9db41e8fb7cc"
      },
      "execution_count": 2,
      "outputs": [
        {
          "output_type": "stream",
          "name": "stdout",
          "text": [
            "Drive already mounted at /content/drive; to attempt to forcibly remount, call drive.mount(\"/content/drive\", force_remount=True).\n"
          ]
        }
      ]
    },
    {
      "cell_type": "code",
      "source": [
        "# Reading the dataset\n",
        "df = pd.read_csv('/content/drive/MyDrive/Classification Project/Copy of data_email_campaign.csv', index_col='Email_ID')"
      ],
      "metadata": {
        "id": "QzYbEuQhdNnF"
      },
      "execution_count": 3,
      "outputs": []
    },
    {
      "cell_type": "code",
      "source": [
        "# Getting a glimpse of the data\n",
        "df.head()"
      ],
      "metadata": {
        "colab": {
          "base_uri": "https://localhost:8080/",
          "height": 302
        },
        "id": "kWxKRRm4dUDj",
        "outputId": "f5209ec0-c372-4ffe-9cf4-6998516757ea"
      },
      "execution_count": 4,
      "outputs": [
        {
          "output_type": "execute_result",
          "data": {
            "text/html": [
              "\n",
              "  <div id=\"df-7defdd9a-825f-4d2a-a3a5-48262c85a20f\">\n",
              "    <div class=\"colab-df-container\">\n",
              "      <div>\n",
              "<style scoped>\n",
              "    .dataframe tbody tr th:only-of-type {\n",
              "        vertical-align: middle;\n",
              "    }\n",
              "\n",
              "    .dataframe tbody tr th {\n",
              "        vertical-align: top;\n",
              "    }\n",
              "\n",
              "    .dataframe thead th {\n",
              "        text-align: right;\n",
              "    }\n",
              "</style>\n",
              "<table border=\"1\" class=\"dataframe\">\n",
              "  <thead>\n",
              "    <tr style=\"text-align: right;\">\n",
              "      <th></th>\n",
              "      <th>Email_Type</th>\n",
              "      <th>Subject_Hotness_Score</th>\n",
              "      <th>Email_Source_Type</th>\n",
              "      <th>Customer_Location</th>\n",
              "      <th>Email_Campaign_Type</th>\n",
              "      <th>Total_Past_Communications</th>\n",
              "      <th>Time_Email_sent_Category</th>\n",
              "      <th>Word_Count</th>\n",
              "      <th>Total_Links</th>\n",
              "      <th>Total_Images</th>\n",
              "      <th>Email_Status</th>\n",
              "    </tr>\n",
              "    <tr>\n",
              "      <th>Email_ID</th>\n",
              "      <th></th>\n",
              "      <th></th>\n",
              "      <th></th>\n",
              "      <th></th>\n",
              "      <th></th>\n",
              "      <th></th>\n",
              "      <th></th>\n",
              "      <th></th>\n",
              "      <th></th>\n",
              "      <th></th>\n",
              "      <th></th>\n",
              "    </tr>\n",
              "  </thead>\n",
              "  <tbody>\n",
              "    <tr>\n",
              "      <th>EMA00081000034500</th>\n",
              "      <td>1</td>\n",
              "      <td>2.2</td>\n",
              "      <td>2</td>\n",
              "      <td>E</td>\n",
              "      <td>2</td>\n",
              "      <td>33.0</td>\n",
              "      <td>1</td>\n",
              "      <td>440</td>\n",
              "      <td>8.0</td>\n",
              "      <td>0.0</td>\n",
              "      <td>0</td>\n",
              "    </tr>\n",
              "    <tr>\n",
              "      <th>EMA00081000045360</th>\n",
              "      <td>2</td>\n",
              "      <td>2.1</td>\n",
              "      <td>1</td>\n",
              "      <td>NaN</td>\n",
              "      <td>2</td>\n",
              "      <td>15.0</td>\n",
              "      <td>2</td>\n",
              "      <td>504</td>\n",
              "      <td>5.0</td>\n",
              "      <td>0.0</td>\n",
              "      <td>0</td>\n",
              "    </tr>\n",
              "    <tr>\n",
              "      <th>EMA00081000066290</th>\n",
              "      <td>2</td>\n",
              "      <td>0.1</td>\n",
              "      <td>1</td>\n",
              "      <td>B</td>\n",
              "      <td>3</td>\n",
              "      <td>36.0</td>\n",
              "      <td>2</td>\n",
              "      <td>962</td>\n",
              "      <td>5.0</td>\n",
              "      <td>0.0</td>\n",
              "      <td>1</td>\n",
              "    </tr>\n",
              "    <tr>\n",
              "      <th>EMA00081000076560</th>\n",
              "      <td>1</td>\n",
              "      <td>3.0</td>\n",
              "      <td>2</td>\n",
              "      <td>E</td>\n",
              "      <td>2</td>\n",
              "      <td>25.0</td>\n",
              "      <td>2</td>\n",
              "      <td>610</td>\n",
              "      <td>16.0</td>\n",
              "      <td>0.0</td>\n",
              "      <td>0</td>\n",
              "    </tr>\n",
              "    <tr>\n",
              "      <th>EMA00081000109720</th>\n",
              "      <td>1</td>\n",
              "      <td>0.0</td>\n",
              "      <td>2</td>\n",
              "      <td>C</td>\n",
              "      <td>3</td>\n",
              "      <td>18.0</td>\n",
              "      <td>2</td>\n",
              "      <td>947</td>\n",
              "      <td>4.0</td>\n",
              "      <td>0.0</td>\n",
              "      <td>0</td>\n",
              "    </tr>\n",
              "  </tbody>\n",
              "</table>\n",
              "</div>\n",
              "      <button class=\"colab-df-convert\" onclick=\"convertToInteractive('df-7defdd9a-825f-4d2a-a3a5-48262c85a20f')\"\n",
              "              title=\"Convert this dataframe to an interactive table.\"\n",
              "              style=\"display:none;\">\n",
              "        \n",
              "  <svg xmlns=\"http://www.w3.org/2000/svg\" height=\"24px\"viewBox=\"0 0 24 24\"\n",
              "       width=\"24px\">\n",
              "    <path d=\"M0 0h24v24H0V0z\" fill=\"none\"/>\n",
              "    <path d=\"M18.56 5.44l.94 2.06.94-2.06 2.06-.94-2.06-.94-.94-2.06-.94 2.06-2.06.94zm-11 1L8.5 8.5l.94-2.06 2.06-.94-2.06-.94L8.5 2.5l-.94 2.06-2.06.94zm10 10l.94 2.06.94-2.06 2.06-.94-2.06-.94-.94-2.06-.94 2.06-2.06.94z\"/><path d=\"M17.41 7.96l-1.37-1.37c-.4-.4-.92-.59-1.43-.59-.52 0-1.04.2-1.43.59L10.3 9.45l-7.72 7.72c-.78.78-.78 2.05 0 2.83L4 21.41c.39.39.9.59 1.41.59.51 0 1.02-.2 1.41-.59l7.78-7.78 2.81-2.81c.8-.78.8-2.07 0-2.86zM5.41 20L4 18.59l7.72-7.72 1.47 1.35L5.41 20z\"/>\n",
              "  </svg>\n",
              "      </button>\n",
              "      \n",
              "  <style>\n",
              "    .colab-df-container {\n",
              "      display:flex;\n",
              "      flex-wrap:wrap;\n",
              "      gap: 12px;\n",
              "    }\n",
              "\n",
              "    .colab-df-convert {\n",
              "      background-color: #E8F0FE;\n",
              "      border: none;\n",
              "      border-radius: 50%;\n",
              "      cursor: pointer;\n",
              "      display: none;\n",
              "      fill: #1967D2;\n",
              "      height: 32px;\n",
              "      padding: 0 0 0 0;\n",
              "      width: 32px;\n",
              "    }\n",
              "\n",
              "    .colab-df-convert:hover {\n",
              "      background-color: #E2EBFA;\n",
              "      box-shadow: 0px 1px 2px rgba(60, 64, 67, 0.3), 0px 1px 3px 1px rgba(60, 64, 67, 0.15);\n",
              "      fill: #174EA6;\n",
              "    }\n",
              "\n",
              "    [theme=dark] .colab-df-convert {\n",
              "      background-color: #3B4455;\n",
              "      fill: #D2E3FC;\n",
              "    }\n",
              "\n",
              "    [theme=dark] .colab-df-convert:hover {\n",
              "      background-color: #434B5C;\n",
              "      box-shadow: 0px 1px 3px 1px rgba(0, 0, 0, 0.15);\n",
              "      filter: drop-shadow(0px 1px 2px rgba(0, 0, 0, 0.3));\n",
              "      fill: #FFFFFF;\n",
              "    }\n",
              "  </style>\n",
              "\n",
              "      <script>\n",
              "        const buttonEl =\n",
              "          document.querySelector('#df-7defdd9a-825f-4d2a-a3a5-48262c85a20f button.colab-df-convert');\n",
              "        buttonEl.style.display =\n",
              "          google.colab.kernel.accessAllowed ? 'block' : 'none';\n",
              "\n",
              "        async function convertToInteractive(key) {\n",
              "          const element = document.querySelector('#df-7defdd9a-825f-4d2a-a3a5-48262c85a20f');\n",
              "          const dataTable =\n",
              "            await google.colab.kernel.invokeFunction('convertToInteractive',\n",
              "                                                     [key], {});\n",
              "          if (!dataTable) return;\n",
              "\n",
              "          const docLinkHtml = 'Like what you see? Visit the ' +\n",
              "            '<a target=\"_blank\" href=https://colab.research.google.com/notebooks/data_table.ipynb>data table notebook</a>'\n",
              "            + ' to learn more about interactive tables.';\n",
              "          element.innerHTML = '';\n",
              "          dataTable['output_type'] = 'display_data';\n",
              "          await google.colab.output.renderOutput(dataTable, element);\n",
              "          const docLink = document.createElement('div');\n",
              "          docLink.innerHTML = docLinkHtml;\n",
              "          element.appendChild(docLink);\n",
              "        }\n",
              "      </script>\n",
              "    </div>\n",
              "  </div>\n",
              "  "
            ],
            "text/plain": [
              "                   Email_Type  ...  Email_Status\n",
              "Email_ID                       ...              \n",
              "EMA00081000034500           1  ...             0\n",
              "EMA00081000045360           2  ...             0\n",
              "EMA00081000066290           2  ...             1\n",
              "EMA00081000076560           1  ...             0\n",
              "EMA00081000109720           1  ...             0\n",
              "\n",
              "[5 rows x 11 columns]"
            ]
          },
          "metadata": {},
          "execution_count": 4
        }
      ]
    },
    {
      "cell_type": "code",
      "source": [
        "# Getting the shape of the data\n",
        "df.shape"
      ],
      "metadata": {
        "colab": {
          "base_uri": "https://localhost:8080/"
        },
        "id": "c5Kjx6L-6O8V",
        "outputId": "a2092a14-0b52-4b70-9323-8473ee7b9054"
      },
      "execution_count": 5,
      "outputs": [
        {
          "output_type": "execute_result",
          "data": {
            "text/plain": [
              "(68353, 11)"
            ]
          },
          "metadata": {},
          "execution_count": 5
        }
      ]
    },
    {
      "cell_type": "code",
      "source": [
        "# Getting a short info of the data\n",
        "df.info()"
      ],
      "metadata": {
        "colab": {
          "base_uri": "https://localhost:8080/"
        },
        "id": "XqxyR-f5did8",
        "outputId": "13fc5604-d5d8-491f-ee81-b9fcd37de5eb"
      },
      "execution_count": 6,
      "outputs": [
        {
          "output_type": "stream",
          "name": "stdout",
          "text": [
            "<class 'pandas.core.frame.DataFrame'>\n",
            "Index: 68353 entries, EMA00081000034500 to EMA00089999316900\n",
            "Data columns (total 11 columns):\n",
            " #   Column                     Non-Null Count  Dtype  \n",
            "---  ------                     --------------  -----  \n",
            " 0   Email_Type                 68353 non-null  int64  \n",
            " 1   Subject_Hotness_Score      68353 non-null  float64\n",
            " 2   Email_Source_Type          68353 non-null  int64  \n",
            " 3   Customer_Location          56758 non-null  object \n",
            " 4   Email_Campaign_Type        68353 non-null  int64  \n",
            " 5   Total_Past_Communications  61528 non-null  float64\n",
            " 6   Time_Email_sent_Category   68353 non-null  int64  \n",
            " 7   Word_Count                 68353 non-null  int64  \n",
            " 8   Total_Links                66152 non-null  float64\n",
            " 9   Total_Images               66676 non-null  float64\n",
            " 10  Email_Status               68353 non-null  int64  \n",
            "dtypes: float64(4), int64(6), object(1)\n",
            "memory usage: 6.3+ MB\n"
          ]
        }
      ]
    },
    {
      "cell_type": "markdown",
      "source": [
        "## **1. Basic EDA :**"
      ],
      "metadata": {
        "id": "X7eXeU4Z6KJt"
      }
    },
    {
      "cell_type": "markdown",
      "source": [
        "### **Imputing Missing Values :**"
      ],
      "metadata": {
        "id": "At6-2y1VP_5z"
      }
    },
    {
      "cell_type": "markdown",
      "source": [
        "From the data shape and info it is clear that there are some null values in the dataset. Let's have a look at them and see what we can do to impute them."
      ],
      "metadata": {
        "id": "Ee7DQlnF6RFO"
      }
    },
    {
      "cell_type": "markdown",
      "source": [
        "The columns with missing values are :\n",
        "\n",
        "1.   Customer_Location (Categorical)\n",
        "2.   Total_Past_Communications (Numerical)\n",
        "3.   Total_Links (Numerical)\n",
        "4.   Total_Images (Numerical)\n",
        "\n"
      ],
      "metadata": {
        "id": "ukA-Smw0618F"
      }
    },
    {
      "cell_type": "markdown",
      "source": [
        "We can do one thing here. We can first get dummy features on categorical column and then use KNNImputer to impute the missing values."
      ],
      "metadata": {
        "id": "7zvetaRe7Mx0"
      }
    },
    {
      "cell_type": "code",
      "source": [
        "# Getting dummy variables\n",
        "df_with_dummy = pd.get_dummies(df, prefix = '', prefix_sep = '')"
      ],
      "metadata": {
        "id": "VQJ6dMZ6GFqV"
      },
      "execution_count": 7,
      "outputs": []
    },
    {
      "cell_type": "code",
      "source": [
        "# Imputing missing data using KNN Imputer\n",
        "from sklearn.impute import KNNImputer\n",
        "imputer = KNNImputer(n_neighbors = 3)\n",
        "df_with_no_na = imputer.fit_transform(df_with_dummy)"
      ],
      "metadata": {
        "id": "x5KWp6LQ73KH"
      },
      "execution_count": 8,
      "outputs": []
    },
    {
      "cell_type": "code",
      "source": [
        "df_with_no_na = pd.DataFrame(df_with_no_na, columns = df_with_dummy.columns)"
      ],
      "metadata": {
        "id": "54HHYIy6IeUQ"
      },
      "execution_count": 9,
      "outputs": []
    },
    {
      "cell_type": "markdown",
      "source": [
        "Cool! Now let's impute the new modified columns to the main dataset."
      ],
      "metadata": {
        "id": "XUwavl2hJeEO"
      }
    },
    {
      "cell_type": "code",
      "source": [
        "# Replace columns with na values\n",
        "df['Total_Past_Communications'] = df_with_no_na['Total_Past_Communications'].values\n",
        "df['Total_Links'] = df_with_no_na['Total_Links'].values\n",
        "df['Total_Images'] = df_with_no_na['Total_Images'].values"
      ],
      "metadata": {
        "id": "M51lIxFRJrGk"
      },
      "execution_count": 10,
      "outputs": []
    },
    {
      "cell_type": "code",
      "source": [
        "# Check the info again\n",
        "df.info()"
      ],
      "metadata": {
        "colab": {
          "base_uri": "https://localhost:8080/"
        },
        "id": "D7ENN4t0JzE4",
        "outputId": "e04cd158-a495-4d9b-cfd5-55568f949191"
      },
      "execution_count": 11,
      "outputs": [
        {
          "output_type": "stream",
          "name": "stdout",
          "text": [
            "<class 'pandas.core.frame.DataFrame'>\n",
            "Index: 68353 entries, EMA00081000034500 to EMA00089999316900\n",
            "Data columns (total 11 columns):\n",
            " #   Column                     Non-Null Count  Dtype  \n",
            "---  ------                     --------------  -----  \n",
            " 0   Email_Type                 68353 non-null  int64  \n",
            " 1   Subject_Hotness_Score      68353 non-null  float64\n",
            " 2   Email_Source_Type          68353 non-null  int64  \n",
            " 3   Customer_Location          56758 non-null  object \n",
            " 4   Email_Campaign_Type        68353 non-null  int64  \n",
            " 5   Total_Past_Communications  68353 non-null  float64\n",
            " 6   Time_Email_sent_Category   68353 non-null  int64  \n",
            " 7   Word_Count                 68353 non-null  int64  \n",
            " 8   Total_Links                68353 non-null  float64\n",
            " 9   Total_Images               68353 non-null  float64\n",
            " 10  Email_Status               68353 non-null  int64  \n",
            "dtypes: float64(4), int64(6), object(1)\n",
            "memory usage: 6.3+ MB\n"
          ]
        }
      ]
    },
    {
      "cell_type": "markdown",
      "source": [
        "Awesome! Now let's do something about the categorical column. I am going to use ML to solve this problem. I will build a simple Decision Trees model to predict Customer Location based on other features which will be trained on non-null observations and will predict on null observations."
      ],
      "metadata": {
        "id": "veG-KhfyKppN"
      }
    },
    {
      "cell_type": "code",
      "source": [
        "# Preparing the data\n",
        "df_with_no_null_cust_loc = df[df['Customer_Location'].isna() == False]\n",
        "df_with_null_cust_loc = df[df['Customer_Location'].isna() == True]"
      ],
      "metadata": {
        "id": "SgskCNvlHkzl"
      },
      "execution_count": 13,
      "outputs": []
    },
    {
      "cell_type": "code",
      "source": [
        "# Getting Training set\n",
        "X_train = df_with_no_null_cust_loc.drop(['Customer_Location'], axis = 1)\n",
        "y_train = df_with_no_null_cust_loc['Customer_Location']\n",
        "X_test = df_with_null_cust_loc.drop(['Customer_Location'], axis = 1)\n",
        "\n",
        "# Importing Decision Tree Classifier\n",
        "from sklearn.tree import DecisionTreeClassifier\n",
        "\n",
        "# Fitting the model\n",
        "dtree_model = DecisionTreeClassifier(max_depth=30).fit(X_train, y_train)\n",
        "\n",
        "# Getting accuracy on train set\n",
        "print(dtree_model.score(X_train, y_train))"
      ],
      "metadata": {
        "colab": {
          "base_uri": "https://localhost:8080/"
        },
        "id": "Nn88uYqrII2y",
        "outputId": "6602bd18-e93e-47b1-f6be-6e55514d9df9"
      },
      "execution_count": 24,
      "outputs": [
        {
          "output_type": "stream",
          "name": "stdout",
          "text": [
            "0.9337714507206033\n"
          ]
        }
      ]
    },
    {
      "cell_type": "markdown",
      "source": [
        "Pretty good! Now I will use this model to get my Customer Locations filled."
      ],
      "metadata": {
        "id": "Ps1qCXy8J-ae"
      }
    },
    {
      "cell_type": "code",
      "source": [
        "# Getting predictions and saving it with null valued dataset\n",
        "prediction = pd.DataFrame(dtree_model.predict(X_test), columns = ['Customer_Location'], index = df_with_null_cust_loc.index)\n",
        "df_with_null_cust_loc = pd.merge(df_with_null_cust_loc, prediction[['Customer_Location']],how = 'left',left_index = True, right_index = True)"
      ],
      "metadata": {
        "id": "5IhVBb6bIMGy"
      },
      "execution_count": 50,
      "outputs": []
    },
    {
      "cell_type": "code",
      "source": [
        "# Replacing nulls with predicted values in the original dataset\n",
        "df.loc[df['Customer_Location'].isna() == True, 'Customer_Location'] = df_with_null_cust_loc['Customer_Location']"
      ],
      "metadata": {
        "id": "J4q5HNGlKNbA"
      },
      "execution_count": 59,
      "outputs": []
    },
    {
      "cell_type": "code",
      "source": [
        "# Check info again\n",
        "df.info()"
      ],
      "metadata": {
        "colab": {
          "base_uri": "https://localhost:8080/"
        },
        "id": "asJ61sQONy2Q",
        "outputId": "ecdfdd25-cd67-4de3-fcef-ba5709759468"
      },
      "execution_count": 61,
      "outputs": [
        {
          "output_type": "stream",
          "name": "stdout",
          "text": [
            "<class 'pandas.core.frame.DataFrame'>\n",
            "Index: 68353 entries, EMA00081000034500 to EMA00089999316900\n",
            "Data columns (total 11 columns):\n",
            " #   Column                     Non-Null Count  Dtype  \n",
            "---  ------                     --------------  -----  \n",
            " 0   Email_Type                 68353 non-null  int64  \n",
            " 1   Subject_Hotness_Score      68353 non-null  float64\n",
            " 2   Email_Source_Type          68353 non-null  int64  \n",
            " 3   Customer_Location          68353 non-null  object \n",
            " 4   Email_Campaign_Type        68353 non-null  int64  \n",
            " 5   Total_Past_Communications  68353 non-null  float64\n",
            " 6   Time_Email_sent_Category   68353 non-null  int64  \n",
            " 7   Word_Count                 68353 non-null  int64  \n",
            " 8   Total_Links                68353 non-null  float64\n",
            " 9   Total_Images               68353 non-null  float64\n",
            " 10  Email_Status               68353 non-null  int64  \n",
            "dtypes: float64(4), int64(6), object(1)\n",
            "memory usage: 8.8+ MB\n"
          ]
        }
      ]
    },
    {
      "cell_type": "markdown",
      "source": [
        "Alright! Now we are done with the treatment of null values. Now let's have some visualizations!"
      ],
      "metadata": {
        "id": "BTp30Eo5Pb80"
      }
    },
    {
      "cell_type": "markdown",
      "source": [
        "### **Visualizations :**"
      ],
      "metadata": {
        "id": "oOMY8AK6QLOU"
      }
    },
    {
      "cell_type": "code",
      "source": [
        "# Plotting bar plot for Email_Type\n",
        "plt.figure(figsize=(6,7))\n",
        "sns.countplot(df['Email_Type'])\n",
        "plt.title('Email Types bar plot', fontsize=15)"
      ],
      "metadata": {
        "colab": {
          "base_uri": "https://localhost:8080/",
          "height": 533
        },
        "id": "f7-NvdCTPKJO",
        "outputId": "da20835e-5137-4fd5-ca73-1aa588e88258"
      },
      "execution_count": 70,
      "outputs": [
        {
          "output_type": "stream",
          "name": "stderr",
          "text": [
            "/usr/local/lib/python3.7/dist-packages/seaborn/_decorators.py:43: FutureWarning: Pass the following variable as a keyword arg: x. From version 0.12, the only valid positional argument will be `data`, and passing other arguments without an explicit keyword will result in an error or misinterpretation.\n",
            "  FutureWarning\n"
          ]
        },
        {
          "output_type": "execute_result",
          "data": {
            "text/plain": [
              "Text(0.5, 1.0, 'Email Types bar plot')"
            ]
          },
          "metadata": {},
          "execution_count": 70
        },
        {
          "output_type": "display_data",
          "data": {
            "image/png": "[encoded data removed]",
            "text/plain": [
              "<Figure size 432x504 with 1 Axes>"
            ]
          },
          "metadata": {
            "needs_background": "light"
          }
        }
      ]
    },
    {
      "cell_type": "code",
      "source": [
        "# Plotting histogram for Subject_Hotness_Score\n",
        "plt.figure(figsize=(10,6))\n",
        "sns.distplot(df['Subject_Hotness_Score'])\n",
        "plt.title('Distribution of Subject Hotness Score', fontsize=15)"
      ],
      "metadata": {
        "colab": {
          "base_uri": "https://localhost:8080/",
          "height": 479
        },
        "id": "yPf2vaINQtbB",
        "outputId": "21012688-1809-40d2-c202-72cd48372d67"
      },
      "execution_count": 73,
      "outputs": [
        {
          "output_type": "stream",
          "name": "stderr",
          "text": [
            "/usr/local/lib/python3.7/dist-packages/seaborn/distributions.py:2619: FutureWarning: `distplot` is a deprecated function and will be removed in a future version. Please adapt your code to use either `displot` (a figure-level function with similar flexibility) or `histplot` (an axes-level function for histograms).\n",
            "  warnings.warn(msg, FutureWarning)\n"
          ]
        },
        {
          "output_type": "execute_result",
          "data": {
            "text/plain": [
              "Text(0.5, 1.0, 'Distribution of Subject Hotness Score')"
            ]
          },
          "metadata": {},
          "execution_count": 73
        },
        {
          "output_type": "display_data",
          "data": {
            "image/png": "[encoded data removed]",
            "text/plain": [
              "<Figure size 720x432 with 1 Axes>"
            ]
          },
          "metadata": {
            "needs_background": "light"
          }
        }
      ]
    },
    {
      "cell_type": "code",
      "source": [
        "# Plotting bar plot for Email_Source_Type\n",
        "plt.figure(figsize=(6,7))\n",
        "sns.countplot(df['Email_Source_Type'])\n",
        "plt.title('Email Source Types bar plot', fontsize=15)"
      ],
      "metadata": {
        "colab": {
          "base_uri": "https://localhost:8080/",
          "height": 533
        },
        "id": "eQEk4Ij4RXnE",
        "outputId": "0be9829c-163c-45ed-bd10-36f8ee2a29ee"
      },
      "execution_count": 74,
      "outputs": [
        {
          "output_type": "stream",
          "name": "stderr",
          "text": [
            "/usr/local/lib/python3.7/dist-packages/seaborn/_decorators.py:43: FutureWarning: Pass the following variable as a keyword arg: x. From version 0.12, the only valid positional argument will be `data`, and passing other arguments without an explicit keyword will result in an error or misinterpretation.\n",
            "  FutureWarning\n"
          ]
        },
        {
          "output_type": "execute_result",
          "data": {
            "text/plain": [
              "Text(0.5, 1.0, 'Email Source Types bar plot')"
            ]
          },
          "metadata": {},
          "execution_count": 74
        },
        {
          "output_type": "display_data",
          "data": {
            "image/png": "[encoded data removed]",
            "text/plain": [
              "<Figure size 432x504 with 1 Axes>"
            ]
          },
          "metadata": {
            "needs_background": "light"
          }
        }
      ]
    },
    {
      "cell_type": "code",
      "source": [
        "plt.figure(figsize=(12,7))\n",
        "\n",
        "# Reading the dataset again\n",
        "df1 = pd.read_csv('/content/drive/MyDrive/Classification Project/Copy of data_email_campaign.csv', index_col='Email_ID')\n",
        "\n",
        "# Plotting Customer Locations with null values\n",
        "plt.subplot(1,2,1)\n",
        "sns.countplot(df1['Customer_Location'])\n",
        "plt.title('Customer Locations bar plot with null values', fontsize=15)\n",
        "\n",
        "# Plotting bar plot for Customer_Location\n",
        "plt.subplot(1,2,2)\n",
        "sns.countplot(df['Customer_Location'])\n",
        "plt.title('Customer Locations bar plot after imputing nulls', fontsize=15)"
      ],
      "metadata": {
        "colab": {
          "base_uri": "https://localhost:8080/",
          "height": 568
        },
        "id": "fohi-nNmRnXD",
        "outputId": "11fa60c5-79c3-4a10-8a71-d593ba96028b"
      },
      "execution_count": 83,
      "outputs": [
        {
          "output_type": "stream",
          "name": "stderr",
          "text": [
            "/usr/local/lib/python3.7/dist-packages/seaborn/_decorators.py:43: FutureWarning: Pass the following variable as a keyword arg: x. From version 0.12, the only valid positional argument will be `data`, and passing other arguments without an explicit keyword will result in an error or misinterpretation.\n",
            "  FutureWarning\n",
            "/usr/local/lib/python3.7/dist-packages/seaborn/_decorators.py:43: FutureWarning: Pass the following variable as a keyword arg: x. From version 0.12, the only valid positional argument will be `data`, and passing other arguments without an explicit keyword will result in an error or misinterpretation.\n",
            "  FutureWarning\n"
          ]
        },
        {
          "output_type": "execute_result",
          "data": {
            "text/plain": [
              "Text(0.5, 1.0, 'Customer Locations bar plot after imputing nulls')"
            ]
          },
          "metadata": {},
          "execution_count": 83
        },
        {
          "output_type": "display_data",
          "data": {
            "image/png": "[encoded data removed]",
            "text/plain": [
              "<Figure size 864x504 with 2 Axes>"
            ]
          },
          "metadata": {
            "needs_background": "light"
          }
        }
      ]
    },
    {
      "cell_type": "code",
      "source": [
        ""
      ],
      "metadata": {
        "id": "lb85F9vAR7ii"
      },
      "execution_count": null,
      "outputs": []
    }
  ]
}